{
 "cells": [
  {
   "cell_type": "code",
   "execution_count": 1,
   "metadata": {},
   "outputs": [],
   "source": [
    "# import necessary library\n",
    "from time import time\n",
    "import numpy as np\n",
    "import pandas as pd\n",
    "from IPython.display import display\n",
    "\n",
    "from scipy.stats import entropy\n",
    "import os\n",
    "from sklearn.ensemble import AdaBoostRegressor\n",
    "from sklearn.ensemble import BaggingRegressor\n",
    "from sklearn.ensemble import ExtraTreesRegressor\n",
    "from sklearn.ensemble import GradientBoostingRegressor\n",
    "from sklearn.ensemble import RandomForestRegressor\n",
    "\n",
    "from sklearn.metrics import mean_squared_error\n",
    "from sklearn.model_selection import cross_val_score\n",
    "from sklearn.model_selection import RandomizedSearchCV\n",
    "from sklearn.model_selection import TimeSeriesSplit\n",
    "\n",
    "\n",
    "import matplotlib.pyplot as plt\n",
    "%matplotlib inline"
   ]
  },
  {
   "cell_type": "markdown",
   "metadata": {},
   "source": [
    "### Load the data"
   ]
  },
  {
   "cell_type": "code",
   "execution_count": 2,
   "metadata": {},
   "outputs": [],
   "source": [
    "dftrain = pd.read_pickle('data_train.p')\n",
    "dftest = pd.read_pickle('data_test.p')"
   ]
  },
  {
   "cell_type": "code",
   "execution_count": 4,
   "metadata": {},
   "outputs": [],
   "source": [
    "extra_columns = ['business_id', \n",
    "                 'date', \n",
    "                 'text', \n",
    "                 'user_id', \n",
    "                 'BestNights']\n",
    "dummy_cols = ['NoiseLevel', 'WiFi', 'Smoking', 'AgesAllowed']\n",
    "target = 'stars'"
   ]
  },
  {
   "cell_type": "code",
   "execution_count": 5,
   "metadata": {},
   "outputs": [],
   "source": [
    "def data_to_model(raw_data, dummy_cols, extra_columns, normalize_using=None):\n",
    "    df_X = raw_data.drop(extra_columns + dummy_cols + [target], axis=1)\n",
    "    if normalize_using is not None:\n",
    "        df_norm = normalize_using.drop(extra_columns + dummy_cols + [target], axis=1)\n",
    "    df_y = raw_data[target]\n",
    "    \n",
    "    for dummy_col in dummy_cols:\n",
    "        df_dummy = pd.get_dummies(raw_data[dummy_col], prefix=dummy_col)\n",
    "        df_X = df_X.join(df_dummy)\n",
    "        if normalize_using is not None:\n",
    "            norm_dummy = pd.get_dummies(normalize_using[dummy_col], prefix=dummy_col)\n",
    "            df_norm = df_norm.join(norm_dummy)\n",
    "        \n",
    "    if normalize_using is None:\n",
    "        df_norm = df_X\n",
    "        \n",
    "    normalize(df_X, df_norm)\n",
    "    return df_X.fillna(0), df_y\n",
    "\n",
    "\n",
    "def normalize(df_X, normalize_using):\n",
    "    # memory saving normalization\n",
    "    for col in df_X.columns:\n",
    "        # print('normalizing %s' % col)\n",
    "        norm_mean = np.mean(normalize_using[col].astype(float))\n",
    "        norm_std = np.std(normalize_using[col].astype(float))\n",
    "        df_X[col] = (df_X[col].astype(float) - norm_mean) / norm_std\n",
    "        \n",
    "        \n",
    "def mse_loss(preds, truths):\n",
    "    assert len(preds) == len(truths)\n",
    "    sse = 0.\n",
    "    for i in range(len(preds)):\n",
    "        sse += (preds[i] - truths[i]) ** 2\n",
    "    return - sse / len(preds)"
   ]
  },
  {
   "cell_type": "code",
   "execution_count": 6,
   "metadata": {},
   "outputs": [],
   "source": [
    "df_X, df_y = data_to_model(dftrain, dummy_cols, extra_columns, dftrain)\n",
    "df_Xtest, df_ytest = data_to_model(dftest, dummy_cols, extra_columns, dftrain)"
   ]
  },
  {
   "cell_type": "code",
   "execution_count": 7,
   "metadata": {},
   "outputs": [],
   "source": [
    "X = df_X.values\n",
    "y = df_y.values"
   ]
  },
  {
   "cell_type": "code",
   "execution_count": 8,
   "metadata": {},
   "outputs": [],
   "source": [
    "# filling missing dummies with 0\n",
    "for col in df_X.columns:\n",
    "    if col not in df_Xtest.columns:   \n",
    "        df_Xtest[col] = 0"
   ]
  },
  {
   "cell_type": "markdown",
   "metadata": {},
   "source": [
    "### Models"
   ]
  },
  {
   "cell_type": "markdown",
   "metadata": {},
   "source": [
    "### Feature Selection"
   ]
  },
  {
   "cell_type": "code",
   "execution_count": 9,
   "metadata": {},
   "outputs": [
    {
     "name": "stderr",
     "output_type": "stream",
     "text": [
      "/Users/huyunan/anaconda3/envs/nlpclass/lib/python3.6/site-packages/sklearn/ensemble/forest.py:248: FutureWarning: The default value of n_estimators will change from 10 in version 0.20 to 100 in 0.22.\n",
      "  \"10 in version 0.20 to 100 in 0.22.\", FutureWarning)\n"
     ]
    }
   ],
   "source": [
    "RandomForestsf = RandomForestRegressor()\n",
    "RandomForestsf.fit(df_X, df_y)\n",
    "feature_list = [feature for feature in zip(df_X.columns, RandomForestsf.feature_importances_)]\n",
    "feature_list.sort(key=lambda x: x[1], reverse=True)\n",
    "feature_list = feature_list[:len(feature_list)//2]\n",
    "feature_selected = [x[0] for x in feature_list]\n",
    "df_X = df_X[feature_selected]\n",
    "df_Xtest = df_Xtest[feature_selected]"
   ]
  },
  {
   "cell_type": "markdown",
   "metadata": {},
   "source": [
    "### Cross-Validation "
   ]
  },
  {
   "cell_type": "code",
   "execution_count": 10,
   "metadata": {},
   "outputs": [],
   "source": [
    "preds_dict_AdaBoost = {\"n_estimators\": [25, 50, 75],\n",
    "              \"learning_rate\": [0.1, 0.5, 1]}\n",
    "preds_dict_Bagging = {\"n_estimators\": [5, 10, 20],\n",
    "              \"max_samples\": [0.5, 0.75, 1],\n",
    "              \"max_features\": [0.5, 0.75, 1]}\n",
    "preds_dict_ExtraTrees = {\"n_estimators\": [5, 10, 20],\n",
    "              \"min_samples_split\": [2, 4, 6],\n",
    "              \"min_samples_leaf\": [1, 2, 3]}\n",
    "preds_dict_GradientBoosting = {\"n_estimators\": [50, 100, 150],\n",
    "              \"min_samples_split\": [2, 4, 6],\n",
    "              \"min_samples_leaf\": [1, 2, 3]}\n",
    "preds_dict_RandomForest = {\"n_estimators\": [5, 10, 20],\n",
    "              \"min_samples_split\": [2, 4, 6],\n",
    "              \"min_samples_leaf\": [1, 2, 3]}"
   ]
  },
  {
   "cell_type": "code",
   "execution_count": 11,
   "metadata": {},
   "outputs": [
    {
     "name": "stdout",
     "output_type": "stream",
     "text": [
      "RandomizedSearchCV took 764.48 seconds for 3 candidates parameter settings.\n"
     ]
    },
    {
     "name": "stderr",
     "output_type": "stream",
     "text": [
      "/Users/BingZou/miniconda3/envs/py37/lib/python3.6/site-packages/sklearn/utils/deprecation.py:125: FutureWarning: You are accessing a training score ('split0_train_score'), which will not be available by default any more in 0.21. If you need training scores, please set return_train_score=True\n",
      "  warnings.warn(*warn_args, **warn_kwargs)\n",
      "/Users/BingZou/miniconda3/envs/py37/lib/python3.6/site-packages/sklearn/utils/deprecation.py:125: FutureWarning: You are accessing a training score ('split1_train_score'), which will not be available by default any more in 0.21. If you need training scores, please set return_train_score=True\n",
      "  warnings.warn(*warn_args, **warn_kwargs)\n",
      "/Users/BingZou/miniconda3/envs/py37/lib/python3.6/site-packages/sklearn/utils/deprecation.py:125: FutureWarning: You are accessing a training score ('split2_train_score'), which will not be available by default any more in 0.21. If you need training scores, please set return_train_score=True\n",
      "  warnings.warn(*warn_args, **warn_kwargs)\n",
      "/Users/BingZou/miniconda3/envs/py37/lib/python3.6/site-packages/sklearn/utils/deprecation.py:125: FutureWarning: You are accessing a training score ('mean_train_score'), which will not be available by default any more in 0.21. If you need training scores, please set return_train_score=True\n",
      "  warnings.warn(*warn_args, **warn_kwargs)\n",
      "/Users/BingZou/miniconda3/envs/py37/lib/python3.6/site-packages/sklearn/utils/deprecation.py:125: FutureWarning: You are accessing a training score ('std_train_score'), which will not be available by default any more in 0.21. If you need training scores, please set return_train_score=True\n",
      "  warnings.warn(*warn_args, **warn_kwargs)\n"
     ]
    },
    {
     "data": {
      "text/plain": [
       "{'mean_fit_time': array([171.49739361,  19.59745232,  38.57980371]),\n",
       " 'std_fit_time': array([66.85814878,  7.52070552, 15.70194981]),\n",
       " 'mean_score_time': array([0.91712395, 0.11149025, 0.18931524]),\n",
       " 'std_score_time': array([0.0754889 , 0.01973094, 0.00296155]),\n",
       " 'param_n_estimators': masked_array(data=[75, 50, 25],\n",
       "              mask=[False, False, False],\n",
       "        fill_value='?',\n",
       "             dtype=object),\n",
       " 'param_learning_rate': masked_array(data=[0.1, 1, 0.5],\n",
       "              mask=[False, False, False],\n",
       "        fill_value='?',\n",
       "             dtype=object),\n",
       " 'params': [{'n_estimators': 75, 'learning_rate': 0.1},\n",
       "  {'n_estimators': 50, 'learning_rate': 1},\n",
       "  {'n_estimators': 25, 'learning_rate': 0.5}],\n",
       " 'split0_test_score': array([-1.33226782, -1.33148722, -1.33086199]),\n",
       " 'split1_test_score': array([-1.39030702, -1.38725095, -1.39216532]),\n",
       " 'split2_test_score': array([-1.62118476, -1.62288108, -1.6226199 ]),\n",
       " 'mean_test_score': array([-1.44791986, -1.44720642, -1.44854907]),\n",
       " 'std_test_score': array([0.12478696, 0.12628959, 0.12560524]),\n",
       " 'rank_test_score': array([2, 1, 3], dtype=int32),\n",
       " 'split0_train_score': array([-1.23943087, -1.2365711 , -1.2396281 ]),\n",
       " 'split1_train_score': array([-1.28747115, -1.28277069, -1.29012796]),\n",
       " 'split2_train_score': array([-1.32472633, -1.31836387, -1.32383556]),\n",
       " 'mean_train_score': array([-1.28387612, -1.27923522, -1.28453054]),\n",
       " 'std_train_score': array([0.03491439, 0.03348521, 0.03460465])}"
      ]
     },
     "execution_count": 11,
     "metadata": {},
     "output_type": "execute_result"
    }
   ],
   "source": [
    "#Hyperparameter search\n",
    "\n",
    "n_iter_search = 3\n",
    "random_search_AdaBoost = RandomizedSearchCV(AdaBoostRegressor(), param_distributions=preds_dict_AdaBoost,\n",
    "                                   n_iter=n_iter_search, cv=TimeSeriesSplit(n_splits=3), scoring='neg_mean_squared_error')\n",
    "\n",
    "start = time()\n",
    "random_search_AdaBoost.fit(X, y)\n",
    "print(\"RandomizedSearchCV took %.2f seconds for %d candidates\"\n",
    "      \" parameter settings.\" % ((time() - start), n_iter_search))\n",
    "random_search_AdaBoost.cv_results_\n"
   ]
  },
  {
   "cell_type": "code",
   "execution_count": 12,
   "metadata": {},
   "outputs": [
    {
     "name": "stdout",
     "output_type": "stream",
     "text": [
      "RandomizedSearchCV took 426.42 seconds for 3 candidates parameter settings.\n"
     ]
    },
    {
     "name": "stderr",
     "output_type": "stream",
     "text": [
      "/Users/BingZou/miniconda3/envs/py37/lib/python3.6/site-packages/sklearn/utils/deprecation.py:125: FutureWarning: You are accessing a training score ('split0_train_score'), which will not be available by default any more in 0.21. If you need training scores, please set return_train_score=True\n",
      "  warnings.warn(*warn_args, **warn_kwargs)\n",
      "/Users/BingZou/miniconda3/envs/py37/lib/python3.6/site-packages/sklearn/utils/deprecation.py:125: FutureWarning: You are accessing a training score ('split1_train_score'), which will not be available by default any more in 0.21. If you need training scores, please set return_train_score=True\n",
      "  warnings.warn(*warn_args, **warn_kwargs)\n",
      "/Users/BingZou/miniconda3/envs/py37/lib/python3.6/site-packages/sklearn/utils/deprecation.py:125: FutureWarning: You are accessing a training score ('split2_train_score'), which will not be available by default any more in 0.21. If you need training scores, please set return_train_score=True\n",
      "  warnings.warn(*warn_args, **warn_kwargs)\n",
      "/Users/BingZou/miniconda3/envs/py37/lib/python3.6/site-packages/sklearn/utils/deprecation.py:125: FutureWarning: You are accessing a training score ('mean_train_score'), which will not be available by default any more in 0.21. If you need training scores, please set return_train_score=True\n",
      "  warnings.warn(*warn_args, **warn_kwargs)\n",
      "/Users/BingZou/miniconda3/envs/py37/lib/python3.6/site-packages/sklearn/utils/deprecation.py:125: FutureWarning: You are accessing a training score ('std_train_score'), which will not be available by default any more in 0.21. If you need training scores, please set return_train_score=True\n",
      "  warnings.warn(*warn_args, **warn_kwargs)\n"
     ]
    },
    {
     "data": {
      "text/plain": [
       "{'mean_fit_time': array([56.9209276 ,  3.60829075, 30.04609172]),\n",
       " 'std_fit_time': array([27.00388248,  1.34874704, 12.77263769]),\n",
       " 'mean_score_time': array([2.24169707, 1.2686491 , 0.73370155]),\n",
       " 'std_score_time': array([0.28390299, 0.16714453, 0.02188927]),\n",
       " 'param_n_estimators': masked_array(data=[20, 10, 5],\n",
       "              mask=[False, False, False],\n",
       "        fill_value='?',\n",
       "             dtype=object),\n",
       " 'param_max_samples': masked_array(data=[0.5, 1, 0.75],\n",
       "              mask=[False, False, False],\n",
       "        fill_value='?',\n",
       "             dtype=object),\n",
       " 'param_max_features': masked_array(data=[0.5, 0.75, 0.75],\n",
       "              mask=[False, False, False],\n",
       "        fill_value='?',\n",
       "             dtype=object),\n",
       " 'params': [{'n_estimators': 20, 'max_samples': 0.5, 'max_features': 0.5},\n",
       "  {'n_estimators': 10, 'max_samples': 1, 'max_features': 0.75},\n",
       "  {'n_estimators': 5, 'max_samples': 0.75, 'max_features': 0.75}],\n",
       " 'split0_test_score': array([-1.38963396, -1.53625857, -1.6094763 ]),\n",
       " 'split1_test_score': array([-1.44061189, -1.60941865, -1.63187998]),\n",
       " 'split2_test_score': array([-1.69033685, -2.46000886, -1.90667335]),\n",
       " 'mean_test_score': array([-1.5068609 , -1.86856203, -1.71600988]),\n",
       " 'std_test_score': array([0.13139573, 0.41928122, 0.13512933]),\n",
       " 'rank_test_score': array([1, 3, 2], dtype=int32),\n",
       " 'split0_train_score': array([-0.49329361, -1.41139271, -0.44979601]),\n",
       " 'split1_train_score': array([-0.51524592, -1.47639948, -0.46104994]),\n",
       " 'split2_train_score': array([-0.53007673, -1.85196986, -0.47981695]),\n",
       " 'mean_train_score': array([-0.51287208, -1.57992068, -0.4635543 ]),\n",
       " 'std_train_score': array([0.01511017, 0.19418983, 0.01238327])}"
      ]
     },
     "execution_count": 12,
     "metadata": {},
     "output_type": "execute_result"
    }
   ],
   "source": [
    "#Hyperparameter search\n",
    "n_iter_search = 3\n",
    "random_search_Bagging = RandomizedSearchCV(BaggingRegressor(), param_distributions=preds_dict_Bagging,\n",
    "                                   n_iter=n_iter_search, cv=TimeSeriesSplit(n_splits=3), scoring='neg_mean_squared_error')\n",
    "\n",
    "start = time()\n",
    "random_search_Bagging.fit(X, y)\n",
    "print(\"RandomizedSearchCV took %.2f seconds for %d candidates\"\n",
    "      \" parameter settings.\" % ((time() - start), n_iter_search))\n",
    "random_search_Bagging.cv_results_\n"
   ]
  },
  {
   "cell_type": "code",
   "execution_count": 13,
   "metadata": {},
   "outputs": [
    {
     "name": "stdout",
     "output_type": "stream",
     "text": [
      "RandomizedSearchCV took 670.85 seconds for 3 candidates parameter settings.\n"
     ]
    },
    {
     "name": "stderr",
     "output_type": "stream",
     "text": [
      "/Users/BingZou/miniconda3/envs/py37/lib/python3.6/site-packages/sklearn/utils/deprecation.py:125: FutureWarning: You are accessing a training score ('split0_train_score'), which will not be available by default any more in 0.21. If you need training scores, please set return_train_score=True\n",
      "  warnings.warn(*warn_args, **warn_kwargs)\n",
      "/Users/BingZou/miniconda3/envs/py37/lib/python3.6/site-packages/sklearn/utils/deprecation.py:125: FutureWarning: You are accessing a training score ('split1_train_score'), which will not be available by default any more in 0.21. If you need training scores, please set return_train_score=True\n",
      "  warnings.warn(*warn_args, **warn_kwargs)\n",
      "/Users/BingZou/miniconda3/envs/py37/lib/python3.6/site-packages/sklearn/utils/deprecation.py:125: FutureWarning: You are accessing a training score ('split2_train_score'), which will not be available by default any more in 0.21. If you need training scores, please set return_train_score=True\n",
      "  warnings.warn(*warn_args, **warn_kwargs)\n",
      "/Users/BingZou/miniconda3/envs/py37/lib/python3.6/site-packages/sklearn/utils/deprecation.py:125: FutureWarning: You are accessing a training score ('mean_train_score'), which will not be available by default any more in 0.21. If you need training scores, please set return_train_score=True\n",
      "  warnings.warn(*warn_args, **warn_kwargs)\n",
      "/Users/BingZou/miniconda3/envs/py37/lib/python3.6/site-packages/sklearn/utils/deprecation.py:125: FutureWarning: You are accessing a training score ('std_train_score'), which will not be available by default any more in 0.21. If you need training scores, please set return_train_score=True\n",
      "  warnings.warn(*warn_args, **warn_kwargs)\n"
     ]
    },
    {
     "data": {
      "text/plain": [
       "{'mean_fit_time': array([24.82416073, 96.13008229, 26.66192396]),\n",
       " 'std_fit_time': array([11.42755102, 52.194983  , 12.27902266]),\n",
       " 'mean_score_time': array([0.16628249, 0.65971502, 0.17438714]),\n",
       " 'std_score_time': array([0.01597649, 0.15533085, 0.03077672]),\n",
       " 'param_n_estimators': masked_array(data=[5, 20, 5],\n",
       "              mask=[False, False, False],\n",
       "        fill_value='?',\n",
       "             dtype=object),\n",
       " 'param_min_samples_split': masked_array(data=[6, 4, 6],\n",
       "              mask=[False, False, False],\n",
       "        fill_value='?',\n",
       "             dtype=object),\n",
       " 'param_min_samples_leaf': masked_array(data=[2, 2, 1],\n",
       "              mask=[False, False, False],\n",
       "        fill_value='?',\n",
       "             dtype=object),\n",
       " 'params': [{'n_estimators': 5, 'min_samples_split': 6, 'min_samples_leaf': 2},\n",
       "  {'n_estimators': 20, 'min_samples_split': 4, 'min_samples_leaf': 2},\n",
       "  {'n_estimators': 5, 'min_samples_split': 6, 'min_samples_leaf': 1}],\n",
       " 'split0_test_score': array([-1.53434838, -1.38016741, -1.5875688 ]),\n",
       " 'split1_test_score': array([-1.58763799, -1.4261004 , -1.62574303]),\n",
       " 'split2_test_score': array([-1.83568903, -1.65982728, -1.86506769]),\n",
       " 'mean_test_score': array([-1.65255846, -1.48869836, -1.69279317]),\n",
       " 'std_test_score': array([0.13130765, 0.12245078, 0.12280934]),\n",
       " 'rank_test_score': array([2, 1, 3], dtype=int32),\n",
       " 'split0_train_score': array([-0.13647074, -0.05149642, -0.07929417]),\n",
       " 'split1_train_score': array([-0.13174711, -0.04762867, -0.0767318 ]),\n",
       " 'split2_train_score': array([-0.1285061 , -0.04565985, -0.07473969]),\n",
       " 'mean_train_score': array([-0.13224132, -0.04826165, -0.07692189]),\n",
       " 'std_train_score': array([0.00327027, 0.00242444, 0.00186421])}"
      ]
     },
     "execution_count": 13,
     "metadata": {},
     "output_type": "execute_result"
    }
   ],
   "source": [
    "#Hyperparameter search\n",
    "n_iter_search = 3\n",
    "random_search_ExtraTrees = RandomizedSearchCV(ExtraTreesRegressor(), param_distributions=preds_dict_ExtraTrees,\n",
    "                                   n_iter=n_iter_search, cv=TimeSeriesSplit(n_splits=3), scoring='neg_mean_squared_error')\n",
    "\n",
    "start = time()\n",
    "random_search_ExtraTrees.fit(X, y)\n",
    "print(\"RandomizedSearchCV took %.2f seconds for %d candidates\"\n",
    "      \" parameter settings.\" % ((time() - start), n_iter_search))\n",
    "random_search_ExtraTrees.cv_results_\n"
   ]
  },
  {
   "cell_type": "code",
   "execution_count": 14,
   "metadata": {},
   "outputs": [
    {
     "name": "stdout",
     "output_type": "stream",
     "text": [
      "RandomizedSearchCV took 5636.82 seconds for 3 candidates parameter settings.\n"
     ]
    },
    {
     "name": "stderr",
     "output_type": "stream",
     "text": [
      "/Users/BingZou/miniconda3/envs/py37/lib/python3.6/site-packages/sklearn/utils/deprecation.py:125: FutureWarning: You are accessing a training score ('split0_train_score'), which will not be available by default any more in 0.21. If you need training scores, please set return_train_score=True\n",
      "  warnings.warn(*warn_args, **warn_kwargs)\n",
      "/Users/BingZou/miniconda3/envs/py37/lib/python3.6/site-packages/sklearn/utils/deprecation.py:125: FutureWarning: You are accessing a training score ('split1_train_score'), which will not be available by default any more in 0.21. If you need training scores, please set return_train_score=True\n",
      "  warnings.warn(*warn_args, **warn_kwargs)\n",
      "/Users/BingZou/miniconda3/envs/py37/lib/python3.6/site-packages/sklearn/utils/deprecation.py:125: FutureWarning: You are accessing a training score ('split2_train_score'), which will not be available by default any more in 0.21. If you need training scores, please set return_train_score=True\n",
      "  warnings.warn(*warn_args, **warn_kwargs)\n",
      "/Users/BingZou/miniconda3/envs/py37/lib/python3.6/site-packages/sklearn/utils/deprecation.py:125: FutureWarning: You are accessing a training score ('mean_train_score'), which will not be available by default any more in 0.21. If you need training scores, please set return_train_score=True\n",
      "  warnings.warn(*warn_args, **warn_kwargs)\n",
      "/Users/BingZou/miniconda3/envs/py37/lib/python3.6/site-packages/sklearn/utils/deprecation.py:125: FutureWarning: You are accessing a training score ('std_train_score'), which will not be available by default any more in 0.21. If you need training scores, please set return_train_score=True\n",
      "  warnings.warn(*warn_args, **warn_kwargs)\n"
     ]
    },
    {
     "data": {
      "text/plain": [
       "{'mean_fit_time': array([  96.80570912,  156.98418236, 1528.84622065]),\n",
       " 'std_fit_time': array([  43.38707647,   76.16395569, 2081.50694985]),\n",
       " 'mean_score_time': array([0.40109022, 0.24688196, 0.15453466]),\n",
       " 'std_score_time': array([0.32051729, 0.00463419, 0.01965737]),\n",
       " 'param_n_estimators': masked_array(data=[50, 100, 50],\n",
       "              mask=[False, False, False],\n",
       "        fill_value='?',\n",
       "             dtype=object),\n",
       " 'param_min_samples_split': masked_array(data=[2, 6, 4],\n",
       "              mask=[False, False, False],\n",
       "        fill_value='?',\n",
       "             dtype=object),\n",
       " 'param_min_samples_leaf': masked_array(data=[1, 1, 2],\n",
       "              mask=[False, False, False],\n",
       "        fill_value='?',\n",
       "             dtype=object),\n",
       " 'params': [{'n_estimators': 50,\n",
       "   'min_samples_split': 2,\n",
       "   'min_samples_leaf': 1},\n",
       "  {'n_estimators': 100, 'min_samples_split': 6, 'min_samples_leaf': 1},\n",
       "  {'n_estimators': 50, 'min_samples_split': 4, 'min_samples_leaf': 2}],\n",
       " 'split0_test_score': array([-1.28817445, -1.28275238, -1.28821937]),\n",
       " 'split1_test_score': array([-1.34762736, -1.34116025, -1.34762736]),\n",
       " 'split2_test_score': array([-1.59234827, -1.57885198, -1.59234827]),\n",
       " 'mean_test_score': array([-1.40938336, -1.40092154, -1.40939833]),\n",
       " 'std_test_score': array([0.13163277, 0.12805546, 0.13161899]),\n",
       " 'rank_test_score': array([2, 1, 3], dtype=int32),\n",
       " 'split0_train_score': array([-1.18162033, -1.16903776, -1.18164533]),\n",
       " 'split1_train_score': array([-1.23353716, -1.22280335, -1.23353716]),\n",
       " 'split2_train_score': array([-1.27075357, -1.25998664, -1.27075357]),\n",
       " 'mean_train_score': array([-1.22863702, -1.21727592, -1.22864535]),\n",
       " 'std_train_score': array([0.03655309, 0.03733487, 0.03654237])}"
      ]
     },
     "execution_count": 14,
     "metadata": {},
     "output_type": "execute_result"
    }
   ],
   "source": [
    "#Hyperparameter search\n",
    "n_iter_search = 3\n",
    "random_search_GradientBoosting = RandomizedSearchCV(GradientBoostingRegressor(), param_distributions=preds_dict_GradientBoosting,\n",
    "                                   n_iter=n_iter_search, cv=TimeSeriesSplit(n_splits=3), scoring='neg_mean_squared_error')\n",
    "\n",
    "start = time()\n",
    "random_search_GradientBoosting.fit(X, y)\n",
    "print(\"RandomizedSearchCV took %.2f seconds for %d candidates\"\n",
    "      \" parameter settings.\" % ((time() - start), n_iter_search))\n",
    "random_search_GradientBoosting.cv_results_\n"
   ]
  },
  {
   "cell_type": "code",
   "execution_count": 15,
   "metadata": {},
   "outputs": [
    {
     "name": "stdout",
     "output_type": "stream",
     "text": [
      "RandomizedSearchCV took 743.90 seconds for 3 candidates parameter settings.\n"
     ]
    },
    {
     "name": "stderr",
     "output_type": "stream",
     "text": [
      "/Users/BingZou/miniconda3/envs/py37/lib/python3.6/site-packages/sklearn/utils/deprecation.py:125: FutureWarning: You are accessing a training score ('split0_train_score'), which will not be available by default any more in 0.21. If you need training scores, please set return_train_score=True\n",
      "  warnings.warn(*warn_args, **warn_kwargs)\n",
      "/Users/BingZou/miniconda3/envs/py37/lib/python3.6/site-packages/sklearn/utils/deprecation.py:125: FutureWarning: You are accessing a training score ('split1_train_score'), which will not be available by default any more in 0.21. If you need training scores, please set return_train_score=True\n",
      "  warnings.warn(*warn_args, **warn_kwargs)\n",
      "/Users/BingZou/miniconda3/envs/py37/lib/python3.6/site-packages/sklearn/utils/deprecation.py:125: FutureWarning: You are accessing a training score ('split2_train_score'), which will not be available by default any more in 0.21. If you need training scores, please set return_train_score=True\n",
      "  warnings.warn(*warn_args, **warn_kwargs)\n",
      "/Users/BingZou/miniconda3/envs/py37/lib/python3.6/site-packages/sklearn/utils/deprecation.py:125: FutureWarning: You are accessing a training score ('mean_train_score'), which will not be available by default any more in 0.21. If you need training scores, please set return_train_score=True\n",
      "  warnings.warn(*warn_args, **warn_kwargs)\n",
      "/Users/BingZou/miniconda3/envs/py37/lib/python3.6/site-packages/sklearn/utils/deprecation.py:125: FutureWarning: You are accessing a training score ('std_train_score'), which will not be available by default any more in 0.21. If you need training scores, please set return_train_score=True\n",
      "  warnings.warn(*warn_args, **warn_kwargs)\n"
     ]
    },
    {
     "data": {
      "text/plain": [
       "{'mean_fit_time': array([89.39663061, 43.6453011 , 45.20403552]),\n",
       " 'std_fit_time': array([43.29044499, 20.51524293, 22.30291662]),\n",
       " 'mean_score_time': array([0.30574131, 0.14967132, 0.14504997]),\n",
       " 'std_score_time': array([0.05222438, 0.02316442, 0.0227266 ]),\n",
       " 'param_n_estimators': masked_array(data=[10, 5, 5],\n",
       "              mask=[False, False, False],\n",
       "        fill_value='?',\n",
       "             dtype=object),\n",
       " 'param_min_samples_split': masked_array(data=[4, 6, 6],\n",
       "              mask=[False, False, False],\n",
       "        fill_value='?',\n",
       "             dtype=object),\n",
       " 'param_min_samples_leaf': masked_array(data=[1, 2, 3],\n",
       "              mask=[False, False, False],\n",
       "        fill_value='?',\n",
       "             dtype=object),\n",
       " 'params': [{'n_estimators': 10,\n",
       "   'min_samples_split': 4,\n",
       "   'min_samples_leaf': 1},\n",
       "  {'n_estimators': 5, 'min_samples_split': 6, 'min_samples_leaf': 2},\n",
       "  {'n_estimators': 5, 'min_samples_split': 6, 'min_samples_leaf': 3}],\n",
       " 'split0_test_score': array([-1.43094211, -1.53026297, -1.52138066]),\n",
       " 'split1_test_score': array([-1.49376617, -1.59491374, -1.57601858]),\n",
       " 'split2_test_score': array([-1.72785446, -1.83728   , -1.82367721]),\n",
       " 'mean_test_score': array([-1.55085425, -1.65415224, -1.64035882]),\n",
       " 'std_test_score': array([0.12775894, 0.13215336, 0.13153086]),\n",
       " 'rank_test_score': array([1, 3, 2], dtype=int32),\n",
       " 'split0_train_score': array([-0.25663833, -0.39172281, -0.4261032 ]),\n",
       " 'split1_train_score': array([-0.26643864, -0.40294257, -0.43621466]),\n",
       " 'split2_train_score': array([-0.27353768, -0.41353483, -0.44685078]),\n",
       " 'mean_train_score': array([-0.26553822, -0.4027334 , -0.43638955]),\n",
       " 'std_train_score': array([0.00692845, 0.00890595, 0.00847107])}"
      ]
     },
     "execution_count": 15,
     "metadata": {},
     "output_type": "execute_result"
    }
   ],
   "source": [
    "#Hyperparameter search\n",
    "n_iter_search = 3\n",
    "random_search_RandomForest = RandomizedSearchCV(RandomForestRegressor(), param_distributions=preds_dict_RandomForest,\n",
    "                                   n_iter=n_iter_search, cv=TimeSeriesSplit(n_splits=3), scoring='neg_mean_squared_error')\n",
    "\n",
    "start = time()\n",
    "random_search_RandomForest.fit(X, y)\n",
    "print(\"RandomizedSearchCV took %.2f seconds for %d candidates\"\n",
    "      \" parameter settings.\" % ((time() - start), n_iter_search))\n",
    "random_search_RandomForest.cv_results_\n"
   ]
  },
  {
   "cell_type": "markdown",
   "metadata": {},
   "source": [
    "#### Check the best parameters"
   ]
  },
  {
   "cell_type": "code",
   "execution_count": 16,
   "metadata": {},
   "outputs": [
    {
     "data": {
      "text/plain": [
       "-1.4511717500349048"
      ]
     },
     "execution_count": 16,
     "metadata": {},
     "output_type": "execute_result"
    }
   ],
   "source": [
    "bestp_AdaBoost = random_search_AdaBoost.best_params_\n",
    "bestp_Bagging = random_search_Bagging.best_params_\n",
    "bestp_ExtraTrees = random_search_ExtraTrees.best_params_\n",
    "bestp_GradientBoosting = random_search_GradientBoosting.best_params_\n",
    "bestp_RandomForest = random_search_RandomForest.best_params_\n",
    "\n",
    "AdaBoostsf = AdaBoostRegressor(**bestp_AdaBoost)\n",
    "scores_AdaBoostsf = cross_val_score(AdaBoostsf, df_X, df_y, cv=TimeSeriesSplit(n_splits=3), scoring='neg_mean_squared_error')\n",
    "np.mean(scores_AdaBoostsf)"
   ]
  },
  {
   "cell_type": "code",
   "execution_count": 17,
   "metadata": {},
   "outputs": [
    {
     "data": {
      "text/plain": [
       "-1.505652986611162"
      ]
     },
     "execution_count": 17,
     "metadata": {},
     "output_type": "execute_result"
    }
   ],
   "source": [
    "Baggingsf = BaggingRegressor(**bestp_Bagging)\n",
    "scores_Baggingsf = cross_val_score(Baggingsf, df_X, df_y, cv=TimeSeriesSplit(n_splits=3), scoring='neg_mean_squared_error')\n",
    "np.mean(scores_Baggingsf)"
   ]
  },
  {
   "cell_type": "code",
   "execution_count": 18,
   "metadata": {},
   "outputs": [
    {
     "data": {
      "text/plain": [
       "-1.4875914030004787"
      ]
     },
     "execution_count": 18,
     "metadata": {},
     "output_type": "execute_result"
    }
   ],
   "source": [
    "ExtraTreessf = ExtraTreesRegressor(**bestp_ExtraTrees)\n",
    "scores_ExtraTreessf = cross_val_score(ExtraTreessf, df_X, df_y, cv=TimeSeriesSplit(n_splits=3), scoring='neg_mean_squared_error')\n",
    "np.mean(scores_ExtraTreessf)"
   ]
  },
  {
   "cell_type": "code",
   "execution_count": 19,
   "metadata": {},
   "outputs": [
    {
     "data": {
      "text/plain": [
       "-1.4009447372213717"
      ]
     },
     "execution_count": 19,
     "metadata": {},
     "output_type": "execute_result"
    }
   ],
   "source": [
    "GradientBoostingsf = GradientBoostingRegressor(**bestp_GradientBoosting)\n",
    "scores_GradientBoostingsf = cross_val_score(GradientBoostingsf, df_X, df_y, cv=TimeSeriesSplit(n_splits=3), scoring='neg_mean_squared_error')\n",
    "np.mean(scores_GradientBoostingsf)"
   ]
  },
  {
   "cell_type": "code",
   "execution_count": 20,
   "metadata": {},
   "outputs": [
    {
     "data": {
      "text/plain": [
       "-1.5520866418543384"
      ]
     },
     "execution_count": 20,
     "metadata": {},
     "output_type": "execute_result"
    }
   ],
   "source": [
    "RandomForestsf = RandomForestRegressor(**bestp_RandomForest)\n",
    "scores_RandomForestsf = cross_val_score(RandomForestsf, df_X, df_y, cv=TimeSeriesSplit(n_splits=3), scoring='neg_mean_squared_error')\n",
    "np.mean(scores_RandomForestsf)"
   ]
  },
  {
   "cell_type": "markdown",
   "metadata": {},
   "source": [
    "### The best model"
   ]
  },
  {
   "cell_type": "code",
   "execution_count": 34,
   "metadata": {},
   "outputs": [
    {
     "data": {
      "text/plain": [
       "1.4229663010787161"
      ]
     },
     "execution_count": 34,
     "metadata": {},
     "output_type": "execute_result"
    }
   ],
   "source": [
    "y_pred = GradientBoostingsf.predict(df_Xtest)\n",
    "mean_squared_error(df_ytest, y_pred)"
   ]
  },
  {
   "cell_type": "code",
   "execution_count": 29,
   "metadata": {},
   "outputs": [
    {
     "data": {
      "text/plain": [
       "0.1822951449362541"
      ]
     },
     "execution_count": 29,
     "metadata": {},
     "output_type": "execute_result"
    }
   ],
   "source": [
    "GradientBoostingsf.score(df_Xtest, df_ytest)"
   ]
  },
  {
   "cell_type": "markdown",
   "metadata": {},
   "source": [
    "### Plot Prediction Results on Training set"
   ]
  },
  {
   "cell_type": "code",
   "execution_count": 10,
   "metadata": {},
   "outputs": [],
   "source": [
    "preds_AdaBoost = AdaBoostsf.predict(df_X.values)\n",
    "preds_Bagging = Baggingsf.predict(df_X.values)\n",
    "preds_ExtraTrees = ExtraTreessf.predict(df_X.values)\n",
    "preds_GradientBoosting = GradientBoostingsf.predict(df_X.values)\n",
    "preds_RandomForest = RandomForestsf.predict(df_X.values)"
   ]
  },
  {
   "cell_type": "code",
   "execution_count": 11,
   "metadata": {},
   "outputs": [
    {
     "data": {
      "image/png": "[encoded data removed]",
      "text/plain": [
       "<Figure size 720x720 with 1 Axes>"
      ]
     },
     "metadata": {
      "needs_background": "light"
     },
     "output_type": "display_data"
    }
   ],
   "source": [
    "plt.figure(figsize=(10, 10))\n",
    "plt.hist([preds_AdaBoost, preds_Bagging, preds_ExtraTrees, preds_GradientBoosting, preds_RandomForest], label=['AdaBoost', 'Bagging', 'ExtraTrees', 'GradientBoosting', 'RandomForest'], alpha=0.5)\n",
    "plt.legend()\n",
    "plt.show()"
   ]
  },
  {
   "cell_type": "code",
   "execution_count": null,
   "metadata": {},
   "outputs": [],
   "source": []
  }
 ],
 "metadata": {
  "kernelspec": {
   "display_name": "Python 3",
   "language": "python",
   "name": "python3"
  },
  "language_info": {
   "codemirror_mode": {
    "name": "ipython",
    "version": 3
   },
   "file_extension": ".py",
   "mimetype": "text/x-python",
   "name": "python",
   "nbconvert_exporter": "python",
   "pygments_lexer": "ipython3",
   "version": "3.6.7"
  }
 },
 "nbformat": 4,
 "nbformat_minor": 2
}
