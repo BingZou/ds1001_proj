{
 "cells": [
  {
   "cell_type": "code",
   "execution_count": 1,
   "metadata": {},
   "outputs": [],
   "source": [
    "import time\n",
    "import pandas as pd\n",
    "import numpy as np\n",
    "import os\n",
    "import json\n",
    "import string"
   ]
  },
  {
   "cell_type": "code",
   "execution_count": 2,
   "metadata": {},
   "outputs": [],
   "source": [
    "df_rev = pd.read_pickle('results/reviews_hu.p')"
   ]
  },
  {
   "cell_type": "code",
   "execution_count": 3,
   "metadata": {},
   "outputs": [],
   "source": [
    "df_rev.date = df_rev.date.astype(np.datetime64)\n",
    "df_rev['ind'] = list(range(0, len(df_rev)))"
   ]
  },
  {
   "cell_type": "code",
   "execution_count": null,
   "metadata": {},
   "outputs": [],
   "source": [
    "# rolling window size = 2 years 730days\n",
    "aggregator = {'ind': np.size,\n",
    "              'stars': np.mean, \n",
    "              'funny':np.sum, \n",
    "              'cool':np.sum, \n",
    "              'useful': np.sum,\n",
    "              'sent_score_compound': np.mean,\n",
    "              'sent_score_net':np.mean, \n",
    "              'review_length': np.mean,\n",
    "              'punc_count':np.mean, \n",
    "              'avg_word_len': np.mean\n",
    "               }\n",
    "\n",
    "bus_rev_res = df_rev.sort_values('date').set_index('date').groupby(['business_id']).rolling(window='730d').agg(aggregator)\n",
    "user_rev_res = df_rev.sort_values('date').set_index('date').groupby(['user_id']).rolling(window='730d').agg(aggregator)"
   ]
  },
  {
   "cell_type": "code",
   "execution_count": null,
   "metadata": {},
   "outputs": [],
   "source": [
    "bus_rev_res.columns = ['count_review', 'avg_stars', 'count_funny', 'count_cool', 'count_useful', 'avg_sent_score_compound',\n",
    "       'avg_sent_score_net', 'avg_review_length', 'avg_punc_count', 'avg_word_len']\n",
    "user_rev_res.columns = ['count_review', 'avg_stars', 'count_funny', 'count_cool', 'count_useful', 'avg_sent_score_compound',\n",
    "       'avg_sent_score_net', 'avg_review_length', 'avg_punc_count', 'avg_word_len']"
   ]
  },
  {
   "cell_type": "code",
   "execution_count": null,
   "metadata": {},
   "outputs": [],
   "source": [
    "bus_rev_res = pd.DataFrame(bus_rev_res.to_records())\n",
    "user_rev_res = pd.DataFrame(user_rev_res.to_records())"
   ]
  },
  {
   "cell_type": "code",
   "execution_count": null,
   "metadata": {},
   "outputs": [],
   "source": [
    "bus_rev_res = pd.read_pickle('results/reviews_hu.p')"
   ]
  }
 ],
 "metadata": {
  "kernelspec": {
   "display_name": "Python 3",
   "language": "python",
   "name": "python3"
  },
  "language_info": {
   "codemirror_mode": {
    "name": "ipython",
    "version": 3
   },
   "file_extension": ".py",
   "mimetype": "text/x-python",
   "name": "python",
   "nbconvert_exporter": "python",
   "pygments_lexer": "ipython3",
   "version": "3.6.7"
  }
 },
 "nbformat": 4,
 "nbformat_minor": 2
}
