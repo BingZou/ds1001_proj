{
 "cells": [
  {
   "cell_type": "code",
   "execution_count": 1,
   "metadata": {},
   "outputs": [],
   "source": [
    "import time\n",
    "import pandas as pd\n",
    "import numpy as np\n",
    "import os\n",
    "import json\n",
    "import string"
   ]
  },
  {
   "cell_type": "code",
   "execution_count": 2,
   "metadata": {},
   "outputs": [],
   "source": [
    "df_rev = pd.read_pickle('results/reviews_hu.p')"
   ]
  },
  {
   "cell_type": "code",
   "execution_count": 3,
   "metadata": {},
   "outputs": [],
   "source": [
    "df_rev.date = df_rev.date.astype(np.datetime64)\n",
    "df_rev['ind'] = list(range(0, len(df_rev)))"
   ]
  },
  {
   "cell_type": "code",
   "execution_count": null,
   "metadata": {},
   "outputs": [],
   "source": [
    "# rolling window size = 2 years 730days\n",
    "aggregator = {'ind': np.size,\n",
    "              'stars': np.mean, \n",
    "              'funny':np.sum, \n",
    "              'cool':np.sum, \n",
    "              'useful': np.sum,\n",
    "              'sent_score_compound': np.mean,\n",
    "              'sent_score_net':np.mean, \n",
    "              'review_length': np.mean,\n",
    "              'punc_count':np.mean, \n",
    "              'avg_word_len': np.mean\n",
    "               }\n",
    "\n",
    "bus_rev_res = df_rev.sort_values('date').set_index('date').groupby(['business_id']).rolling(window='730d').agg(aggregator)\n",
    "user_rev_res = df_rev.sort_values('date').set_index('date').groupby(['user_id']).rolling(window='730d').agg(aggregator)"
   ]
  },
  {
   "cell_type": "code",
   "execution_count": null,
   "metadata": {},
   "outputs": [],
   "source": [
    "bus_rev_res.columns = ['count_review', 'avg_stars', 'count_funny', 'count_cool', 'count_useful', 'avg_sent_score_compound',\n",
    "       'avg_sent_score_net', 'avg_review_length', 'avg_punc_count', 'avg_word_len']\n",
    "user_rev_res.columns = ['count_review', 'avg_stars', 'count_funny', 'count_cool', 'count_useful', 'avg_sent_score_compound',\n",
    "       'avg_sent_score_net', 'avg_review_length', 'avg_punc_count', 'avg_word_len']"
   ]
  },
  {
   "cell_type": "code",
   "execution_count": null,
   "metadata": {},
   "outputs": [],
   "source": [
    "bus_rev_res = pd.DataFrame(bus_rev_res.to_records())\n",
    "user_rev_res = pd.DataFrame(user_rev_res.to_records())"
   ]
  },
  {
   "cell_type": "code",
   "execution_count": 4,
   "metadata": {},
   "outputs": [],
   "source": [
    "bus_rev_res = pd.read_pickle('results/bus_rev_res_hu.p')"
   ]
  },
  {
   "cell_type": "code",
   "execution_count": 5,
   "metadata": {},
   "outputs": [
    {
     "data": {
      "text/html": [
       "<div>\n",
       "<style scoped>\n",
       "    .dataframe tbody tr th:only-of-type {\n",
       "        vertical-align: middle;\n",
       "    }\n",
       "\n",
       "    .dataframe tbody tr th {\n",
       "        vertical-align: top;\n",
       "    }\n",
       "\n",
       "    .dataframe thead th {\n",
       "        text-align: right;\n",
       "    }\n",
       "</style>\n",
       "<table border=\"1\" class=\"dataframe\">\n",
       "  <thead>\n",
       "    <tr style=\"text-align: right;\">\n",
       "      <th></th>\n",
       "      <th>business_id</th>\n",
       "      <th>date</th>\n",
       "      <th>count_review</th>\n",
       "      <th>avg_stars</th>\n",
       "      <th>count_funny</th>\n",
       "      <th>count_cool</th>\n",
       "      <th>count_useful</th>\n",
       "      <th>avg_sent_score_compound</th>\n",
       "      <th>avg_sent_score_net</th>\n",
       "      <th>avg_review_length</th>\n",
       "      <th>avg_punc_count</th>\n",
       "      <th>avg_word_len</th>\n",
       "    </tr>\n",
       "  </thead>\n",
       "  <tbody>\n",
       "    <tr>\n",
       "      <th>0</th>\n",
       "      <td>--DaPTJW3-tB1vP-PfdTEg</td>\n",
       "      <td>2012-06-04</td>\n",
       "      <td>1.0</td>\n",
       "      <td>4.000000</td>\n",
       "      <td>0.0</td>\n",
       "      <td>0.0</td>\n",
       "      <td>0.0</td>\n",
       "      <td>0.986900</td>\n",
       "      <td>0.082803</td>\n",
       "      <td>157.0</td>\n",
       "      <td>0.042683</td>\n",
       "      <td>4.000000</td>\n",
       "    </tr>\n",
       "    <tr>\n",
       "      <th>1</th>\n",
       "      <td>--DaPTJW3-tB1vP-PfdTEg</td>\n",
       "      <td>2012-06-14</td>\n",
       "      <td>2.0</td>\n",
       "      <td>4.000000</td>\n",
       "      <td>1.0</td>\n",
       "      <td>2.0</td>\n",
       "      <td>1.0</td>\n",
       "      <td>0.941900</td>\n",
       "      <td>0.090182</td>\n",
       "      <td>99.0</td>\n",
       "      <td>0.044597</td>\n",
       "      <td>4.073171</td>\n",
       "    </tr>\n",
       "    <tr>\n",
       "      <th>2</th>\n",
       "      <td>--DaPTJW3-tB1vP-PfdTEg</td>\n",
       "      <td>2012-11-11</td>\n",
       "      <td>3.0</td>\n",
       "      <td>4.333333</td>\n",
       "      <td>1.0</td>\n",
       "      <td>2.0</td>\n",
       "      <td>1.0</td>\n",
       "      <td>0.932067</td>\n",
       "      <td>0.087899</td>\n",
       "      <td>94.0</td>\n",
       "      <td>0.037483</td>\n",
       "      <td>4.259098</td>\n",
       "    </tr>\n",
       "    <tr>\n",
       "      <th>3</th>\n",
       "      <td>--DaPTJW3-tB1vP-PfdTEg</td>\n",
       "      <td>2013-04-07</td>\n",
       "      <td>4.0</td>\n",
       "      <td>4.250000</td>\n",
       "      <td>1.0</td>\n",
       "      <td>2.0</td>\n",
       "      <td>1.0</td>\n",
       "      <td>0.934850</td>\n",
       "      <td>0.104987</td>\n",
       "      <td>78.5</td>\n",
       "      <td>0.028113</td>\n",
       "      <td>4.202136</td>\n",
       "    </tr>\n",
       "    <tr>\n",
       "      <th>4</th>\n",
       "      <td>--DaPTJW3-tB1vP-PfdTEg</td>\n",
       "      <td>2013-07-06</td>\n",
       "      <td>5.0</td>\n",
       "      <td>4.200000</td>\n",
       "      <td>1.0</td>\n",
       "      <td>2.0</td>\n",
       "      <td>1.0</td>\n",
       "      <td>0.747880</td>\n",
       "      <td>0.083989</td>\n",
       "      <td>65.0</td>\n",
       "      <td>0.022490</td>\n",
       "      <td>4.198072</td>\n",
       "    </tr>\n",
       "  </tbody>\n",
       "</table>\n",
       "</div>"
      ],
      "text/plain": [
       "              business_id       date  count_review  avg_stars  count_funny  \\\n",
       "0  --DaPTJW3-tB1vP-PfdTEg 2012-06-04           1.0   4.000000          0.0   \n",
       "1  --DaPTJW3-tB1vP-PfdTEg 2012-06-14           2.0   4.000000          1.0   \n",
       "2  --DaPTJW3-tB1vP-PfdTEg 2012-11-11           3.0   4.333333          1.0   \n",
       "3  --DaPTJW3-tB1vP-PfdTEg 2013-04-07           4.0   4.250000          1.0   \n",
       "4  --DaPTJW3-tB1vP-PfdTEg 2013-07-06           5.0   4.200000          1.0   \n",
       "\n",
       "   count_cool  count_useful  avg_sent_score_compound  avg_sent_score_net  \\\n",
       "0         0.0           0.0                 0.986900            0.082803   \n",
       "1         2.0           1.0                 0.941900            0.090182   \n",
       "2         2.0           1.0                 0.932067            0.087899   \n",
       "3         2.0           1.0                 0.934850            0.104987   \n",
       "4         2.0           1.0                 0.747880            0.083989   \n",
       "\n",
       "   avg_review_length  avg_punc_count  avg_word_len  \n",
       "0              157.0        0.042683      4.000000  \n",
       "1               99.0        0.044597      4.073171  \n",
       "2               94.0        0.037483      4.259098  \n",
       "3               78.5        0.028113      4.202136  \n",
       "4               65.0        0.022490      4.198072  "
      ]
     },
     "execution_count": 5,
     "metadata": {},
     "output_type": "execute_result"
    }
   ],
   "source": [
    "bus_rev_res.head()"
   ]
  },
  {
   "cell_type": "code",
   "execution_count": null,
   "metadata": {},
   "outputs": [],
   "source": []
  }
 ],
 "metadata": {
  "kernelspec": {
   "display_name": "Python 3",
   "language": "python",
   "name": "python3"
  },
  "language_info": {
   "codemirror_mode": {
    "name": "ipython",
    "version": 3
   },
   "file_extension": ".py",
   "mimetype": "text/x-python",
   "name": "python",
   "nbconvert_exporter": "python",
   "pygments_lexer": "ipython3",
   "version": "3.6.7"
  }
 },
 "nbformat": 4,
 "nbformat_minor": 2
}
