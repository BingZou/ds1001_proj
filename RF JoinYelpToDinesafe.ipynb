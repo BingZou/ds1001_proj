{
 "cells": [
  {
   "cell_type": "code",
   "execution_count": 4,
   "metadata": {},
   "outputs": [],
   "source": [
    "import numpy as np\n",
    "import pandas as pd\n",
    "from fuzzywuzzy import fuzz\n",
    "import matplotlib.pyplot as plt\n",
    "import json\n",
    "from tqdm import tqdm_notebook as tqdm\n",
    "%matplotlib inline"
   ]
  },
  {
   "cell_type": "markdown",
   "metadata": {},
   "source": [
    "### Loading the dinesafe data"
   ]
  },
  {
   "cell_type": "code",
   "execution_count": 7,
   "metadata": {},
   "outputs": [],
   "source": [
    "datapath = r'data/'"
   ]
  },
  {
   "cell_type": "code",
   "execution_count": 8,
   "metadata": {},
   "outputs": [
    {
     "data": {
      "text/html": [
       "<div>\n",
       "<style scoped>\n",
       "    .dataframe tbody tr th:only-of-type {\n",
       "        vertical-align: middle;\n",
       "    }\n",
       "\n",
       "    .dataframe tbody tr th {\n",
       "        vertical-align: top;\n",
       "    }\n",
       "\n",
       "    .dataframe thead th {\n",
       "        text-align: right;\n",
       "    }\n",
       "</style>\n",
       "<table border=\"1\" class=\"dataframe\">\n",
       "  <thead>\n",
       "    <tr style=\"text-align: right;\">\n",
       "      <th></th>\n",
       "      <th>ROW_ID</th>\n",
       "      <th>ESTABLISHMENT_ID</th>\n",
       "      <th>INSPECTION_ID</th>\n",
       "      <th>ESTABLISHMENT_NAME</th>\n",
       "      <th>ESTABLISHMENTTYPE</th>\n",
       "      <th>ESTABLISHMENT_ADDRESS</th>\n",
       "      <th>LATITUDE</th>\n",
       "      <th>LONGITUDE</th>\n",
       "      <th>ESTABLISHMENT_STATUS</th>\n",
       "      <th>MINIMUM_INSPECTIONS_PERYEAR</th>\n",
       "      <th>INFRACTION_DETAILS</th>\n",
       "      <th>INSPECTION_DATE</th>\n",
       "      <th>SEVERITY</th>\n",
       "      <th>ACTION</th>\n",
       "      <th>COURT_OUTCOME</th>\n",
       "      <th>AMOUNT_FINED</th>\n",
       "    </tr>\n",
       "  </thead>\n",
       "  <tbody>\n",
       "    <tr>\n",
       "      <th>0</th>\n",
       "      <td>1</td>\n",
       "      <td>1222579</td>\n",
       "      <td>103868579</td>\n",
       "      <td>SAI-LILA KHAMAN DHOKLA HOUSE</td>\n",
       "      <td>Food Take Out</td>\n",
       "      <td>870 MARKHAM RD</td>\n",
       "      <td>43.76798</td>\n",
       "      <td>-79.229029</td>\n",
       "      <td>Pass</td>\n",
       "      <td>2</td>\n",
       "      <td>Operator fail to properly wash equipment</td>\n",
       "      <td>2016-12-21</td>\n",
       "      <td>M - Minor</td>\n",
       "      <td>Notice to Comply</td>\n",
       "      <td></td>\n",
       "      <td></td>\n",
       "    </tr>\n",
       "    <tr>\n",
       "      <th>1</th>\n",
       "      <td>2</td>\n",
       "      <td>1222579</td>\n",
       "      <td>104063869</td>\n",
       "      <td>SAI-LILA KHAMAN DHOKLA HOUSE</td>\n",
       "      <td>Food Take Out</td>\n",
       "      <td>870 MARKHAM RD</td>\n",
       "      <td>43.76798</td>\n",
       "      <td>-79.229029</td>\n",
       "      <td>Pass</td>\n",
       "      <td>2</td>\n",
       "      <td>NaN</td>\n",
       "      <td>2017-10-04</td>\n",
       "      <td>NaN</td>\n",
       "      <td>NaN</td>\n",
       "      <td>NaN</td>\n",
       "      <td>NaN</td>\n",
       "    </tr>\n",
       "    <tr>\n",
       "      <th>2</th>\n",
       "      <td>3</td>\n",
       "      <td>1222579</td>\n",
       "      <td>104246429</td>\n",
       "      <td>SAI-LILA KHAMAN DHOKLA HOUSE</td>\n",
       "      <td>Food Take Out</td>\n",
       "      <td>870 MARKHAM RD</td>\n",
       "      <td>43.76798</td>\n",
       "      <td>-79.229029</td>\n",
       "      <td>Pass</td>\n",
       "      <td>2</td>\n",
       "      <td>Fail to Hold a Valid Food Handler's Certificat...</td>\n",
       "      <td>2018-06-20</td>\n",
       "      <td>NA - Not Applicable</td>\n",
       "      <td>Notice to Comply</td>\n",
       "      <td></td>\n",
       "      <td></td>\n",
       "    </tr>\n",
       "    <tr>\n",
       "      <th>3</th>\n",
       "      <td>4</td>\n",
       "      <td>1222579</td>\n",
       "      <td>104246429</td>\n",
       "      <td>SAI-LILA KHAMAN DHOKLA HOUSE</td>\n",
       "      <td>Food Take Out</td>\n",
       "      <td>870 MARKHAM RD</td>\n",
       "      <td>43.76798</td>\n",
       "      <td>-79.229029</td>\n",
       "      <td>Pass</td>\n",
       "      <td>2</td>\n",
       "      <td>Operator fail to properly wash equipment</td>\n",
       "      <td>2018-06-20</td>\n",
       "      <td>M - Minor</td>\n",
       "      <td>Notice to Comply</td>\n",
       "      <td></td>\n",
       "      <td></td>\n",
       "    </tr>\n",
       "    <tr>\n",
       "      <th>4</th>\n",
       "      <td>5</td>\n",
       "      <td>1222579</td>\n",
       "      <td>104246429</td>\n",
       "      <td>SAI-LILA KHAMAN DHOKLA HOUSE</td>\n",
       "      <td>Food Take Out</td>\n",
       "      <td>870 MARKHAM RD</td>\n",
       "      <td>43.76798</td>\n",
       "      <td>-79.229029</td>\n",
       "      <td>Pass</td>\n",
       "      <td>2</td>\n",
       "      <td>Operator fail to properly wash surfaces in rooms</td>\n",
       "      <td>2018-06-20</td>\n",
       "      <td>M - Minor</td>\n",
       "      <td>Notice to Comply</td>\n",
       "      <td></td>\n",
       "      <td></td>\n",
       "    </tr>\n",
       "  </tbody>\n",
       "</table>\n",
       "</div>"
      ],
      "text/plain": [
       "   ROW_ID  ESTABLISHMENT_ID  INSPECTION_ID            ESTABLISHMENT_NAME  \\\n",
       "0       1           1222579      103868579  SAI-LILA KHAMAN DHOKLA HOUSE   \n",
       "1       2           1222579      104063869  SAI-LILA KHAMAN DHOKLA HOUSE   \n",
       "2       3           1222579      104246429  SAI-LILA KHAMAN DHOKLA HOUSE   \n",
       "3       4           1222579      104246429  SAI-LILA KHAMAN DHOKLA HOUSE   \n",
       "4       5           1222579      104246429  SAI-LILA KHAMAN DHOKLA HOUSE   \n",
       "\n",
       "  ESTABLISHMENTTYPE ESTABLISHMENT_ADDRESS  LATITUDE  LONGITUDE  \\\n",
       "0     Food Take Out       870 MARKHAM RD   43.76798 -79.229029   \n",
       "1     Food Take Out       870 MARKHAM RD   43.76798 -79.229029   \n",
       "2     Food Take Out       870 MARKHAM RD   43.76798 -79.229029   \n",
       "3     Food Take Out       870 MARKHAM RD   43.76798 -79.229029   \n",
       "4     Food Take Out       870 MARKHAM RD   43.76798 -79.229029   \n",
       "\n",
       "  ESTABLISHMENT_STATUS  MINIMUM_INSPECTIONS_PERYEAR  \\\n",
       "0                 Pass                            2   \n",
       "1                 Pass                            2   \n",
       "2                 Pass                            2   \n",
       "3                 Pass                            2   \n",
       "4                 Pass                            2   \n",
       "\n",
       "                                  INFRACTION_DETAILS INSPECTION_DATE  \\\n",
       "0           Operator fail to properly wash equipment      2016-12-21   \n",
       "1                                                NaN      2017-10-04   \n",
       "2  Fail to Hold a Valid Food Handler's Certificat...      2018-06-20   \n",
       "3           Operator fail to properly wash equipment      2018-06-20   \n",
       "4   Operator fail to properly wash surfaces in rooms      2018-06-20   \n",
       "\n",
       "              SEVERITY            ACTION COURT_OUTCOME AMOUNT_FINED  \n",
       "0            M - Minor  Notice to Comply                             \n",
       "1                  NaN               NaN           NaN          NaN  \n",
       "2  NA - Not Applicable  Notice to Comply                             \n",
       "3            M - Minor  Notice to Comply                             \n",
       "4            M - Minor  Notice to Comply                             "
      ]
     },
     "execution_count": 8,
     "metadata": {},
     "output_type": "execute_result"
    }
   ],
   "source": [
    "dfd = pd.read_csv(datapath + 'dinesafe.csv', parse_dates=['INSPECTION_DATE']).drop('Unnamed: 0', axis=1)\n",
    "dfd.head()"
   ]
  },
  {
   "cell_type": "code",
   "execution_count": 9,
   "metadata": {},
   "outputs": [],
   "source": [
    "insp = dfd[['ESTABLISHMENT_ID', 'INSPECTION_DATE']].groupby('ESTABLISHMENT_ID').count().sort_values('INSPECTION_DATE', ascending=False)"
   ]
  },
  {
   "cell_type": "code",
   "execution_count": 11,
   "metadata": {},
   "outputs": [
    {
     "data": {
      "image/png": "[encoded data removed]",
      "text/plain": [
       "<Figure size 432x288 with 1 Axes>"
      ]
     },
     "metadata": {
      "needs_background": "light"
     },
     "output_type": "display_data"
    }
   ],
   "source": [
    "plt.plot(insp.values)\n",
    "plt.show()"
   ]
  },
  {
   "cell_type": "markdown",
   "metadata": {},
   "source": [
    "### Initial exploration"
   ]
  },
  {
   "cell_type": "code",
   "execution_count": 12,
   "metadata": {},
   "outputs": [
    {
     "data": {
      "text/html": [
       "<div>\n",
       "<style scoped>\n",
       "    .dataframe tbody tr th:only-of-type {\n",
       "        vertical-align: middle;\n",
       "    }\n",
       "\n",
       "    .dataframe tbody tr th {\n",
       "        vertical-align: top;\n",
       "    }\n",
       "\n",
       "    .dataframe thead th {\n",
       "        text-align: right;\n",
       "    }\n",
       "</style>\n",
       "<table border=\"1\" class=\"dataframe\">\n",
       "  <thead>\n",
       "    <tr style=\"text-align: right;\">\n",
       "      <th></th>\n",
       "      <th>ROW_ID</th>\n",
       "      <th>pct</th>\n",
       "    </tr>\n",
       "    <tr>\n",
       "      <th>ESTABLISHMENT_STATUS</th>\n",
       "      <th></th>\n",
       "      <th></th>\n",
       "    </tr>\n",
       "  </thead>\n",
       "  <tbody>\n",
       "    <tr>\n",
       "      <th>Closed</th>\n",
       "      <td>352</td>\n",
       "      <td>0.003889</td>\n",
       "    </tr>\n",
       "    <tr>\n",
       "      <th>Conditional Pass</th>\n",
       "      <td>17237</td>\n",
       "      <td>0.190422</td>\n",
       "    </tr>\n",
       "    <tr>\n",
       "      <th>Pass</th>\n",
       "      <td>72931</td>\n",
       "      <td>0.805689</td>\n",
       "    </tr>\n",
       "  </tbody>\n",
       "</table>\n",
       "</div>"
      ],
      "text/plain": [
       "                      ROW_ID       pct\n",
       "ESTABLISHMENT_STATUS                  \n",
       "Closed                   352  0.003889\n",
       "Conditional Pass       17237  0.190422\n",
       "Pass                   72931  0.805689"
      ]
     },
     "execution_count": 12,
     "metadata": {},
     "output_type": "execute_result"
    }
   ],
   "source": [
    "# Pass count\n",
    "df_pass = dfd[['ESTABLISHMENT_STATUS', 'ROW_ID']].groupby('ESTABLISHMENT_STATUS').count()\n",
    "df_pass['pct'] = df_pass['ROW_ID'] / df_pass['ROW_ID'].sum()\n",
    "df_pass"
   ]
  },
  {
   "cell_type": "code",
   "execution_count": 13,
   "metadata": {},
   "outputs": [
    {
     "name": "stdout",
     "output_type": "stream",
     "text": [
      "min date: 2016-09-23\n",
      "max date: 2018-09-21\n"
     ]
    },
    {
     "data": {
      "image/png": "[encoded data removed]",
      "text/plain": [
       "<Figure size 432x288 with 1 Axes>"
      ]
     },
     "metadata": {
      "needs_background": "light"
     },
     "output_type": "display_data"
    }
   ],
   "source": [
    "# time\n",
    "plt.hist(dfd['INSPECTION_DATE'], bins=10)\n",
    "plt.xticks(rotation='vertical')\n",
    "print(\"min date: %s\" % dfd['INSPECTION_DATE'].min().date())\n",
    "print(\"max date: %s\" % dfd['INSPECTION_DATE'].max().date())\n",
    "plt.show()"
   ]
  },
  {
   "cell_type": "code",
   "execution_count": 14,
   "metadata": {},
   "outputs": [
    {
     "data": {
      "text/html": [
       "<div>\n",
       "<style scoped>\n",
       "    .dataframe tbody tr th:only-of-type {\n",
       "        vertical-align: middle;\n",
       "    }\n",
       "\n",
       "    .dataframe tbody tr th {\n",
       "        vertical-align: top;\n",
       "    }\n",
       "\n",
       "    .dataframe thead th {\n",
       "        text-align: right;\n",
       "    }\n",
       "</style>\n",
       "<table border=\"1\" class=\"dataframe\">\n",
       "  <thead>\n",
       "    <tr style=\"text-align: right;\">\n",
       "      <th></th>\n",
       "      <th>ROW_ID</th>\n",
       "      <th>pct</th>\n",
       "    </tr>\n",
       "    <tr>\n",
       "      <th>SEVERITY</th>\n",
       "      <th></th>\n",
       "      <th></th>\n",
       "    </tr>\n",
       "  </thead>\n",
       "  <tbody>\n",
       "    <tr>\n",
       "      <th>C - Crucial</th>\n",
       "      <td>2400</td>\n",
       "      <td>0.038899</td>\n",
       "    </tr>\n",
       "    <tr>\n",
       "      <th>M - Minor</th>\n",
       "      <td>32280</td>\n",
       "      <td>0.523194</td>\n",
       "    </tr>\n",
       "    <tr>\n",
       "      <th>NA - Not Applicable</th>\n",
       "      <td>4048</td>\n",
       "      <td>0.065610</td>\n",
       "    </tr>\n",
       "    <tr>\n",
       "      <th>S - Significant</th>\n",
       "      <td>22970</td>\n",
       "      <td>0.372297</td>\n",
       "    </tr>\n",
       "  </tbody>\n",
       "</table>\n",
       "</div>"
      ],
      "text/plain": [
       "                     ROW_ID       pct\n",
       "SEVERITY                             \n",
       "C - Crucial            2400  0.038899\n",
       "M - Minor             32280  0.523194\n",
       "NA - Not Applicable    4048  0.065610\n",
       "S - Significant       22970  0.372297"
      ]
     },
     "execution_count": 14,
     "metadata": {},
     "output_type": "execute_result"
    }
   ],
   "source": [
    "# severity\n",
    "df_severe = dfd[['SEVERITY', 'ROW_ID']].groupby('SEVERITY').count()\n",
    "df_severe['pct'] = df_severe['ROW_ID'] / df_severe['ROW_ID'].sum()\n",
    "df_severe"
   ]
  },
  {
   "cell_type": "markdown",
   "metadata": {},
   "source": [
    "### Fines"
   ]
  },
  {
   "cell_type": "code",
   "execution_count": 15,
   "metadata": {},
   "outputs": [
    {
     "data": {
      "text/plain": [
       "array(['Conviction - Fined',\n",
       "       'Conviction - Fined & Order to Close by Court',\n",
       "       'Charges Withdrawn', 'Conviction - Suspended Sentence',\n",
       "       'Charges Quashed'], dtype=object)"
      ]
     },
     "execution_count": 15,
     "metadata": {},
     "output_type": "execute_result"
    }
   ],
   "source": [
    "df_fined = dfd[(pd.notnull(dfd['AMOUNT_FINED'])) & (dfd['AMOUNT_FINED'] != ' ')].copy()\n",
    "df_fined['COURT_OUTCOME'].unique()"
   ]
  },
  {
   "cell_type": "code",
   "execution_count": 16,
   "metadata": {},
   "outputs": [],
   "source": [
    "fine_map = {\n",
    "    'Conviction - Fined': True,\n",
    "    'Conviction - Fined & Order to Close by Court': True,\n",
    "    'Charges Withdrawn': False, \n",
    "    'Conviction - Suspended Sentence': True,\n",
    "    'Charges Quashed': False\n",
    "}"
   ]
  },
  {
   "cell_type": "code",
   "execution_count": 17,
   "metadata": {},
   "outputs": [],
   "source": [
    "df_fined['Convicted'] = df_fined['COURT_OUTCOME'].apply(lambda x: fine_map[x])\n",
    "df_fined['dollar_amt'] = df_fined['AMOUNT_FINED'].apply(lambda x: float(x))"
   ]
  },
  {
   "cell_type": "code",
   "execution_count": 18,
   "metadata": {},
   "outputs": [
    {
     "data": {
      "text/html": [
       "<div>\n",
       "<style scoped>\n",
       "    .dataframe tbody tr th:only-of-type {\n",
       "        vertical-align: middle;\n",
       "    }\n",
       "\n",
       "    .dataframe tbody tr th {\n",
       "        vertical-align: top;\n",
       "    }\n",
       "\n",
       "    .dataframe thead th {\n",
       "        text-align: right;\n",
       "    }\n",
       "</style>\n",
       "<table border=\"1\" class=\"dataframe\">\n",
       "  <thead>\n",
       "    <tr style=\"text-align: right;\">\n",
       "      <th></th>\n",
       "      <th>ROW_ID</th>\n",
       "      <th>ESTABLISHMENT_ID</th>\n",
       "      <th>INSPECTION_ID</th>\n",
       "      <th>ESTABLISHMENT_NAME</th>\n",
       "      <th>ESTABLISHMENTTYPE</th>\n",
       "      <th>ESTABLISHMENT_ADDRESS</th>\n",
       "      <th>LATITUDE</th>\n",
       "      <th>LONGITUDE</th>\n",
       "      <th>ESTABLISHMENT_STATUS</th>\n",
       "      <th>MINIMUM_INSPECTIONS_PERYEAR</th>\n",
       "      <th>INFRACTION_DETAILS</th>\n",
       "      <th>INSPECTION_DATE</th>\n",
       "      <th>SEVERITY</th>\n",
       "      <th>ACTION</th>\n",
       "      <th>COURT_OUTCOME</th>\n",
       "      <th>AMOUNT_FINED</th>\n",
       "      <th>Convicted</th>\n",
       "      <th>dollar_amt</th>\n",
       "    </tr>\n",
       "  </thead>\n",
       "  <tbody>\n",
       "    <tr>\n",
       "      <th>695</th>\n",
       "      <td>696</td>\n",
       "      <td>9001150</td>\n",
       "      <td>103920617</td>\n",
       "      <td>STARBUCKS</td>\n",
       "      <td>Restaurant</td>\n",
       "      <td>1088 YONGE ST</td>\n",
       "      <td>43.677997</td>\n",
       "      <td>-79.390257</td>\n",
       "      <td>Pass</td>\n",
       "      <td>1</td>\n",
       "      <td>Operate food premise - fail to keep facility s...</td>\n",
       "      <td>2017-02-28</td>\n",
       "      <td>M - Minor</td>\n",
       "      <td>Ticket</td>\n",
       "      <td>Conviction - Fined</td>\n",
       "      <td>65.00</td>\n",
       "      <td>True</td>\n",
       "      <td>65.0</td>\n",
       "    </tr>\n",
       "    <tr>\n",
       "      <th>853</th>\n",
       "      <td>854</td>\n",
       "      <td>9001425</td>\n",
       "      <td>104105703</td>\n",
       "      <td>BERNARD'S PILIPINO SPECIALTIES</td>\n",
       "      <td>Food Take Out</td>\n",
       "      <td>1534 QUEEN ST W</td>\n",
       "      <td>43.640060</td>\n",
       "      <td>-79.439330</td>\n",
       "      <td>Conditional Pass</td>\n",
       "      <td>3</td>\n",
       "      <td>Fail to Hold a Valid Food Handler's Certificat...</td>\n",
       "      <td>2017-12-01</td>\n",
       "      <td>NA - Not Applicable</td>\n",
       "      <td>Ticket</td>\n",
       "      <td>Conviction - Fined</td>\n",
       "      <td>63.50</td>\n",
       "      <td>True</td>\n",
       "      <td>63.5</td>\n",
       "    </tr>\n",
       "    <tr>\n",
       "      <th>854</th>\n",
       "      <td>855</td>\n",
       "      <td>9001425</td>\n",
       "      <td>104105703</td>\n",
       "      <td>BERNARD'S PILIPINO SPECIALTIES</td>\n",
       "      <td>Food Take Out</td>\n",
       "      <td>1534 QUEEN ST W</td>\n",
       "      <td>43.640060</td>\n",
       "      <td>-79.439330</td>\n",
       "      <td>Conditional Pass</td>\n",
       "      <td>3</td>\n",
       "      <td>Operate food premise - fail to keep facility s...</td>\n",
       "      <td>2017-12-01</td>\n",
       "      <td>M - Minor</td>\n",
       "      <td>Ticket</td>\n",
       "      <td>Conviction - Fined</td>\n",
       "      <td>63.50</td>\n",
       "      <td>True</td>\n",
       "      <td>63.5</td>\n",
       "    </tr>\n",
       "    <tr>\n",
       "      <th>855</th>\n",
       "      <td>856</td>\n",
       "      <td>9001425</td>\n",
       "      <td>104105703</td>\n",
       "      <td>BERNARD'S PILIPINO SPECIALTIES</td>\n",
       "      <td>Food Take Out</td>\n",
       "      <td>1534 QUEEN ST W</td>\n",
       "      <td>43.640060</td>\n",
       "      <td>-79.439330</td>\n",
       "      <td>Conditional Pass</td>\n",
       "      <td>3</td>\n",
       "      <td>Operator fail to ensure room kept free from ma...</td>\n",
       "      <td>2017-12-01</td>\n",
       "      <td>M - Minor</td>\n",
       "      <td>Ticket</td>\n",
       "      <td>Conviction - Fined</td>\n",
       "      <td>63.50</td>\n",
       "      <td>True</td>\n",
       "      <td>63.5</td>\n",
       "    </tr>\n",
       "    <tr>\n",
       "      <th>858</th>\n",
       "      <td>859</td>\n",
       "      <td>9001425</td>\n",
       "      <td>104105703</td>\n",
       "      <td>BERNARD'S PILIPINO SPECIALTIES</td>\n",
       "      <td>Food Take Out</td>\n",
       "      <td>1534 QUEEN ST W</td>\n",
       "      <td>43.640060</td>\n",
       "      <td>-79.439330</td>\n",
       "      <td>Conditional Pass</td>\n",
       "      <td>3</td>\n",
       "      <td>Store hazardous foods at internal temperature ...</td>\n",
       "      <td>2017-12-01</td>\n",
       "      <td>C - Crucial</td>\n",
       "      <td>Summons</td>\n",
       "      <td>Conviction - Fined</td>\n",
       "      <td>1130</td>\n",
       "      <td>True</td>\n",
       "      <td>1130.0</td>\n",
       "    </tr>\n",
       "  </tbody>\n",
       "</table>\n",
       "</div>"
      ],
      "text/plain": [
       "     ROW_ID  ESTABLISHMENT_ID  INSPECTION_ID              ESTABLISHMENT_NAME  \\\n",
       "695     696           9001150      103920617                       STARBUCKS   \n",
       "853     854           9001425      104105703  BERNARD'S PILIPINO SPECIALTIES   \n",
       "854     855           9001425      104105703  BERNARD'S PILIPINO SPECIALTIES   \n",
       "855     856           9001425      104105703  BERNARD'S PILIPINO SPECIALTIES   \n",
       "858     859           9001425      104105703  BERNARD'S PILIPINO SPECIALTIES   \n",
       "\n",
       "    ESTABLISHMENTTYPE ESTABLISHMENT_ADDRESS   LATITUDE  LONGITUDE  \\\n",
       "695        Restaurant        1088 YONGE ST   43.677997 -79.390257   \n",
       "853     Food Take Out       1534 QUEEN ST W  43.640060 -79.439330   \n",
       "854     Food Take Out       1534 QUEEN ST W  43.640060 -79.439330   \n",
       "855     Food Take Out       1534 QUEEN ST W  43.640060 -79.439330   \n",
       "858     Food Take Out       1534 QUEEN ST W  43.640060 -79.439330   \n",
       "\n",
       "    ESTABLISHMENT_STATUS  MINIMUM_INSPECTIONS_PERYEAR  \\\n",
       "695                 Pass                            1   \n",
       "853     Conditional Pass                            3   \n",
       "854     Conditional Pass                            3   \n",
       "855     Conditional Pass                            3   \n",
       "858     Conditional Pass                            3   \n",
       "\n",
       "                                    INFRACTION_DETAILS INSPECTION_DATE  \\\n",
       "695  Operate food premise - fail to keep facility s...      2017-02-28   \n",
       "853  Fail to Hold a Valid Food Handler's Certificat...      2017-12-01   \n",
       "854  Operate food premise - fail to keep facility s...      2017-12-01   \n",
       "855  Operator fail to ensure room kept free from ma...      2017-12-01   \n",
       "858  Store hazardous foods at internal temperature ...      2017-12-01   \n",
       "\n",
       "                SEVERITY   ACTION       COURT_OUTCOME AMOUNT_FINED  Convicted  \\\n",
       "695            M - Minor   Ticket  Conviction - Fined        65.00       True   \n",
       "853  NA - Not Applicable   Ticket  Conviction - Fined        63.50       True   \n",
       "854            M - Minor   Ticket  Conviction - Fined        63.50       True   \n",
       "855            M - Minor   Ticket  Conviction - Fined        63.50       True   \n",
       "858          C - Crucial  Summons  Conviction - Fined         1130       True   \n",
       "\n",
       "     dollar_amt  \n",
       "695        65.0  \n",
       "853        63.5  \n",
       "854        63.5  \n",
       "855        63.5  \n",
       "858      1130.0  "
      ]
     },
     "execution_count": 18,
     "metadata": {},
     "output_type": "execute_result"
    }
   ],
   "source": [
    "df_fined.head()"
   ]
  },
  {
   "cell_type": "code",
   "execution_count": 19,
   "metadata": {},
   "outputs": [
    {
     "data": {
      "image/png": "[encoded data removed]",
      "text/plain": [
       "<Figure size 432x288 with 1 Axes>"
      ]
     },
     "metadata": {
      "needs_background": "light"
     },
     "output_type": "display_data"
    }
   ],
   "source": [
    "# any fines?\n",
    "plt.hist(df_fined[df_fined['Convicted']]['dollar_amt'], alpha=0.5, label='Convicted', bins=50)\n",
    "plt.hist(df_fined[~df_fined['Convicted']]['dollar_amt'], alpha=0.5, label='Not Convicted')\n",
    "plt.legend()\n",
    "plt.show()"
   ]
  },
  {
   "cell_type": "markdown",
   "metadata": {},
   "source": [
    "### Narrowing the Yelp Dataset"
   ]
  },
  {
   "cell_type": "code",
   "execution_count": 20,
   "metadata": {},
   "outputs": [],
   "source": [
    "f = open(datapath + 'yelp_academic_dataset_business.json', 'r')\n",
    "\n",
    "buslist = []\n",
    "for i, line in enumerate(f):\n",
    "    buslist.append(json.loads(line))\n",
    "    \n",
    "dfy = pd.DataFrame(buslist).set_index(['business_id'])"
   ]
  },
  {
   "cell_type": "code",
   "execution_count": 21,
   "metadata": {},
   "outputs": [
    {
     "data": {
      "text/plain": [
       "(188593, 14)"
      ]
     },
     "execution_count": 21,
     "metadata": {},
     "output_type": "execute_result"
    }
   ],
   "source": [
    "dfy.shape"
   ]
  },
  {
   "cell_type": "code",
   "execution_count": 22,
   "metadata": {},
   "outputs": [
    {
     "data": {
      "text/plain": [
       "['Toronto',\n",
       " 'toronto',\n",
       " 'Downtown Toronto',\n",
       " 'Toronto Division',\n",
       " 'Toronto-North York',\n",
       " 'West Toronto',\n",
       " 'Toronto-West',\n",
       " 'North Toronto',\n",
       " 'Toronto-Etobicoke',\n",
       " 'Toronto Scarborough',\n",
       " 'Etobicoke',\n",
       " 'Etobiicoke',\n",
       " 'etobicoke',\n",
       " 'Etobicoke,',\n",
       " 'Etobicoke On',\n",
       " 'Toronto-Etobicoke',\n",
       " 'Mississauga',\n",
       " 'East Mississauga',\n",
       " 'Missisauga',\n",
       " 'Mississauaga',\n",
       " 'Mississauge',\n",
       " 'Mississuaga',\n",
       " 'North York',\n",
       " 'East York',\n",
       " 'York',\n",
       " 'North  York',\n",
       " 'NORTH YORK',\n",
       " 'Yorkdale',\n",
       " 'NorthYork',\n",
       " 'Toronto-North York',\n",
       " 'York Regional Municipality',\n",
       " 'Regional Municipality of York',\n",
       " 'Etobicoke',\n",
       " 'Etobiicoke',\n",
       " 'etobicoke',\n",
       " 'Etobicoke,',\n",
       " 'Etobicoke On',\n",
       " 'Toronto-Etobicoke',\n",
       " 'Scarborough',\n",
       " 'Scarbrough',\n",
       " 'SCARBOROUGH',\n",
       " 'Scarborough,',\n",
       " 'Scarobrough',\n",
       " 'Scarborough (C)',\n",
       " 'Toronto Scarborough']"
      ]
     },
     "execution_count": 22,
     "metadata": {},
     "output_type": "execute_result"
    }
   ],
   "source": [
    "toronto_cities = [x for x in dfy['city'].unique() if 'toronto' in x.lower()] \\\n",
    "                    + [x for x in dfy['city'].unique() if 'etobi' in x.lower()] \\\n",
    "                    + [x for x in dfy['city'].unique() if 'miss' in x.lower()] \\\n",
    "                    + [x for x in dfy['city'].unique() if 'york' in x.lower()] \\\n",
    "                    + [x for x in dfy['city'].unique() if 'etobi' in x.lower()] \\\n",
    "                    + [x for x in dfy['city'].unique() if 'scar' in x.lower()]\n",
    "toronto_cities"
   ]
  },
  {
   "cell_type": "code",
   "execution_count": 48,
   "metadata": {},
   "outputs": [
    {
     "data": {
      "text/plain": [
       "(24453, 14)"
      ]
     },
     "execution_count": 48,
     "metadata": {},
     "output_type": "execute_result"
    }
   ],
   "source": [
    "df_toronto = dfy[(dfy['city'].isin(toronto_cities)) & (dfy['state'] == 'ON')].copy()\n",
    "df_toronto.shape"
   ]
  },
  {
   "cell_type": "code",
   "execution_count": 49,
   "metadata": {},
   "outputs": [
    {
     "data": {
      "text/plain": [
       "array(['M6', 'L4', 'M5', 'L5', 'M1', 'M3', 'M8', 'M4', 'M2', 'M9', 'M7',\n",
       "       '', 'V0', 'L3', 'L1', 'L6', 'P0', 'W8', 'K0', 'V5'], dtype=object)"
      ]
     },
     "execution_count": 49,
     "metadata": {},
     "output_type": "execute_result"
    }
   ],
   "source": [
    "df_toronto['postal_prefix'] = df_toronto['postal_code'].apply(lambda x: x[:2])\n",
    "df_toronto['postal_prefix'].unique()"
   ]
  },
  {
   "cell_type": "markdown",
   "metadata": {},
   "source": [
    "### Filter by Long Lat"
   ]
  },
  {
   "cell_type": "code",
   "execution_count": 63,
   "metadata": {},
   "outputs": [],
   "source": [
    "LOC_BOUND_UP = 99\n",
    "LOC_BOUND_DOWN = 1"
   ]
  },
  {
   "cell_type": "code",
   "execution_count": 64,
   "metadata": {},
   "outputs": [
    {
     "name": "stdout",
     "output_type": "stream",
     "text": [
      "43.817079277\n",
      "43.53173785204\n"
     ]
    }
   ],
   "source": [
    "print(np.percentile(df_toronto['latitude'].dropna(), LOC_BOUND_UP))\n",
    "print(np.percentile(df_toronto['latitude'].dropna(), LOC_BOUND_DOWN))"
   ]
  },
  {
   "cell_type": "code",
   "execution_count": 65,
   "metadata": {},
   "outputs": [
    {
     "name": "stdout",
     "output_type": "stream",
     "text": [
      "-79.222304296408\n",
      "-79.73559971\n"
     ]
    }
   ],
   "source": [
    "print(np.percentile(df_toronto['longitude'].dropna(), LOC_BOUND_UP))\n",
    "print(np.percentile(df_toronto['longitude'].dropna(), LOC_BOUND_DOWN))"
   ]
  },
  {
   "cell_type": "markdown",
   "metadata": {},
   "source": [
    "#### Clearly the bounds are pretty tight, we will drop anything outside of the bounds"
   ]
  },
  {
   "cell_type": "code",
   "execution_count": 68,
   "metadata": {},
   "outputs": [
    {
     "name": "stdout",
     "output_type": "stream",
     "text": [
      "before: (24453, 15)\n",
      "after: (23482, 15)\n"
     ]
    }
   ],
   "source": [
    "print(\"before:\", df_toronto.shape)\n",
    "df_ll = df_toronto[(df_toronto['latitude'] <= np.percentile(df_toronto['latitude'].dropna(), LOC_BOUND_UP)) &\n",
    "                   (df_toronto['latitude'] >= np.percentile(df_toronto['latitude'].dropna(), LOC_BOUND_DOWN)) &\n",
    "                   (df_toronto['longitude'] <= np.percentile(df_toronto['longitude'].dropna(), LOC_BOUND_UP)) &\n",
    "                   (df_toronto['longitude'] >= np.percentile(df_toronto['longitude'].dropna(), LOC_BOUND_DOWN))].copy()              \n",
    "print(\"after:\", df_ll.shape)"
   ]
  },
  {
   "cell_type": "code",
   "execution_count": 69,
   "metadata": {},
   "outputs": [
    {
     "data": {
      "text/plain": [
       "array(['M6', 'L4', 'M5', 'L5', 'M1', 'M3', 'M8', 'M4', 'M2', 'M9', 'M7',\n",
       "       '', 'V0', 'L1', 'L6', 'W8', 'L3', 'V5'], dtype=object)"
      ]
     },
     "execution_count": 69,
     "metadata": {},
     "output_type": "execute_result"
    }
   ],
   "source": [
    "df_ll['postal_prefix'] = df_ll['postal_code'].apply(lambda x: x[:2])\n",
    "df_ll['postal_prefix'].unique()"
   ]
  },
  {
   "cell_type": "markdown",
   "metadata": {},
   "source": [
    "### Filter by category"
   ]
  },
  {
   "cell_type": "code",
   "execution_count": 75,
   "metadata": {
    "scrolled": true
   },
   "outputs": [
    {
     "data": {
      "text/plain": [
       "12218"
      ]
     },
     "execution_count": 75,
     "metadata": {},
     "output_type": "execute_result"
    }
   ],
   "source": [
    "len(df_ll['categories'].unique())\n",
    "# how do we pick out the categories that are relevant?"
   ]
  },
  {
   "cell_type": "code",
   "execution_count": 76,
   "metadata": {},
   "outputs": [
    {
     "data": {
      "text/plain": [
       "['American (Traditional), Burgers, Fast Food, Restaurants',\n",
       " 'Restaurants, Burgers',\n",
       " 'Restaurants, Food Delivery Services, Food, Burgers, Chicken Wings',\n",
       " 'Food, Burgers, Ice Cream & Frozen Yogurt, Restaurants',\n",
       " 'Burgers, Fast Food, Restaurants, Hot Dogs',\n",
       " 'Fast Food, Hot Dogs, Burgers, Restaurants',\n",
       " 'Fast Food, Restaurants, Burgers',\n",
       " 'Burgers, Chicken Wings, Restaurants, Canadian (New)',\n",
       " 'Burgers, Poutineries, Fast Food, Canadian (New), Restaurants',\n",
       " 'Restaurants, Vietnamese, Asian Fusion, Burgers',\n",
       " 'American (Traditional), Fast Food, Restaurants, Burgers',\n",
       " 'Burgers, Restaurants',\n",
       " 'Burgers, Fast Food, Restaurants',\n",
       " 'Bars, Canadian (New), Nightlife, Fast Food, Pubs, Fish & Chips, Food, Seafood, American (Traditional), Restaurants, Burgers',\n",
       " 'Nightlife, Bars, Cafes, Sandwiches, Restaurants, Venues & Event Spaces, Breakfast & Brunch, Burgers, Event Planning & Services',\n",
       " 'Burgers, Breakfast & Brunch, Fast Food, Restaurants',\n",
       " 'Burgers, Restaurants, Fast Food',\n",
       " 'Vegetarian, Burgers, Restaurants, Breakfast & Brunch',\n",
       " 'Burgers, Restaurants, Hot Dogs',\n",
       " 'Delis, Steakhouses, Diners, Canadian (New), Burgers, Restaurants, Cafes',\n",
       " 'Restaurants, Fast Food, Hot Dogs, Burgers',\n",
       " 'American (Traditional), Breakfast & Brunch, Restaurants, Burgers',\n",
       " 'Food, Restaurants, American (Traditional), Burgers, Beer, Wine & Spirits',\n",
       " 'American (Traditional), Chicken Shop, Comfort Food, Soul Food, Chicken Wings, Burgers, Canadian (New), Fast Food, Waffles, Restaurants, Breakfast & Brunch',\n",
       " 'Burgers, Fast Food, Breakfast & Brunch, Restaurants',\n",
       " 'Restaurants, Tapas/Small Plates, Breakfast & Brunch, Sandwiches, Burgers',\n",
       " 'Burgers, Sandwiches, Food, Moroccan, Restaurants',\n",
       " 'Restaurants, Breakfast & Brunch, Burgers, Fast Food',\n",
       " 'American (Traditional), Hot Dogs, Restaurants, Fast Food, Burgers',\n",
       " 'Pizza, Burgers, Fish & Chips, Seafood, Nightlife, Restaurants, Food, Bars, Canadian (New)',\n",
       " 'Restaurants, Burgers, Fast Food',\n",
       " 'Nightlife, Bars, Restaurants, Sports Bars, Chicken Wings, Shopping, Wigs, Beer Bar, Burgers',\n",
       " 'Salad, Burgers, Sandwiches, Restaurants',\n",
       " 'Canadian (New), American (Traditional), Sports Bars, Bars, Burgers, Restaurants, Nightlife',\n",
       " 'Mediterranean, Greek, Burgers, Restaurants',\n",
       " 'Fast Food, Restaurants, Playgrounds, Burgers, Active Life',\n",
       " 'Delis, Restaurants, Burgers',\n",
       " 'Restaurants, Breakfast & Brunch, Diners, Burgers',\n",
       " 'American (Traditional), Burgers, Restaurants',\n",
       " 'Restaurants, Fast Food, Burgers',\n",
       " 'Restaurants, Food, Burgers',\n",
       " 'Comfort Food, Restaurants, Vegan, Burgers',\n",
       " 'Sandwiches, Restaurants, Delis, Burgers',\n",
       " 'Indian, Pizza, Restaurants, Vegetarian, Vegan, Burgers',\n",
       " 'Burgers, Fish & Chips, Seafood, Restaurants',\n",
       " 'Restaurants, Beer, Wine & Spirits, Bars, Nightlife, Burgers, Pubs, Chicken Wings, Gastropubs, Steakhouses, Seafood, Food',\n",
       " 'Sports Bars, Bars, Wigs, Restaurants, Shopping, Chicken Wings, Burgers, Nightlife, Beer Bar',\n",
       " 'Restaurants, Burgers, Fast Food, Sandwiches',\n",
       " 'Hot Dogs, Restaurants, Burgers, Fast Food',\n",
       " 'Hot Dogs, Restaurants, Burgers',\n",
       " 'Burgers, Restaurants, Breakfast & Brunch, Cafes, Gluten-Free',\n",
       " 'Food, Restaurants, Desserts, Cheesesteaks, American (Traditional), Hot Dogs, Burgers',\n",
       " 'Burgers, Restaurants, Fast Food, Breakfast & Brunch',\n",
       " 'Restaurants, Burgers, American (Traditional), Diners, Breakfast & Brunch',\n",
       " 'Sandwiches, Fast Food, Hot Dogs, Restaurants, Burgers',\n",
       " 'Fast Food, Burgers, Restaurants',\n",
       " 'Burgers, Coffee & Tea, Fast Food, Food, Restaurants',\n",
       " 'Halal, American (Traditional), Burgers, Fast Food, Restaurants',\n",
       " 'Sandwiches, Restaurants, Poutineries, Local Flavor, American (Traditional), Burgers',\n",
       " 'Fast Food, Halal, Burgers, Restaurants',\n",
       " 'Burgers, Restaurants, Poutineries',\n",
       " 'Salad, Restaurants, Juice Bars & Smoothies, Gastropubs, Breakfast & Brunch, Coffee Roasteries, Burgers, Comfort Food, Italian, Coffee & Tea, Local Flavor, Vegetarian, Food, Diners',\n",
       " 'Bars, Nightlife, Burgers, Restaurants, Food, Breweries',\n",
       " 'Mediterranean, Restaurants, Burgers',\n",
       " 'Burgers, Restaurants, Pizza, Bars, Nightlife',\n",
       " 'Desserts, Burgers, Food, Restaurants',\n",
       " 'Fast Food, Restaurants, Burgers, American (Traditional)',\n",
       " 'Burgers, Restaurants, Salad, Vegetarian, Gluten-Free',\n",
       " 'Restaurants, Steakhouses, Hot Dogs, Burgers',\n",
       " 'Restaurants, Burgers, Fast Food, Hot Dogs',\n",
       " 'Gastropubs, Beer, Wine & Spirits, Nightlife, Pubs, Event Planning & Services, Canadian (New), Cafes, Bars, Restaurants, Food, Venues & Event Spaces, Burgers, Coffee & Tea',\n",
       " 'Nightlife, Pubs, Cocktail Bars, Salad, Bars, Gastropubs, Restaurants, Diners, Burgers',\n",
       " 'Sports Bars, Pubs, Nightlife, Bars, Canadian (New), Burgers, Restaurants',\n",
       " 'Bars, Nightlife, Restaurants, Sports Bars, Burgers, Canadian (New)',\n",
       " 'Pubs, Bars, Burgers, Nightlife, American (Traditional), Restaurants, Canadian (New), Sports Bars',\n",
       " 'British, Restaurants, Nightlife, Burgers, Bars, Sports Bars',\n",
       " 'Restaurants, Burgers, Fast Food, Desserts, Food',\n",
       " 'Greek, Burgers, Restaurants',\n",
       " 'Breakfast & Brunch, Canadian (New), Restaurants, Bars, American (New), Nightlife, Burgers, Pubs',\n",
       " 'Pizza, Burgers, Restaurants, Halal, Italian',\n",
       " 'Fast Food, Food, Burgers, Chicken Wings, Restaurants',\n",
       " 'American (Traditional), Restaurants, Salad, Seafood, Breakfast & Brunch, Burgers',\n",
       " 'Food, Breakfast & Brunch, Burgers, Coffee & Tea, Restaurants',\n",
       " 'American (Traditional), Salad, Desserts, Food, Gastropubs, Restaurants, Burgers',\n",
       " 'Burgers, Greek, Restaurants, Mediterranean, Sandwiches',\n",
       " 'Nightlife, Breakfast & Brunch, Diners, Seafood, Wine Bars, Canadian (New), Restaurants, Burgers, Bars',\n",
       " 'American (Traditional), Sports Bars, Canadian (New), Nightlife, Restaurants, Burgers, Bars',\n",
       " 'Burgers, Restaurants, Fast Food, American (Traditional)',\n",
       " 'Bars, Breakfast & Brunch, Restaurants, Himalayan/Nepalese, Juice Bars & Smoothies, Food, Nightlife, Indian, Burgers',\n",
       " 'Burgers, Restaurants, Food',\n",
       " 'Halal, Burgers, Fast Food, Restaurants',\n",
       " 'Ice Cream & Frozen Yogurt, Food, Restaurants, Fast Food, Burgers',\n",
       " 'Restaurants, Chicken Wings, Burgers, Breakfast & Brunch',\n",
       " 'Restaurants, Gastropubs, Burgers, Barbeque',\n",
       " 'Fast Food, Breakfast & Brunch, Restaurants, Burgers',\n",
       " 'Bars, Restaurants, Nightlife, Burgers',\n",
       " 'Sandwiches, Burgers, Cheesesteaks, Food, American (Traditional), Steakhouses, Restaurants',\n",
       " 'Burgers, Restaurants, Hot Dogs, Fast Food',\n",
       " 'Caribbean, Restaurants, Middle Eastern, Burgers',\n",
       " 'Sandwiches, Burgers, Nightlife, Restaurants, Bars, American (Traditional)',\n",
       " 'Restaurants, American (Traditional), Burgers, Fast Food',\n",
       " 'Burgers, Restaurants, Pizza, Halal, Chicken Wings',\n",
       " 'Gluten-Free, Restaurants, Halal, Burgers',\n",
       " 'Bars, Pubs, Nightlife, Restaurants, Music Venues, Breweries, Comfort Food, Canadian (New), Food, Burgers, Arts & Entertainment',\n",
       " 'Steakhouses, Restaurants, Tex-Mex, Burgers',\n",
       " 'Comfort Food, Burgers, American (Traditional), Bars, Sandwiches, Restaurants, Nightlife, Canadian (New)',\n",
       " 'Canadian (New), American (New), Bars, Nightlife, Sports Bars, Restaurants, Burgers',\n",
       " 'Nightlife, American (Traditional), Restaurants, Sports Bars, Canadian (New), Bars, Burgers',\n",
       " 'Burgers, Delis, Sandwiches, Restaurants',\n",
       " 'Hot Dogs, Burgers, Food, Restaurants',\n",
       " 'Restaurants, Hot Dogs, Burgers',\n",
       " 'Restaurants, Burgers, American (Traditional), Fast Food',\n",
       " 'Caterers, Food, Burgers, Gluten-Free, Event Planning & Services, Restaurants, Salad, Juice Bars & Smoothies, Vegan',\n",
       " 'Burgers, Poutineries, Restaurants',\n",
       " 'Seafood, Restaurants, Chinese, Dim Sum, Barbeque, Burgers',\n",
       " 'Restaurants, Bars, Burgers, Nightlife',\n",
       " 'American (Traditional), Restaurants, Bars, Karaoke, Nightlife, Burgers, Pool Halls, Pubs',\n",
       " 'Sandwiches, Nightlife, Burgers, Restaurants, Pubs, Bars',\n",
       " 'Burgers, Mediterranean, Restaurants, Breakfast & Brunch',\n",
       " 'Restaurants, American (Traditional), Fast Food, Burgers',\n",
       " 'Food, Restaurants, Burgers, Hot Dogs, Desserts',\n",
       " 'Food, Burgers, Vegan, Restaurants, Desserts',\n",
       " 'Sports Bars, Burgers, Nightlife, Restaurants, American (Traditional), Canadian (New), Bars',\n",
       " 'Restaurants, Pubs, Bars, Nightlife, Burgers',\n",
       " 'Burgers, Fast Food, Hot Dogs, Food, Restaurants',\n",
       " 'Restaurants, Burgers, Chicken Wings, Comfort Food',\n",
       " 'Restaurants, Burgers, Sandwiches, Canadian (New)',\n",
       " 'Comfort Food, Soul Food, Restaurants, Music Venues, Pizza, Food, American (Traditional), Nightlife, Arts & Entertainment, Bars, Burgers, Pubs, Southern',\n",
       " 'Restaurants, Fast Food, American (Traditional), Burgers',\n",
       " 'Shopping, Sports Bars, Burgers, Wigs, Restaurants, Canadian (New), Beer Bar, Bars, Chicken Wings, Nightlife',\n",
       " 'Turkish, Burgers, Halal, Modern European, Restaurants',\n",
       " 'Restaurants, Burgers, Greek',\n",
       " 'Restaurants, Burgers, Nightlife, Bars, Pubs',\n",
       " 'Breakfast & Brunch, Food, Beer, Wine & Spirits, Cafeteria, Food Court, Specialty Food, Canadian (New), Restaurants, Burgers',\n",
       " 'Food, Burgers, Restaurants, Asian Fusion, Do-It-Yourself Food',\n",
       " 'Canadian (New), Fast Food, Burgers, Restaurants',\n",
       " 'Breakfast & Brunch, Burgers, Restaurants',\n",
       " 'Sandwiches, Restaurants, Burgers, Fast Food',\n",
       " 'Burgers, Restaurants, American (Traditional), Fast Food',\n",
       " 'Seafood, Sandwiches, African, Restaurants, Burgers',\n",
       " 'Bars, Nightlife, Pubs, Restaurants, Burgers',\n",
       " 'Food, Restaurants, Fast Food, Burgers, Ice Cream & Frozen Yogurt',\n",
       " 'Fish & Chips, Restaurants, Sandwiches, Burgers',\n",
       " 'Restaurants, Food, Fast Food, Burgers',\n",
       " 'Burgers, Shopping, Restaurants, Sports Bars, Bars, Nightlife, Chicken Wings, Wigs',\n",
       " 'Nightlife, Sports Bars, Burgers, Restaurants, Bars, Canadian (New), American (Traditional)',\n",
       " 'Bars, Salad, Nightlife, Burgers, Restaurants, Food, Beer, Wine & Spirits',\n",
       " 'Restaurants, Burgers, Pizza, Fish & Chips',\n",
       " 'Burgers, Barbeque, Sandwiches, Local Flavor, Restaurants',\n",
       " 'Fast Food, Poutineries, Restaurants, Burgers',\n",
       " 'Restaurants, Sports Bars, Chicken Wings, Burgers, Bars, Nightlife',\n",
       " 'Steakhouses, Tex-Mex, Burgers, Restaurants',\n",
       " 'Burgers, Restaurants, Steakhouses',\n",
       " 'Wigs, Sports Bars, Nightlife, Restaurants, Bars, Shopping, Chicken Wings, Burgers, Beer Bar',\n",
       " 'Food, Restaurants, Burgers',\n",
       " 'Fast Food, Breakfast & Brunch, Burgers, Restaurants',\n",
       " 'Nightlife, Restaurants, Pubs, Food, Food Trucks, Burgers, Bars',\n",
       " 'Burgers, Ice Cream & Frozen Yogurt, Restaurants, Food',\n",
       " 'Salad, Greek, Food, Burgers, Restaurants, Mediterranean, Sandwiches',\n",
       " 'Greek, Poutineries, Burgers, Restaurants',\n",
       " 'Halal, Restaurants, African, Burgers',\n",
       " 'Chicken Wings, Burgers, Fast Food, Restaurants',\n",
       " 'Restaurants, American (Traditional), Fast Food, Breakfast & Brunch, Burgers',\n",
       " 'Asian Fusion, Burgers, Vegetarian, Canadian (New), Pubs, Restaurants, Nightlife, Bars',\n",
       " 'Burgers, Nightlife, Restaurants, Bars, Sports Bars',\n",
       " 'Fast Food, Restaurants, Burgers, Vegetarian',\n",
       " 'Burgers, Restaurants, Breakfast & Brunch, Diners',\n",
       " 'Bars, Nightlife, Sports Bars, Chicken Wings, Burgers, Restaurants, Canadian (New)',\n",
       " 'Sandwiches, Restaurants, Poutineries, Fast Food, Burgers',\n",
       " 'Music Venues, Nightlife, Arts & Entertainment, Canadian (New), Restaurants, Burgers, American (New)',\n",
       " 'Fast Food, Burgers, Juice Bars & Smoothies, Food, Restaurants, Ice Cream & Frozen Yogurt',\n",
       " 'Food, Breakfast & Brunch, Fast Food, Burgers, Event Planning & Services, Restaurants, Filipino, Caterers, Desserts',\n",
       " 'Diners, Breakfast & Brunch, Restaurants, Burgers',\n",
       " 'Burgers, American (Traditional), Restaurants',\n",
       " 'Burgers, Indian, Steakhouses, Halal, Restaurants',\n",
       " 'Restaurants, Burgers, Local Flavor',\n",
       " 'Fish & Chips, Restaurants, Breakfast & Brunch, Delis, Burgers',\n",
       " 'Burgers, Canadian (New), Bars, Nightlife, Restaurants, Seafood',\n",
       " 'Burgers, Nightlife, Bars, Restaurants, Chicken Wings',\n",
       " 'American (New), Canadian (New), Sports Bars, Burgers, Nightlife, Bars, Restaurants, Pubs',\n",
       " 'Fish & Chips, Hot Dogs, Restaurants, Burgers',\n",
       " 'Bars, Burgers, Nightlife, American (Traditional), Restaurants, Chicken Wings, Sports Bars',\n",
       " 'Barbeque, Burgers, Restaurants',\n",
       " 'Burgers, Hot Dogs, Restaurants',\n",
       " 'Restaurants, Arts & Entertainment, Lounges, Burgers, Comedy Clubs, Nightlife, Pubs, Music Venues, Dance Clubs, Bars',\n",
       " 'Food, Burgers, Restaurants',\n",
       " 'Restaurants, Burgers, Halal',\n",
       " 'Burgers, Restaurants, Pubs, Nightlife, Gastropubs, Bars',\n",
       " 'Fast Food, Burgers, Restaurants, Pizza',\n",
       " 'Restaurants, Breakfast & Brunch, Caterers, Burgers, Canadian (New), Comfort Food, Event Planning & Services',\n",
       " 'Breakfast & Brunch, Restaurants, Burgers, Hot Dogs',\n",
       " 'Burgers, Restaurants, Bars, Nightlife',\n",
       " 'Burgers, Desserts, Restaurants, Food, Halal',\n",
       " 'Restaurants, American (Traditional), Burgers',\n",
       " 'Fast Food, Restaurants, Burgers, Hot Dogs',\n",
       " 'Steakhouses, Restaurants, Fast Food, Burgers, Sandwiches',\n",
       " 'Salad, Fast Food, Restaurants, Burgers',\n",
       " 'Restaurants, Bars, Breakfast & Brunch, Sports Bars, Beer Bar, Canadian (New), Gastropubs, Pubs, Nightlife, Tapas/Small Plates, Burgers',\n",
       " 'Burgers, Greek, Restaurants, Salad',\n",
       " 'Breakfast & Brunch, Nightlife, American (Traditional), Sports Bars, Burgers, Restaurants, Bars',\n",
       " 'Restaurants, Salad, Poutineries, Burgers',\n",
       " 'Sandwiches, Diners, Food, Burgers, Restaurants, Grocery',\n",
       " 'Cocktail Bars, Restaurants, Sandwiches, Food, Beer, Wine & Spirits, Nightlife, Burgers, Bars',\n",
       " 'Fast Food, Restaurants, American (Traditional), Burgers',\n",
       " 'Burgers, Nightlife, Pubs, Salad, Restaurants, Bars',\n",
       " 'Bars, Burgers, Food, Restaurants, Nightlife, Beer, Wine & Spirits',\n",
       " 'Nightlife, Sports Bars, Restaurants, Sandwiches, Bars, Fast Food, American (Traditional), Burgers',\n",
       " 'Breakfast & Brunch, Burgers, Barbeque, Steakhouses, Sandwiches, Restaurants, Fish & Chips',\n",
       " 'Fast Food, Restaurants, Breakfast & Brunch, Burgers',\n",
       " 'Restaurants, Burgers, Food',\n",
       " 'Fast Food, Burgers, American (Traditional), Restaurants',\n",
       " 'Restaurants, Burgers, Fast Food, Kosher',\n",
       " 'Food Court, Burgers, Restaurants',\n",
       " 'Greek, Fast Food, Restaurants, Burgers, Food',\n",
       " 'Breakfast & Brunch, Greek, Burgers, Pizza, Restaurants',\n",
       " 'Restaurants, Poutineries, Fish & Chips, Food, Burgers',\n",
       " 'Chicken Wings, Restaurants, Nightlife, American (Traditional), Burgers, Bars, Sports Bars, Pubs, Sandwiches',\n",
       " 'Burgers, Food, Restaurants, Food Delivery Services',\n",
       " 'Poutineries, Burgers, Restaurants, Desserts, Food',\n",
       " 'Chicken Wings, Burgers, Restaurants',\n",
       " 'Japanese, Sandwiches, Restaurants, Burgers',\n",
       " 'Salad, Sandwiches, Bars, Burgers, Restaurants, Nightlife',\n",
       " 'Restaurants, Burgers, Food, Desserts, Salad',\n",
       " 'Restaurants, American (Traditional), Burgers, Breakfast & Brunch, Fast Food',\n",
       " 'Burgers, Restaurants, Caterers, Event Planning & Services, Chicken Shop, Fast Food, Sandwiches, Halal, American (Traditional)',\n",
       " 'Food, Farmers Market, Street Vendors, Restaurants, Burgers',\n",
       " 'Restaurants, Noodles, Burgers, Canadian (New)',\n",
       " 'Sandwiches, Halal, American (Traditional), Restaurants, Burgers',\n",
       " 'Restaurants, Fast Food, Burgers, American (Traditional)',\n",
       " 'Pubs, Restaurants, Nightlife, Pizza, Bars, Chicken Wings, Burgers',\n",
       " 'Poutineries, Salad, Restaurants, Burgers',\n",
       " 'Burgers, Restaurants, Sandwiches, Chicken Wings',\n",
       " 'Food, Burgers, Restaurants, Ice Cream & Frozen Yogurt',\n",
       " 'Fast Food, Food, Burgers, Barbeque, Restaurants',\n",
       " 'Pubs, Restaurants, Burgers, Sports Bars, Bars, Pool Halls, Nightlife',\n",
       " 'Burgers, Restaurants, American (Traditional), Pizza',\n",
       " 'American (New), Canadian (New), Burgers, Restaurants',\n",
       " 'Restaurants, Chicken Wings, Burgers',\n",
       " 'Nightlife, Bars, Restaurants, Cocktail Bars, Burgers, Comfort Food, Gastropubs, Wine Bars',\n",
       " 'Burgers, Food, Breakfast & Brunch, Restaurants',\n",
       " 'Restaurants, Burgers, Pizza, Hot Dogs, Mediterranean, Greek, Sandwiches, Canadian (New)',\n",
       " 'Restaurants, Gluten-Free, Burgers, Vegetarian, Food, Salad, Juice Bars & Smoothies, Fast Food',\n",
       " 'Restaurants, Burgers, Canadian (New), Breakfast & Brunch',\n",
       " 'Restaurants, Food Trucks, Poutineries, Burgers, Food',\n",
       " 'American (Traditional), Restaurants, Breakfast & Brunch, Vegetarian, Salad, Burgers',\n",
       " 'Canadian (New), Restaurants, Nightlife, American (Traditional), Bars, Sports Bars, Burgers',\n",
       " 'Canadian (New), Restaurants, American (New), Nightlife, Burgers, Bars',\n",
       " 'Restaurants, Fast Food, Food, Coffee & Tea, Burgers',\n",
       " 'American (Traditional), Restaurants, Burgers, Fast Food',\n",
       " 'Canadian (New), Bars, Comfort Food, Nightlife, Burgers, American (Traditional), Italian, Restaurants',\n",
       " 'Food, Breakfast & Brunch, Burgers, American (Traditional), Diners, Restaurants',\n",
       " 'Restaurants, Burgers, Pizza, Greek, Salad',\n",
       " 'Restaurants, Sports Bars, Burgers, Canadian (New), American (Traditional), Nightlife, Bars',\n",
       " 'Barbeque, Restaurants, Chicken Wings, Burgers',\n",
       " 'Burgers, Restaurants, Breakfast & Brunch',\n",
       " 'Steakhouses, Halal, Burgers, Restaurants',\n",
       " 'Canadian (New), Lounges, Nightlife, Soup, Restaurants, Comfort Food, Burgers, Bars',\n",
       " 'Restaurants, Fast Food, Burgers, Ice Cream & Frozen Yogurt, Food',\n",
       " 'Bars, Nightlife, Pubs, Pizza, Restaurants, Canadian (New), Sandwiches, Sports Bars, Burgers, Seafood',\n",
       " 'Breakfast & Brunch, Burgers, Salad, Restaurants, Sandwiches',\n",
       " 'Nightlife, Fish & Chips, Bars, Burgers, Chicken Wings, Canadian (New), Restaurants, Sports Bars, American (Traditional)',\n",
       " 'Bars, Burgers, Beer Bar, American (Traditional), Nightlife, Restaurants, Pubs',\n",
       " 'Restaurants, Sandwiches, Poutineries, Burgers',\n",
       " 'Chicken Wings, Bars, Shopping, Restaurants, Wigs, Burgers, Canadian (New), Nightlife, Sports Bars',\n",
       " 'Sandwiches, Restaurants, Comfort Food, Burgers, Halal',\n",
       " 'Pubs, Burgers, Nightlife, Sandwiches, Restaurants, Seafood, Canadian (New), Bars',\n",
       " 'Pizza, Restaurants, Burgers, Hot Dogs',\n",
       " 'Burgers, Sandwiches, Restaurants',\n",
       " 'Restaurants, Lounges, Bars, Nightlife, Burgers, American (Traditional), Cocktail Bars',\n",
       " 'Salad, Canadian (New), Hot Dogs, Sandwiches, Restaurants, Poutineries, Burgers',\n",
       " 'Food, Ice Cream & Frozen Yogurt, Restaurants, Burgers',\n",
       " 'Bars, Nightlife, Burgers, Lounges, Chicken Wings, Restaurants',\n",
       " 'Pubs, Burgers, Restaurants, Beer Bar, Bars, Nightlife',\n",
       " 'Burgers, Nightlife, Sports Bars, Bars, Restaurants, Dive Bars',\n",
       " 'Burgers, Restaurants, Hot Dogs, Poutineries',\n",
       " 'Fast Food, American (Traditional), Restaurants, Burgers',\n",
       " 'Shopping, Restaurants, Nightlife, Beer Bar, Burgers, Wigs, Bars, Sports Bars, Canadian (New), Chicken Wings',\n",
       " 'Diners, Restaurants, Breakfast & Brunch, Burgers',\n",
       " 'Fish & Chips, Poutineries, Burgers, Restaurants',\n",
       " 'Food, Breweries, Restaurants, Bars, Burgers, Pubs, Nightlife',\n",
       " 'Fast Food, Restaurants, Burgers, Greek',\n",
       " 'Diners, Restaurants, Burgers',\n",
       " 'Juice Bars & Smoothies, Vegetarian, Food, Burgers, Fast Food, Restaurants',\n",
       " 'Fast Food, Burgers, Restaurants, American (Traditional)',\n",
       " 'Fast Food, Burgers, Coffee & Tea, Food, Ice Cream & Frozen Yogurt, Restaurants, Bakeries',\n",
       " 'Sandwiches, Restaurants, Burgers',\n",
       " 'Vegetarian, Tex-Mex, Burgers, Restaurants',\n",
       " 'Restaurants, Burgers, Hot Dogs, Fast Food',\n",
       " 'Food, Restaurants, Fast Food, Burgers',\n",
       " 'Bars, Restaurants, Nightlife, Burgers, Mediterranean, Barbeque, Modern European',\n",
       " 'Food, Ice Cream & Frozen Yogurt, Breakfast & Brunch, Restaurants, Burgers',\n",
       " 'Restaurants, Diners, Burgers, Hot Dogs, Breakfast & Brunch, Fast Food',\n",
       " 'Burgers, Restaurants, Halal',\n",
       " 'Restaurants, Bars, Food, Burgers, Beer, Wine & Spirits, Nightlife, American (Traditional)',\n",
       " 'Burgers, Steakhouses, Restaurants, American (Traditional), Sandwiches, Halal, Cheesesteaks, Comfort Food',\n",
       " 'Fast Food, Burgers, Food, Restaurants',\n",
       " 'Restaurants, Burgers, Food, Comfort Food, Sandwiches, Convenience Stores, Canadian (New)',\n",
       " 'Food, Burgers, Restaurants, Pizza, American (Traditional), Desserts',\n",
       " 'Fast Food, Burgers, Restaurants, Canadian (New)',\n",
       " 'Salad, Canadian (New), Burgers, Steakhouses, Seafood, Restaurants',\n",
       " 'Restaurants, Burgers, Pizza, Sandwiches',\n",
       " 'Chicken Wings, Sports Bars, Burgers, Nightlife, American (Traditional), Restaurants, Bars',\n",
       " 'Meat Shops, Restaurants, Grocery, Specialty Food, Food, Barbeque, Burgers',\n",
       " 'Burgers, Restaurants, Diners',\n",
       " 'Breakfast & Brunch, Restaurants, Sandwiches, Fast Food, Burgers, Food Trucks, Food',\n",
       " 'Burgers, Restaurants, Pizza, Halal, Fast Food, Chicken Wings',\n",
       " 'Comfort Food, Restaurants, American (Traditional), Burgers, Sandwiches',\n",
       " 'Mediterranean, Burgers, Bars, Modern European, Barbeque, Nightlife, Restaurants',\n",
       " 'Fast Food, Pizza, Restaurants, Burgers, Food',\n",
       " 'American (Traditional), Restaurants, Pubs, Nightlife, Bars, Burgers',\n",
       " 'Restaurants, Gluten-Free, Poutineries, Burgers, Halal, Vegan, Food',\n",
       " 'Burgers, Breakfast & Brunch, Restaurants, Nightlife, Diners',\n",
       " 'Breakfast & Brunch, Sports Bars, Canadian (New), Burgers, Gluten-Free, Bars, Steakhouses, American (Traditional), American (New), Restaurants, Nightlife',\n",
       " 'Fast Food, American (Traditional), Barbeque, Restaurants, Burgers',\n",
       " 'Wigs, Burgers, Beer Bar, Restaurants, Canadian (New), Shopping, Bars, Sports Bars, Nightlife, Chicken Wings',\n",
       " 'Restaurants, Nightlife, Greek, Bars, Burgers, Pubs',\n",
       " 'Restaurants, French, Burgers, Canadian (New)',\n",
       " 'Restaurants, Burgers, Sports Bars, Canadian (New), Nightlife, Bars, American (Traditional)',\n",
       " 'Sandwiches, Diners, Burgers, Restaurants',\n",
       " 'Greek, Breakfast & Brunch, Burgers, Restaurants',\n",
       " 'Burgers, Hot Dogs, Restaurants, Fast Food',\n",
       " 'Ice Cream & Frozen Yogurt, Burgers, Restaurants, Food',\n",
       " 'Burgers, Persian/Iranian, Sandwiches, Halal, Restaurants, Pizza',\n",
       " 'Canadian (New), Pubs, Nightlife, Restaurants, Burgers, Bars',\n",
       " 'Restaurants, Lounges, American (Traditional), Diners, Sports Bars, Beer, Wine & Spirits, Bars, Burgers, Nightlife, Shopping, Food, Chicken Wings, Wigs',\n",
       " 'Restaurants, Burgers, Poutineries, Hot Dogs',\n",
       " 'Chicken Shop, Restaurants, Halal, Burgers',\n",
       " 'Burgers, Persian/Iranian, Restaurants, Middle Eastern, Pizza, Sandwiches',\n",
       " 'Food, Burgers, American (Traditional), Fast Food, Restaurants',\n",
       " 'Restaurants, Sandwiches, Burgers',\n",
       " 'Restaurants, Chicken Wings, Burgers, Fast Food, Pizza',\n",
       " 'Desserts, Burgers, Ice Cream & Frozen Yogurt, Fast Food, Food, Restaurants',\n",
       " 'American (Traditional), Burgers, Sandwiches, Restaurants, Nightlife, Bars, Chicken Wings, Sports Bars',\n",
       " 'American (Traditional), Breakfast & Brunch, Nightlife, Beer Bar, Sports Bars, Sandwiches, Burgers, Restaurants, Bars',\n",
       " 'Chicken Shop, Restaurants, Burgers, Chicken Wings, Fast Food',\n",
       " 'Restaurants, American (Traditional), Burgers, Pubs, Nightlife, Bars',\n",
       " 'Restaurants, Chicken Shop, Burgers, Fast Food, Southern, Chicken Wings, Breakfast & Brunch',\n",
       " 'Hot Dogs, Burgers, Latin American, Sandwiches, Restaurants',\n",
       " 'Ice Cream & Frozen Yogurt, Burgers, Food, Coffee & Tea, Restaurants, Fast Food',\n",
       " 'Burgers, Breakfast & Brunch, Restaurants, Canadian (New), American (New)',\n",
       " 'Fast Food, Burgers, Restaurants, Food',\n",
       " 'Hot Dogs, Poutineries, Burgers, Restaurants, Fast Food',\n",
       " 'Nightlife, Burgers, Restaurants, Arts & Entertainment, Bars, Arcades',\n",
       " 'Delis, Sandwiches, Chinese, Restaurants, Hot Dogs, Burgers',\n",
       " 'American (Traditional), Burgers, Diners, Restaurants',\n",
       " 'Burgers, Restaurants, Breakfast & Brunch, Sandwiches',\n",
       " 'Restaurants, Chicken Wings, Burgers, Fast Food',\n",
       " 'Canadian (New), Restaurants, Burgers']"
      ]
     },
     "execution_count": 76,
     "metadata": {},
     "output_type": "execute_result"
    }
   ],
   "source": [
    "[x for x in df_ll['categories'].dropna().unique() if 'burger' in x.lower()]"
   ]
  },
  {
   "cell_type": "code",
   "execution_count": 77,
   "metadata": {},
   "outputs": [
    {
     "data": {
      "text/plain": [
       "6602"
      ]
     },
     "execution_count": 77,
     "metadata": {},
     "output_type": "execute_result"
    }
   ],
   "source": [
    "keywords = [\n",
    "    'food',\n",
    "    'restaurant',\n",
    "    'bar',\n",
    "    'soup',\n",
    "    'sushi',\n",
    "    'seafood',\n",
    "    'cafe',\n",
    "    'diner',\n",
    "    'steak',\n",
    "    'burger'\n",
    "]\n",
    "\n",
    "# build large list of lists\n",
    "all_list = []\n",
    "for kw in keywords:\n",
    "    all_list.append([x for x in df_ll['categories'].dropna().unique() if kw in x.lower()])\n",
    "\n",
    "# merge list of lists\n",
    "master_list = []\n",
    "for sublist in all_list:\n",
    "    for item in sublist:\n",
    "        if item not in master_list:\n",
    "            master_list.append(item)\n",
    "len(master_list)"
   ]
  },
  {
   "cell_type": "code",
   "execution_count": 78,
   "metadata": {},
   "outputs": [
    {
     "data": {
      "text/html": [
       "<div>\n",
       "<style scoped>\n",
       "    .dataframe tbody tr th:only-of-type {\n",
       "        vertical-align: middle;\n",
       "    }\n",
       "\n",
       "    .dataframe tbody tr th {\n",
       "        vertical-align: top;\n",
       "    }\n",
       "\n",
       "    .dataframe thead th {\n",
       "        text-align: right;\n",
       "    }\n",
       "</style>\n",
       "<table border=\"1\" class=\"dataframe\">\n",
       "  <thead>\n",
       "    <tr style=\"text-align: right;\">\n",
       "      <th></th>\n",
       "      <th>address</th>\n",
       "      <th>attributes</th>\n",
       "      <th>categories</th>\n",
       "      <th>city</th>\n",
       "      <th>hours</th>\n",
       "      <th>is_open</th>\n",
       "      <th>latitude</th>\n",
       "      <th>longitude</th>\n",
       "      <th>name</th>\n",
       "      <th>neighborhood</th>\n",
       "      <th>postal_code</th>\n",
       "      <th>review_count</th>\n",
       "      <th>stars</th>\n",
       "      <th>state</th>\n",
       "      <th>postal_prefix</th>\n",
       "    </tr>\n",
       "    <tr>\n",
       "      <th>business_id</th>\n",
       "      <th></th>\n",
       "      <th></th>\n",
       "      <th></th>\n",
       "      <th></th>\n",
       "      <th></th>\n",
       "      <th></th>\n",
       "      <th></th>\n",
       "      <th></th>\n",
       "      <th></th>\n",
       "      <th></th>\n",
       "      <th></th>\n",
       "      <th></th>\n",
       "      <th></th>\n",
       "      <th></th>\n",
       "      <th></th>\n",
       "    </tr>\n",
       "  </thead>\n",
       "  <tbody>\n",
       "    <tr>\n",
       "      <th>9A2quhZLyWk0akUetBd8hQ</th>\n",
       "      <td>631 Bloor St W</td>\n",
       "      <td>{'RestaurantsPriceRange2': '1', 'BusinessParki...</td>\n",
       "      <td>Food, Bakeries</td>\n",
       "      <td>Toronto</td>\n",
       "      <td>None</td>\n",
       "      <td>0</td>\n",
       "      <td>43.664378</td>\n",
       "      <td>-79.414424</td>\n",
       "      <td>Bnc Cake House</td>\n",
       "      <td>Koreatown</td>\n",
       "      <td>M6G 1K8</td>\n",
       "      <td>7</td>\n",
       "      <td>4.0</td>\n",
       "      <td>ON</td>\n",
       "      <td>M6</td>\n",
       "    </tr>\n",
       "    <tr>\n",
       "      <th>6OuOZAok8ikONMS_T3EzXg</th>\n",
       "      <td>3417 Derry Road E, Unit 103</td>\n",
       "      <td>{'RestaurantsGoodForGroups': 'True', 'Restaura...</td>\n",
       "      <td>Restaurants, Thai</td>\n",
       "      <td>Mississauga</td>\n",
       "      <td>None</td>\n",
       "      <td>1</td>\n",
       "      <td>43.712946</td>\n",
       "      <td>-79.632763</td>\n",
       "      <td>Thai One On</td>\n",
       "      <td>Ridgewood</td>\n",
       "      <td>L4T 1A8</td>\n",
       "      <td>7</td>\n",
       "      <td>2.0</td>\n",
       "      <td>ON</td>\n",
       "      <td>L4</td>\n",
       "    </tr>\n",
       "    <tr>\n",
       "      <th>tZnSodhPwNr4bzrwJ1CSbw</th>\n",
       "      <td>595 Markham Street</td>\n",
       "      <td>{'WheelchairAccessible': 'False', 'Restaurants...</td>\n",
       "      <td>Cajun/Creole, Southern, Restaurants</td>\n",
       "      <td>Toronto</td>\n",
       "      <td>{'Tuesday': '17:0-1:0', 'Friday': '17:0-1:0', ...</td>\n",
       "      <td>0</td>\n",
       "      <td>43.664125</td>\n",
       "      <td>-79.411886</td>\n",
       "      <td>Southern Accent Restaurant</td>\n",
       "      <td>Palmerston</td>\n",
       "      <td>M6G 2L7</td>\n",
       "      <td>146</td>\n",
       "      <td>4.0</td>\n",
       "      <td>ON</td>\n",
       "      <td>M6</td>\n",
       "    </tr>\n",
       "    <tr>\n",
       "      <th>5J3b7j3Fzo9ISjChmoUoUA</th>\n",
       "      <td>746 Street Clair Avenue W</td>\n",
       "      <td>{'BikeParking': 'True', 'OutdoorSeating': 'Fal...</td>\n",
       "      <td>Food, Bakeries, Coffee &amp; Tea</td>\n",
       "      <td>Toronto</td>\n",
       "      <td>{'Monday': '7:30-19:0', 'Tuesday': '7:30-19:0'...</td>\n",
       "      <td>1</td>\n",
       "      <td>43.681328</td>\n",
       "      <td>-79.427884</td>\n",
       "      <td>Mabel's Bakery</td>\n",
       "      <td>Wychwood</td>\n",
       "      <td>M6C 1B5</td>\n",
       "      <td>23</td>\n",
       "      <td>4.0</td>\n",
       "      <td>ON</td>\n",
       "      <td>M6</td>\n",
       "    </tr>\n",
       "    <tr>\n",
       "      <th>PMDlKLd0Mxj0ngCpuUmE5Q</th>\n",
       "      <td>99 Yorkville Avenue</td>\n",
       "      <td>{'RestaurantsReservations': 'False', 'OutdoorS...</td>\n",
       "      <td>Restaurants, Food, Canadian (New), Coffee &amp; Tea</td>\n",
       "      <td>Toronto</td>\n",
       "      <td>None</td>\n",
       "      <td>0</td>\n",
       "      <td>43.670885</td>\n",
       "      <td>-79.392379</td>\n",
       "      <td>The Coffee Mill Restaurant</td>\n",
       "      <td>Yorkville</td>\n",
       "      <td>M5R 3K5</td>\n",
       "      <td>25</td>\n",
       "      <td>3.5</td>\n",
       "      <td>ON</td>\n",
       "      <td>M5</td>\n",
       "    </tr>\n",
       "  </tbody>\n",
       "</table>\n",
       "</div>"
      ],
      "text/plain": [
       "                                            address  \\\n",
       "business_id                                           \n",
       "9A2quhZLyWk0akUetBd8hQ               631 Bloor St W   \n",
       "6OuOZAok8ikONMS_T3EzXg  3417 Derry Road E, Unit 103   \n",
       "tZnSodhPwNr4bzrwJ1CSbw           595 Markham Street   \n",
       "5J3b7j3Fzo9ISjChmoUoUA    746 Street Clair Avenue W   \n",
       "PMDlKLd0Mxj0ngCpuUmE5Q          99 Yorkville Avenue   \n",
       "\n",
       "                                                               attributes  \\\n",
       "business_id                                                                 \n",
       "9A2quhZLyWk0akUetBd8hQ  {'RestaurantsPriceRange2': '1', 'BusinessParki...   \n",
       "6OuOZAok8ikONMS_T3EzXg  {'RestaurantsGoodForGroups': 'True', 'Restaura...   \n",
       "tZnSodhPwNr4bzrwJ1CSbw  {'WheelchairAccessible': 'False', 'Restaurants...   \n",
       "5J3b7j3Fzo9ISjChmoUoUA  {'BikeParking': 'True', 'OutdoorSeating': 'Fal...   \n",
       "PMDlKLd0Mxj0ngCpuUmE5Q  {'RestaurantsReservations': 'False', 'OutdoorS...   \n",
       "\n",
       "                                                             categories  \\\n",
       "business_id                                                               \n",
       "9A2quhZLyWk0akUetBd8hQ                                   Food, Bakeries   \n",
       "6OuOZAok8ikONMS_T3EzXg                                Restaurants, Thai   \n",
       "tZnSodhPwNr4bzrwJ1CSbw              Cajun/Creole, Southern, Restaurants   \n",
       "5J3b7j3Fzo9ISjChmoUoUA                     Food, Bakeries, Coffee & Tea   \n",
       "PMDlKLd0Mxj0ngCpuUmE5Q  Restaurants, Food, Canadian (New), Coffee & Tea   \n",
       "\n",
       "                               city  \\\n",
       "business_id                           \n",
       "9A2quhZLyWk0akUetBd8hQ      Toronto   \n",
       "6OuOZAok8ikONMS_T3EzXg  Mississauga   \n",
       "tZnSodhPwNr4bzrwJ1CSbw      Toronto   \n",
       "5J3b7j3Fzo9ISjChmoUoUA      Toronto   \n",
       "PMDlKLd0Mxj0ngCpuUmE5Q      Toronto   \n",
       "\n",
       "                                                                    hours  \\\n",
       "business_id                                                                 \n",
       "9A2quhZLyWk0akUetBd8hQ                                               None   \n",
       "6OuOZAok8ikONMS_T3EzXg                                               None   \n",
       "tZnSodhPwNr4bzrwJ1CSbw  {'Tuesday': '17:0-1:0', 'Friday': '17:0-1:0', ...   \n",
       "5J3b7j3Fzo9ISjChmoUoUA  {'Monday': '7:30-19:0', 'Tuesday': '7:30-19:0'...   \n",
       "PMDlKLd0Mxj0ngCpuUmE5Q                                               None   \n",
       "\n",
       "                        is_open   latitude  longitude  \\\n",
       "business_id                                             \n",
       "9A2quhZLyWk0akUetBd8hQ        0  43.664378 -79.414424   \n",
       "6OuOZAok8ikONMS_T3EzXg        1  43.712946 -79.632763   \n",
       "tZnSodhPwNr4bzrwJ1CSbw        0  43.664125 -79.411886   \n",
       "5J3b7j3Fzo9ISjChmoUoUA        1  43.681328 -79.427884   \n",
       "PMDlKLd0Mxj0ngCpuUmE5Q        0  43.670885 -79.392379   \n",
       "\n",
       "                                              name neighborhood postal_code  \\\n",
       "business_id                                                                   \n",
       "9A2quhZLyWk0akUetBd8hQ              Bnc Cake House    Koreatown     M6G 1K8   \n",
       "6OuOZAok8ikONMS_T3EzXg                 Thai One On    Ridgewood     L4T 1A8   \n",
       "tZnSodhPwNr4bzrwJ1CSbw  Southern Accent Restaurant   Palmerston     M6G 2L7   \n",
       "5J3b7j3Fzo9ISjChmoUoUA              Mabel's Bakery     Wychwood     M6C 1B5   \n",
       "PMDlKLd0Mxj0ngCpuUmE5Q  The Coffee Mill Restaurant    Yorkville     M5R 3K5   \n",
       "\n",
       "                        review_count  stars state postal_prefix  \n",
       "business_id                                                      \n",
       "9A2quhZLyWk0akUetBd8hQ             7    4.0    ON            M6  \n",
       "6OuOZAok8ikONMS_T3EzXg             7    2.0    ON            L4  \n",
       "tZnSodhPwNr4bzrwJ1CSbw           146    4.0    ON            M6  \n",
       "5J3b7j3Fzo9ISjChmoUoUA            23    4.0    ON            M6  \n",
       "PMDlKLd0Mxj0ngCpuUmE5Q            25    3.5    ON            M5  "
      ]
     },
     "execution_count": 78,
     "metadata": {},
     "output_type": "execute_result"
    }
   ],
   "source": [
    "dft = df_ll[df_ll['categories'].isin(master_list)].copy()\n",
    "dft.head()"
   ]
  },
  {
   "cell_type": "code",
   "execution_count": 79,
   "metadata": {},
   "outputs": [
    {
     "data": {
      "text/plain": [
       "(13140, 15)"
      ]
     },
     "execution_count": 79,
     "metadata": {},
     "output_type": "execute_result"
    }
   ],
   "source": [
    "dft.shape"
   ]
  },
  {
   "cell_type": "code",
   "execution_count": 80,
   "metadata": {},
   "outputs": [],
   "source": [
    "dft.to_pickle('results/rest_univ.p')"
   ]
  },
  {
   "cell_type": "markdown",
   "metadata": {},
   "source": [
    "### Joining"
   ]
  },
  {
   "cell_type": "code",
   "execution_count": null,
   "metadata": {},
   "outputs": [],
   "source": [
    "dfd = dfd.set_index('ROW_ID')"
   ]
  },
  {
   "cell_type": "code",
   "execution_count": null,
   "metadata": {},
   "outputs": [],
   "source": [
    "# converting all to lower case\n",
    "dfd['name'] = dfd['ESTABLISHMENT_NAME'].apply(lambda x: x.lower())\n",
    "dfd['address'] = dfd['ESTABLISHMENT_ADDRESS'].apply(lambda x: x.lower())\n",
    "dft['name'] = dft['name'].apply(lambda x: x.lower())\n",
    "dft['address'] = dft['address'].apply(lambda x: x.lower())\n",
    "\n",
    "display(dfd[:1][['name', 'address']])\n",
    "print(dfd.shape)\n",
    "\n",
    "display(dft[:1][['name', 'address']])\n",
    "print(dft.shape)"
   ]
  },
  {
   "cell_type": "code",
   "execution_count": null,
   "metadata": {},
   "outputs": [],
   "source": [
    "dfd.columns"
   ]
  },
  {
   "cell_type": "code",
   "execution_count": null,
   "metadata": {
    "scrolled": true
   },
   "outputs": [],
   "source": [
    "# required combined address and name match score\n",
    "CUT_OFF_SCORE = 0.8\n",
    "\n",
    "total_count = dft.shape[0]\n",
    "final_mapper = {}\n",
    "for i, row in enumerate(dft.iterrows()):\n",
    "    cur_bus_id = row[0]\n",
    "    cur_name = row[1]['name']\n",
    "    cur_addr = row[1]['address']\n",
    "    print(\"processing (%s/%s) business: %s at address: %s with id: %s\" % (i+1\n",
    "                                                                          , total_count\n",
    "                                                                          , cur_name\n",
    "                                                                          , cur_addr\n",
    "                                                                          , cur_bus_id))\n",
    "    \n",
    "    dfd['match_name'] = dfd['name'].apply(lambda x: fuzz.partial_ratio(x, cur_name))\n",
    "    dfd['match_addr'] = dfd['address'].apply(lambda x: fuzz.partial_ratio(x, cur_addr))\n",
    "    dfd['score'] = (dfd['match_name'] /  100) * (dfd['match_addr'] / 100)\n",
    "    dfd = dfd.sort_values('score', ascending=False)\n",
    "    if dfd['score'].values[0] > CUT_OFF_SCORE:\n",
    "        print(\"\\n!!! Found Match for \\n(%s, %s) in the dinesafe db \\n at (ROW_ID: %s, %s, %s)\" % (cur_name\n",
    "                                                                                       , cur_addr\n",
    "                                                                                       , dfd.index[0]\n",
    "                                                                                       , dfd['name'].values[0]\n",
    "                                                                                       , dfd['address'].values[0]))\n",
    "        final_mapper[cur_bus_id] = dfd.index[0]\n",
    "    \n",
    "    if i > 1000:\n",
    "        break\n",
    "    "
   ]
  },
  {
   "cell_type": "code",
   "execution_count": null,
   "metadata": {
    "scrolled": true
   },
   "outputs": [],
   "source": [
    "df_map = pd.DataFrame(final_mapper, index=['mapped_ROW_ID']).T\n",
    "df_map.index.name = 'yelp_business_id'\n",
    "df_map"
   ]
  },
  {
   "cell_type": "code",
   "execution_count": null,
   "metadata": {},
   "outputs": [],
   "source": [
    "df_map.shape"
   ]
  },
  {
   "cell_type": "code",
   "execution_count": null,
   "metadata": {},
   "outputs": [],
   "source": [
    "df_map.to_csv('mapped_res.csv')"
   ]
  },
  {
   "cell_type": "code",
   "execution_count": null,
   "metadata": {},
   "outputs": [],
   "source": [
    "# run full data set, report reviews, restaurants, labels"
   ]
  }
 ],
 "metadata": {
  "kernelspec": {
   "display_name": "Python 3",
   "language": "python",
   "name": "python3"
  },
  "language_info": {
   "codemirror_mode": {
    "name": "ipython",
    "version": 3
   },
   "file_extension": ".py",
   "mimetype": "text/x-python",
   "name": "python",
   "nbconvert_exporter": "python",
   "pygments_lexer": "ipython3",
   "version": "3.6.6"
  }
 },
 "nbformat": 4,
 "nbformat_minor": 2
}
