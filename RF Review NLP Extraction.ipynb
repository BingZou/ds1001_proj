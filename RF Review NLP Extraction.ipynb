{
 "cells": [
  {
   "cell_type": "code",
   "execution_count": 1,
   "metadata": {},
   "outputs": [],
   "source": [
    "import pandas as pd\n",
    "import numpy as np\n",
    "from tqdm import tqdm_notebook as tqdm\n",
    "import nltk\n",
    "\n",
    "import matplotlib.pyplot as plt\n",
    "%matplotlib inline\n",
    "\n",
    "from importlib import reload\n",
    "\n",
    "from ReviewFeatureExtractor import ExtractBoW"
   ]
  },
  {
   "cell_type": "markdown",
   "metadata": {},
   "source": [
    "### Hyperparameters"
   ]
  },
  {
   "cell_type": "code",
   "execution_count": 2,
   "metadata": {},
   "outputs": [],
   "source": [
    "VOC_SIZE = 100000\n",
    "REVIEW_CUTOFF_DATE = pd.Timestamp(2015, 12, 31)"
   ]
  },
  {
   "cell_type": "markdown",
   "metadata": {},
   "source": [
    "### All Words"
   ]
  },
  {
   "cell_type": "code",
   "execution_count": 3,
   "metadata": {},
   "outputs": [],
   "source": [
    "e = ExtractBoW(voc_size=VOC_SIZE)\n",
    "\n",
    "e.load_word_vecs('data/wiki-news-300d-1M.vec')"
   ]
  },
  {
   "cell_type": "markdown",
   "metadata": {},
   "source": [
    "### Need to iterate through each business and person"
   ]
  },
  {
   "cell_type": "code",
   "execution_count": 5,
   "metadata": {},
   "outputs": [],
   "source": [
    "df_reviews = pd.read_pickle('results/tor_reviews.p')  # reviews\n",
    "df_reviews['date'] = df_reviews['date'].astype('datetime64[ns]')\n",
    "df_reviews = df_reviews[df_reviews['date'] > REVIEW_CUTOFF_DATE]\n",
    "\n",
    "df_bus = pd.read_pickle('results/rest_univ_filter.p')  # businesses\n",
    "df_users = pd.read_pickle('results/tor_users.p')  # users"
   ]
  },
  {
   "cell_type": "markdown",
   "metadata": {},
   "source": [
    "### What is the distribution of review dates?"
   ]
  },
  {
   "cell_type": "code",
   "execution_count": 6,
   "metadata": {},
   "outputs": [
    {
     "data": {
      "image/png": "[encoded data removed]",
      "text/plain": [
       "<Figure size 432x288 with 1 Axes>"
      ]
     },
     "metadata": {
      "needs_background": "light"
     },
     "output_type": "display_data"
    }
   ],
   "source": [
    "plt.hist(df_reviews['date'].values, bins=40)\n",
    "plt.show()"
   ]
  },
  {
   "cell_type": "code",
   "execution_count": 7,
   "metadata": {},
   "outputs": [
    {
     "name": "stdout",
     "output_type": "stream",
     "text": [
      "(10914, 16)\n",
      "(93075, 21)\n",
      "(196768, 9)\n"
     ]
    }
   ],
   "source": [
    "print(df_bus.shape)\n",
    "print(df_users.shape)\n",
    "print(df_reviews.shape)"
   ]
  },
  {
   "cell_type": "code",
   "execution_count": 8,
   "metadata": {},
   "outputs": [
    {
     "data": {
      "text/plain": [
       "Index(['business_id', 'cool', 'date', 'funny', 'review_id', 'stars', 'text',\n",
       "       'useful', 'user_id'],\n",
       "      dtype='object')"
      ]
     },
     "execution_count": 8,
     "metadata": {},
     "output_type": "execute_result"
    }
   ],
   "source": [
    "df_reviews.columns"
   ]
  },
  {
   "cell_type": "markdown",
   "metadata": {},
   "source": [
    "### Businesses"
   ]
  },
  {
   "cell_type": "code",
   "execution_count": 8,
   "metadata": {},
   "outputs": [
    {
     "data": {
      "application/vnd.jupyter.widget-view+json": {
       "model_id": "5c8835167a3847adbfdbe93961425c89",
       "version_major": 2,
       "version_minor": 0
      },
      "text/plain": [
       "HBox(children=(IntProgress(value=1, bar_style='info', max=1), HTML(value='')))"
      ]
     },
     "metadata": {},
     "output_type": "display_data"
    },
    {
     "name": "stdout",
     "output_type": "stream",
     "text": [
      "processed 0/13140 businesses\n",
      "processed 500/13140 businesses\n",
      "processed 1000/13140 businesses\n",
      "processed 1500/13140 businesses\n",
      "processed 2000/13140 businesses\n",
      "processed 2500/13140 businesses\n",
      "processed 3000/13140 businesses\n",
      "processed 3500/13140 businesses\n",
      "processed 4000/13140 businesses\n",
      "processed 4500/13140 businesses\n",
      "processed 5000/13140 businesses\n",
      "processed 5500/13140 businesses\n",
      "processed 6000/13140 businesses\n",
      "processed 6500/13140 businesses\n",
      "processed 7000/13140 businesses\n",
      "processed 7500/13140 businesses\n",
      "processed 8000/13140 businesses\n",
      "processed 8500/13140 businesses\n",
      "processed 9000/13140 businesses\n",
      "processed 9500/13140 businesses\n",
      "processed 10000/13140 businesses\n",
      "processed 10500/13140 businesses\n",
      "processed 11000/13140 businesses\n",
      "processed 11500/13140 businesses\n",
      "processed 12000/13140 businesses\n",
      "processed 12500/13140 businesses\n",
      "processed 13000/13140 businesses\n",
      "\n"
     ]
    }
   ],
   "source": [
    "res_dict = {}\n",
    "\n",
    "for i, bus_id in tqdm(enumerate(df_bus.index)):\n",
    "    reviews_df = df_reviews[df_reviews['business_id'] == bus_id]\n",
    "    tot_reviews = reviews_df.shape[0]\n",
    "    \n",
    "    # print(\"now processing %s with %s reviews\" % (bus_id, tot_reviews))\n",
    "    \n",
    "    avg_stars = reviews_df['stars'].mean()\n",
    "    tot_cool = reviews_df['cool'].sum()\n",
    "    tot_funny = reviews_df['funny'].sum()\n",
    "    tot_useful = reviews_df['useful'].sum()\n",
    "    \n",
    "    texts = reviews_df['text'].values\n",
    "    \n",
    "    if tot_reviews > 0:\n",
    "        vec_all = e.extract(texts)\n",
    "        vec_n = e.extract(texts, word_type=e.WORD_TYPE_NOUN)\n",
    "        vec_j = e.extract(texts, word_type=e.WORD_TYPE_ADJ)\n",
    "        vec_v = e.extract(texts, word_type=e.WORD_TYPE_VERB)\n",
    "    else:\n",
    "        vec_all = np.zeros(e.loaded_embeddings.shape[1])\n",
    "        vec_n = np.zeros(e.loaded_embeddings.shape[1])\n",
    "        vec_j = np.zeros(e.loaded_embeddings.shape[1])\n",
    "        vec_v = np.zeros(e.loaded_embeddings.shape[1])\n",
    "        \n",
    "    res_dict[bus_id] = {\n",
    "        'tot_reviews': tot_reviews,\n",
    "        'avg_stars': avg_stars,\n",
    "        'tot_cool': tot_cool,\n",
    "        'tot_funny': tot_funny,\n",
    "        'tot_useful': tot_useful,\n",
    "        'vec_all': vec_all,\n",
    "        'vec_n': vec_n,\n",
    "        'vec_j': vec_j,\n",
    "        'vec_v': vec_v,\n",
    "    }\n",
    "    \n",
    "    if i % 500 == 0:\n",
    "        print(\"processed %s/%s businesses\" % (i, len(df_bus.index)))\n",
    "    \n",
    "res_df = pd.DataFrame(res_dict).T"
   ]
  },
  {
   "cell_type": "code",
   "execution_count": 9,
   "metadata": {},
   "outputs": [],
   "source": [
    "res_df.to_pickle('results/bus_review_extracts.p')"
   ]
  },
  {
   "cell_type": "markdown",
   "metadata": {},
   "source": [
    "### Users"
   ]
  },
  {
   "cell_type": "code",
   "execution_count": 9,
   "metadata": {},
   "outputs": [
    {
     "data": {
      "text/plain": [
       "Index(['business_id', 'cool', 'date', 'funny', 'review_id', 'stars', 'text',\n",
       "       'useful', 'user_id'],\n",
       "      dtype='object')"
      ]
     },
     "execution_count": 9,
     "metadata": {},
     "output_type": "execute_result"
    }
   ],
   "source": [
    "df_reviews.columns"
   ]
  },
  {
   "cell_type": "code",
   "execution_count": 13,
   "metadata": {
    "scrolled": true
   },
   "outputs": [
    {
     "data": {
      "application/vnd.jupyter.widget-view+json": {
       "model_id": "2e8e2b6c0807445b9885a8df687b3af3",
       "version_major": 2,
       "version_minor": 0
      },
      "text/plain": [
       "HBox(children=(IntProgress(value=1, bar_style='info', max=1), HTML(value='')))"
      ]
     },
     "metadata": {},
     "output_type": "display_data"
    },
    {
     "name": "stdout",
     "output_type": "stream",
     "text": [
      "processed 0/93075 users\n",
      "processed 1000/93075 users\n",
      "processed 2000/93075 users\n",
      "processed 3000/93075 users\n",
      "processed 4000/93075 users\n",
      "processed 5000/93075 users\n",
      "processed 6000/93075 users\n",
      "processed 7000/93075 users\n",
      "processed 8000/93075 users\n",
      "processed 9000/93075 users\n",
      "processed 10000/93075 users\n",
      "processed 11000/93075 users\n",
      "processed 12000/93075 users\n",
      "processed 13000/93075 users\n",
      "processed 14000/93075 users\n",
      "processed 15000/93075 users\n",
      "processed 16000/93075 users\n",
      "processed 17000/93075 users\n",
      "processed 18000/93075 users\n",
      "processed 19000/93075 users\n",
      "processed 20000/93075 users\n",
      "processed 21000/93075 users\n",
      "processed 22000/93075 users\n",
      "processed 23000/93075 users\n",
      "processed 24000/93075 users\n",
      "processed 25000/93075 users\n",
      "processed 26000/93075 users\n",
      "processed 27000/93075 users\n",
      "processed 28000/93075 users\n",
      "processed 29000/93075 users\n",
      "processed 30000/93075 users\n",
      "processed 31000/93075 users\n",
      "processed 32000/93075 users\n",
      "processed 33000/93075 users\n",
      "processed 34000/93075 users\n",
      "processed 35000/93075 users\n",
      "processed 36000/93075 users\n",
      "processed 37000/93075 users\n",
      "processed 38000/93075 users\n",
      "processed 39000/93075 users\n",
      "processed 40000/93075 users\n",
      "processed 41000/93075 users\n",
      "processed 42000/93075 users\n",
      "processed 43000/93075 users\n",
      "processed 44000/93075 users\n",
      "processed 45000/93075 users\n",
      "processed 46000/93075 users\n",
      "processed 47000/93075 users\n",
      "processed 48000/93075 users\n",
      "processed 49000/93075 users\n",
      "processed 50000/93075 users\n",
      "processed 51000/93075 users\n",
      "processed 52000/93075 users\n",
      "processed 53000/93075 users\n",
      "processed 54000/93075 users\n",
      "processed 55000/93075 users\n",
      "processed 56000/93075 users\n",
      "processed 57000/93075 users\n",
      "processed 58000/93075 users\n",
      "processed 59000/93075 users\n",
      "processed 60000/93075 users\n",
      "processed 61000/93075 users\n",
      "processed 62000/93075 users\n",
      "processed 63000/93075 users\n",
      "processed 64000/93075 users\n",
      "processed 65000/93075 users\n",
      "processed 66000/93075 users\n",
      "processed 67000/93075 users\n",
      "processed 68000/93075 users\n",
      "processed 69000/93075 users\n",
      "processed 70000/93075 users\n",
      "processed 71000/93075 users\n",
      "processed 72000/93075 users\n",
      "processed 73000/93075 users\n",
      "processed 74000/93075 users\n",
      "processed 75000/93075 users\n",
      "processed 76000/93075 users\n",
      "processed 77000/93075 users\n",
      "processed 78000/93075 users\n",
      "processed 79000/93075 users\n",
      "processed 80000/93075 users\n",
      "processed 81000/93075 users\n",
      "processed 82000/93075 users\n",
      "processed 83000/93075 users\n",
      "processed 84000/93075 users\n",
      "processed 85000/93075 users\n",
      "processed 86000/93075 users\n",
      "processed 87000/93075 users\n",
      "processed 88000/93075 users\n",
      "processed 89000/93075 users\n",
      "processed 90000/93075 users\n",
      "processed 91000/93075 users\n",
      "processed 92000/93075 users\n",
      "processed 93000/93075 users\n",
      "\n"
     ]
    }
   ],
   "source": [
    "res_dict = {}\n",
    "\n",
    "for i, u_id in tqdm(enumerate(df_users.index)):\n",
    "    reviews_df = df_reviews[df_reviews['user_id'] == u_id]\n",
    "    tot_reviews = reviews_df.shape[0]\n",
    "    \n",
    "    # print(\"now processing %s with %s reviews\" % (bus_id, tot_reviews))\n",
    "    \n",
    "    avg_stars = reviews_df['stars'].mean()\n",
    "    tot_cool = reviews_df['cool'].sum()\n",
    "    tot_funny = reviews_df['funny'].sum()\n",
    "    tot_useful = reviews_df['useful'].sum()\n",
    "    \n",
    "    texts = reviews_df['text'].values\n",
    "    \n",
    "    if tot_reviews > 0:\n",
    "        vec_all = e.extract(texts)\n",
    "        vec_n = e.extract(texts, word_type=e.WORD_TYPE_NOUN)\n",
    "        vec_j = e.extract(texts, word_type=e.WORD_TYPE_ADJ)\n",
    "        vec_v = e.extract(texts, word_type=e.WORD_TYPE_VERB)\n",
    "    else:\n",
    "        vec_all = np.zeros(e.loaded_embeddings.shape[1])\n",
    "        vec_n = np.zeros(e.loaded_embeddings.shape[1])\n",
    "        vec_j = np.zeros(e.loaded_embeddings.shape[1])\n",
    "        vec_v = np.zeros(e.loaded_embeddings.shape[1])\n",
    "        \n",
    "    res_dict[u_id] = {\n",
    "        'tot_reviews': tot_reviews,\n",
    "        'avg_stars': avg_stars,\n",
    "        'tot_cool': tot_cool,\n",
    "        'tot_funny': tot_funny,\n",
    "        'tot_useful': tot_useful,\n",
    "        'vec_all': vec_all,\n",
    "        'vec_n': vec_n,\n",
    "        'vec_j': vec_j,\n",
    "        'vec_v': vec_v,\n",
    "    }\n",
    "    \n",
    "    if i % 1000 == 0:\n",
    "        print(\"processed %s/%s users\" % (i, len(df_users.index)))\n",
    "    \n",
    "res_df = pd.DataFrame(res_dict).T\n",
    "res_df.to_pickle('results/user_review_extracts.p')"
   ]
  },
  {
   "cell_type": "code",
   "execution_count": 14,
   "metadata": {},
   "outputs": [
    {
     "data": {
      "text/html": [
       "<div>\n",
       "<style scoped>\n",
       "    .dataframe tbody tr th:only-of-type {\n",
       "        vertical-align: middle;\n",
       "    }\n",
       "\n",
       "    .dataframe tbody tr th {\n",
       "        vertical-align: top;\n",
       "    }\n",
       "\n",
       "    .dataframe thead th {\n",
       "        text-align: right;\n",
       "    }\n",
       "</style>\n",
       "<table border=\"1\" class=\"dataframe\">\n",
       "  <thead>\n",
       "    <tr style=\"text-align: right;\">\n",
       "      <th></th>\n",
       "      <th>avg_stars</th>\n",
       "      <th>tot_cool</th>\n",
       "      <th>tot_funny</th>\n",
       "      <th>tot_reviews</th>\n",
       "      <th>tot_useful</th>\n",
       "      <th>vec_all</th>\n",
       "      <th>vec_j</th>\n",
       "      <th>vec_n</th>\n",
       "      <th>vec_v</th>\n",
       "    </tr>\n",
       "  </thead>\n",
       "  <tbody>\n",
       "    <tr>\n",
       "      <th>hxqo4NyJFfeOmuoVi--s1A</th>\n",
       "      <td>5</td>\n",
       "      <td>0</td>\n",
       "      <td>0</td>\n",
       "      <td>1</td>\n",
       "      <td>0</td>\n",
       "      <td>[-0.02201454545454546, -0.0022627272727272687,...</td>\n",
       "      <td>[-0.10801666666666666, -0.06435, -0.0435500000...</td>\n",
       "      <td>[-0.03407037037037037, -0.0028407407407407353,...</td>\n",
       "      <td>[-0.0175125, 0.009274999999999999, -0.023675, ...</td>\n",
       "    </tr>\n",
       "    <tr>\n",
       "      <th>B7Fh30KQT1xPSGt_pIhRRA</th>\n",
       "      <td>NaN</td>\n",
       "      <td>0</td>\n",
       "      <td>0</td>\n",
       "      <td>0</td>\n",
       "      <td>0</td>\n",
       "      <td>[0.0, 0.0, 0.0, 0.0, 0.0, 0.0, 0.0, 0.0, 0.0, ...</td>\n",
       "      <td>[0.0, 0.0, 0.0, 0.0, 0.0, 0.0, 0.0, 0.0, 0.0, ...</td>\n",
       "      <td>[0.0, 0.0, 0.0, 0.0, 0.0, 0.0, 0.0, 0.0, 0.0, ...</td>\n",
       "      <td>[0.0, 0.0, 0.0, 0.0, 0.0, 0.0, 0.0, 0.0, 0.0, ...</td>\n",
       "    </tr>\n",
       "    <tr>\n",
       "      <th>FCtoTo9zSH1cSAkascfEHw</th>\n",
       "      <td>1</td>\n",
       "      <td>0</td>\n",
       "      <td>0</td>\n",
       "      <td>1</td>\n",
       "      <td>0</td>\n",
       "      <td>[-0.011431914893617022, -0.0032063829787234046...</td>\n",
       "      <td>[-0.01654285714285714, -0.04587142857142857, -...</td>\n",
       "      <td>[-0.007938461538461537, 0.02752307692307692, -...</td>\n",
       "      <td>[-0.006627272727272734, -0.021236363636363643,...</td>\n",
       "    </tr>\n",
       "    <tr>\n",
       "      <th>YHWsLBS8jzZiPjKHMFOaAA</th>\n",
       "      <td>NaN</td>\n",
       "      <td>0</td>\n",
       "      <td>0</td>\n",
       "      <td>0</td>\n",
       "      <td>0</td>\n",
       "      <td>[0.0, 0.0, 0.0, 0.0, 0.0, 0.0, 0.0, 0.0, 0.0, ...</td>\n",
       "      <td>[0.0, 0.0, 0.0, 0.0, 0.0, 0.0, 0.0, 0.0, 0.0, ...</td>\n",
       "      <td>[0.0, 0.0, 0.0, 0.0, 0.0, 0.0, 0.0, 0.0, 0.0, ...</td>\n",
       "      <td>[0.0, 0.0, 0.0, 0.0, 0.0, 0.0, 0.0, 0.0, 0.0, ...</td>\n",
       "    </tr>\n",
       "    <tr>\n",
       "      <th>XLA3LkbfQfeA-VYO7Zgzyg</th>\n",
       "      <td>NaN</td>\n",
       "      <td>0</td>\n",
       "      <td>0</td>\n",
       "      <td>0</td>\n",
       "      <td>0</td>\n",
       "      <td>[0.0, 0.0, 0.0, 0.0, 0.0, 0.0, 0.0, 0.0, 0.0, ...</td>\n",
       "      <td>[0.0, 0.0, 0.0, 0.0, 0.0, 0.0, 0.0, 0.0, 0.0, ...</td>\n",
       "      <td>[0.0, 0.0, 0.0, 0.0, 0.0, 0.0, 0.0, 0.0, 0.0, ...</td>\n",
       "      <td>[0.0, 0.0, 0.0, 0.0, 0.0, 0.0, 0.0, 0.0, 0.0, ...</td>\n",
       "    </tr>\n",
       "  </tbody>\n",
       "</table>\n",
       "</div>"
      ],
      "text/plain": [
       "                       avg_stars tot_cool tot_funny tot_reviews tot_useful  \\\n",
       "hxqo4NyJFfeOmuoVi--s1A         5        0         0           1          0   \n",
       "B7Fh30KQT1xPSGt_pIhRRA       NaN        0         0           0          0   \n",
       "FCtoTo9zSH1cSAkascfEHw         1        0         0           1          0   \n",
       "YHWsLBS8jzZiPjKHMFOaAA       NaN        0         0           0          0   \n",
       "XLA3LkbfQfeA-VYO7Zgzyg       NaN        0         0           0          0   \n",
       "\n",
       "                                                                  vec_all  \\\n",
       "hxqo4NyJFfeOmuoVi--s1A  [-0.02201454545454546, -0.0022627272727272687,...   \n",
       "B7Fh30KQT1xPSGt_pIhRRA  [0.0, 0.0, 0.0, 0.0, 0.0, 0.0, 0.0, 0.0, 0.0, ...   \n",
       "FCtoTo9zSH1cSAkascfEHw  [-0.011431914893617022, -0.0032063829787234046...   \n",
       "YHWsLBS8jzZiPjKHMFOaAA  [0.0, 0.0, 0.0, 0.0, 0.0, 0.0, 0.0, 0.0, 0.0, ...   \n",
       "XLA3LkbfQfeA-VYO7Zgzyg  [0.0, 0.0, 0.0, 0.0, 0.0, 0.0, 0.0, 0.0, 0.0, ...   \n",
       "\n",
       "                                                                    vec_j  \\\n",
       "hxqo4NyJFfeOmuoVi--s1A  [-0.10801666666666666, -0.06435, -0.0435500000...   \n",
       "B7Fh30KQT1xPSGt_pIhRRA  [0.0, 0.0, 0.0, 0.0, 0.0, 0.0, 0.0, 0.0, 0.0, ...   \n",
       "FCtoTo9zSH1cSAkascfEHw  [-0.01654285714285714, -0.04587142857142857, -...   \n",
       "YHWsLBS8jzZiPjKHMFOaAA  [0.0, 0.0, 0.0, 0.0, 0.0, 0.0, 0.0, 0.0, 0.0, ...   \n",
       "XLA3LkbfQfeA-VYO7Zgzyg  [0.0, 0.0, 0.0, 0.0, 0.0, 0.0, 0.0, 0.0, 0.0, ...   \n",
       "\n",
       "                                                                    vec_n  \\\n",
       "hxqo4NyJFfeOmuoVi--s1A  [-0.03407037037037037, -0.0028407407407407353,...   \n",
       "B7Fh30KQT1xPSGt_pIhRRA  [0.0, 0.0, 0.0, 0.0, 0.0, 0.0, 0.0, 0.0, 0.0, ...   \n",
       "FCtoTo9zSH1cSAkascfEHw  [-0.007938461538461537, 0.02752307692307692, -...   \n",
       "YHWsLBS8jzZiPjKHMFOaAA  [0.0, 0.0, 0.0, 0.0, 0.0, 0.0, 0.0, 0.0, 0.0, ...   \n",
       "XLA3LkbfQfeA-VYO7Zgzyg  [0.0, 0.0, 0.0, 0.0, 0.0, 0.0, 0.0, 0.0, 0.0, ...   \n",
       "\n",
       "                                                                    vec_v  \n",
       "hxqo4NyJFfeOmuoVi--s1A  [-0.0175125, 0.009274999999999999, -0.023675, ...  \n",
       "B7Fh30KQT1xPSGt_pIhRRA  [0.0, 0.0, 0.0, 0.0, 0.0, 0.0, 0.0, 0.0, 0.0, ...  \n",
       "FCtoTo9zSH1cSAkascfEHw  [-0.006627272727272734, -0.021236363636363643,...  \n",
       "YHWsLBS8jzZiPjKHMFOaAA  [0.0, 0.0, 0.0, 0.0, 0.0, 0.0, 0.0, 0.0, 0.0, ...  \n",
       "XLA3LkbfQfeA-VYO7Zgzyg  [0.0, 0.0, 0.0, 0.0, 0.0, 0.0, 0.0, 0.0, 0.0, ...  "
      ]
     },
     "execution_count": 14,
     "metadata": {},
     "output_type": "execute_result"
    }
   ],
   "source": [
    "res_df.head()"
   ]
  },
  {
   "cell_type": "code",
   "execution_count": 19,
   "metadata": {},
   "outputs": [],
   "source": [
    "tot_rev_distr = res_df[res_df['tot_reviews'] > 0]['tot_reviews'].sort_values().values"
   ]
  },
  {
   "cell_type": "code",
   "execution_count": 21,
   "metadata": {},
   "outputs": [
    {
     "data": {
      "text/plain": [
       "array([1, 1, 1, ..., 255, 297, 327], dtype=object)"
      ]
     },
     "execution_count": 21,
     "metadata": {},
     "output_type": "execute_result"
    }
   ],
   "source": [
    "tot_rev_distr"
   ]
  },
  {
   "cell_type": "code",
   "execution_count": 22,
   "metadata": {},
   "outputs": [
    {
     "data": {
      "image/png": "[encoded data removed]",
      "text/plain": [
       "<Figure size 432x288 with 1 Axes>"
      ]
     },
     "metadata": {
      "needs_background": "light"
     },
     "output_type": "display_data"
    }
   ],
   "source": [
    "plt.plot(tot_rev_distr)\n",
    "plt.show()"
   ]
  },
  {
   "cell_type": "code",
   "execution_count": null,
   "metadata": {},
   "outputs": [],
   "source": []
  }
 ],
 "metadata": {
  "kernelspec": {
   "display_name": "Python 3",
   "language": "python",
   "name": "python3"
  },
  "language_info": {
   "codemirror_mode": {
    "name": "ipython",
    "version": 3
   },
   "file_extension": ".py",
   "mimetype": "text/x-python",
   "name": "python",
   "nbconvert_exporter": "python",
   "pygments_lexer": "ipython3",
   "version": "3.6.6"
  }
 },
 "nbformat": 4,
 "nbformat_minor": 2
}
