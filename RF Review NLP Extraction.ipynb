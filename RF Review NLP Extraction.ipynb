{
 "cells": [
  {
   "cell_type": "code",
   "execution_count": 1,
   "metadata": {},
   "outputs": [],
   "source": [
    "import pandas as pd\n",
    "import numpy as np\n",
    "from tqdm import tqdm_notebook as tqdm\n",
    "import nltk\n",
    "\n",
    "import matplotlib.pyplot as plt\n",
    "%matplotlib inline\n",
    "\n",
    "from importlib import reload\n",
    "\n",
    "from ReviewFeatureExtractor import ExtractBoW"
   ]
  },
  {
   "cell_type": "markdown",
   "metadata": {},
   "source": [
    "### Hyperparameters"
   ]
  },
  {
   "cell_type": "code",
   "execution_count": 2,
   "metadata": {},
   "outputs": [],
   "source": [
    "VOC_SIZE = 100000\n",
    "REVIEW_CUTOFF_DATE = pd.Timestamp(2015, 12, 31)"
   ]
  },
  {
   "cell_type": "markdown",
   "metadata": {},
   "source": [
    "### All Words"
   ]
  },
  {
   "cell_type": "code",
   "execution_count": 3,
   "metadata": {},
   "outputs": [],
   "source": [
    "e = ExtractBoW(voc_size=VOC_SIZE)\n",
    "\n",
    "e.load_word_vecs('data/wiki-news-300d-1M.vec')"
   ]
  },
  {
   "cell_type": "markdown",
   "metadata": {},
   "source": [
    "### Need to iterate through each business and person"
   ]
  },
  {
   "cell_type": "code",
   "execution_count": 4,
   "metadata": {},
   "outputs": [],
   "source": [
    "df_reviews = pd.read_pickle('results/tor_reviews.p')  # reviews\n",
    "df_reviews['date'] = df_reviews['date'].astype('datetime64[ns]')\n",
    "df_reviews = df_reviews[df_reviews['date'] > REVIEW_CUTOFF_DATE]\n",
    "\n",
    "df_bus = pd.read_pickle('results/rest_univ.p')  # businesses\n",
    "df_users = pd.read_pickle('results/tor_users.p')  # users"
   ]
  },
  {
   "cell_type": "markdown",
   "metadata": {},
   "source": [
    "### What is the distribution of review dates?"
   ]
  },
  {
   "cell_type": "code",
   "execution_count": 5,
   "metadata": {},
   "outputs": [
    {
     "data": {
      "image/png": "[encoded data removed]",
      "text/plain": [
       "<Figure size 432x288 with 1 Axes>"
      ]
     },
     "metadata": {
      "needs_background": "light"
     },
     "output_type": "display_data"
    }
   ],
   "source": [
    "plt.hist(df_reviews['date'].values, bins=40)\n",
    "plt.show()"
   ]
  },
  {
   "cell_type": "code",
   "execution_count": 6,
   "metadata": {},
   "outputs": [
    {
     "name": "stdout",
     "output_type": "stream",
     "text": [
      "(13140, 15)\n",
      "(96607, 21)\n",
      "(213101, 9)\n"
     ]
    }
   ],
   "source": [
    "print(df_bus.shape)\n",
    "print(df_users.shape)\n",
    "print(df_reviews.shape)"
   ]
  },
  {
   "cell_type": "code",
   "execution_count": 7,
   "metadata": {},
   "outputs": [
    {
     "data": {
      "text/plain": [
       "Index(['business_id', 'cool', 'date', 'funny', 'review_id', 'stars', 'text',\n",
       "       'useful', 'user_id'],\n",
       "      dtype='object')"
      ]
     },
     "execution_count": 7,
     "metadata": {},
     "output_type": "execute_result"
    }
   ],
   "source": [
    "df_reviews.columns"
   ]
  },
  {
   "cell_type": "code",
   "execution_count": 8,
   "metadata": {},
   "outputs": [
    {
     "data": {
      "application/vnd.jupyter.widget-view+json": {
       "model_id": "5c8835167a3847adbfdbe93961425c89",
       "version_major": 2,
       "version_minor": 0
      },
      "text/plain": [
       "HBox(children=(IntProgress(value=1, bar_style='info', max=1), HTML(value='')))"
      ]
     },
     "metadata": {},
     "output_type": "display_data"
    },
    {
     "name": "stdout",
     "output_type": "stream",
     "text": [
      "processed 0/13140 businesses\n",
      "processed 500/13140 businesses\n",
      "processed 1000/13140 businesses\n",
      "processed 1500/13140 businesses\n",
      "processed 2000/13140 businesses\n",
      "processed 2500/13140 businesses\n",
      "processed 3000/13140 businesses\n",
      "processed 3500/13140 businesses\n",
      "processed 4000/13140 businesses\n",
      "processed 4500/13140 businesses\n",
      "processed 5000/13140 businesses\n",
      "processed 5500/13140 businesses\n",
      "processed 6000/13140 businesses\n",
      "processed 6500/13140 businesses\n",
      "processed 7000/13140 businesses\n",
      "processed 7500/13140 businesses\n",
      "processed 8000/13140 businesses\n",
      "processed 8500/13140 businesses\n",
      "processed 9000/13140 businesses\n",
      "processed 9500/13140 businesses\n",
      "processed 10000/13140 businesses\n",
      "processed 10500/13140 businesses\n",
      "processed 11000/13140 businesses\n",
      "processed 11500/13140 businesses\n",
      "processed 12000/13140 businesses\n",
      "processed 12500/13140 businesses\n",
      "processed 13000/13140 businesses\n",
      "\n"
     ]
    }
   ],
   "source": [
    "res_dict = {}\n",
    "\n",
    "for i, bus_id in tqdm(enumerate(df_bus.index)):\n",
    "    reviews_df = df_reviews[df_reviews['business_id'] == bus_id]\n",
    "    tot_reviews = reviews_df.shape[0]\n",
    "    \n",
    "    # print(\"now processing %s with %s reviews\" % (bus_id, tot_reviews))\n",
    "    \n",
    "    avg_stars = reviews_df['stars'].mean()\n",
    "    tot_cool = reviews_df['cool'].sum()\n",
    "    tot_funny = reviews_df['funny'].sum()\n",
    "    tot_useful = reviews_df['useful'].sum()\n",
    "    \n",
    "    texts = reviews_df['text'].values\n",
    "    \n",
    "    if tot_reviews > 0:\n",
    "        vec_all = e.extract(texts)\n",
    "        vec_n = e.extract(texts, word_type=e.WORD_TYPE_NOUN)\n",
    "        vec_j = e.extract(texts, word_type=e.WORD_TYPE_ADJ)\n",
    "        vec_v = e.extract(texts, word_type=e.WORD_TYPE_VERB)\n",
    "    else:\n",
    "        vec_all = np.zeros(e.loaded_embeddings.shape[1])\n",
    "        vec_n = np.zeros(e.loaded_embeddings.shape[1])\n",
    "        vec_j = np.zeros(e.loaded_embeddings.shape[1])\n",
    "        vec_v = np.zeros(e.loaded_embeddings.shape[1])\n",
    "        \n",
    "    res_dict[bus_id] = {\n",
    "        'tot_reviews': tot_reviews,\n",
    "        'avg_stars': avg_stars,\n",
    "        'tot_cool': tot_cool,\n",
    "        'tot_funny': tot_funny,\n",
    "        'tot_useful': tot_useful,\n",
    "        'vec_all': vec_all,\n",
    "        'vec_n': vec_n,\n",
    "        'vec_j': vec_j,\n",
    "        'vec_v': vec_v,\n",
    "    }\n",
    "    \n",
    "    if i % 500 == 0:\n",
    "        print(\"processed %s/%s businesses\" % (i, len(df_bus.index)))\n",
    "    \n",
    "res_df = pd.DataFrame(res_dict).T"
   ]
  },
  {
   "cell_type": "code",
   "execution_count": 9,
   "metadata": {},
   "outputs": [],
   "source": [
    "res_df.to_pickle('results/bus_review_extracts.p')"
   ]
  },
  {
   "cell_type": "code",
   "execution_count": 10,
   "metadata": {},
   "outputs": [],
   "source": [
    "tor_df = pd.read_pickle('results/rest_univ_filter.p')"
   ]
  },
  {
   "cell_type": "code",
   "execution_count": 11,
   "metadata": {},
   "outputs": [
    {
     "data": {
      "text/plain": [
       "(10914, 16)"
      ]
     },
     "execution_count": 11,
     "metadata": {},
     "output_type": "execute_result"
    }
   ],
   "source": [
    "tor_df.shape"
   ]
  },
  {
   "cell_type": "code",
   "execution_count": null,
   "metadata": {},
   "outputs": [],
   "source": []
  }
 ],
 "metadata": {
  "kernelspec": {
   "display_name": "Python 3",
   "language": "python",
   "name": "python3"
  },
  "language_info": {
   "codemirror_mode": {
    "name": "ipython",
    "version": 3
   },
   "file_extension": ".py",
   "mimetype": "text/x-python",
   "name": "python",
   "nbconvert_exporter": "python",
   "pygments_lexer": "ipython3",
   "version": "3.6.6"
  }
 },
 "nbformat": 4,
 "nbformat_minor": 2
}
