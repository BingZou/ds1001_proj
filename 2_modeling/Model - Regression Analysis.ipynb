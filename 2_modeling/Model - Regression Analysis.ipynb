{
 "cells": [
  {
   "cell_type": "code",
   "execution_count": 1,
   "metadata": {},
   "outputs": [],
   "source": [
    "import numpy as np\n",
    "import pandas as pd\n",
    "from sklearn.linear_model import LinearRegression, LogisticRegression\n",
    "from sklearn import metrics\n",
    "import ast\n",
    "\n",
    "import matplotlib.pyplot as plt\n",
    "%matplotlib inline"
   ]
  },
  {
   "cell_type": "markdown",
   "metadata": {},
   "source": [
    "### Load the data"
   ]
  },
  {
   "cell_type": "code",
   "execution_count": 2,
   "metadata": {},
   "outputs": [],
   "source": [
    "dftrain = pd.read_pickle('data_train.p')\n",
    "dfval = pd.read_pickle('data_val.p')\n",
    "dftest = pd.read_pickle('data_test.p')"
   ]
  },
  {
   "cell_type": "code",
   "execution_count": 3,
   "metadata": {
    "scrolled": false
   },
   "outputs": [
    {
     "data": {
      "text/plain": [
       "Index(['business_id', 'date', 'stars', 'text', 'user_id', 'cos_sim_all',\n",
       "       'cos_sim_noun', 'cos_sim_adj', 'cos_sim_verb', 'count_review_bus',\n",
       "       'avg_stars_bus', 'count_funny_bus', 'count_cool_bus',\n",
       "       'count_useful_bus', 'avg_sent_score_compound_bus',\n",
       "       'avg_sent_score_net_bus', 'avg_review_length_bus', 'avg_punc_count_bus',\n",
       "       'avg_word_len_bus', 'count_review_user', 'avg_stars_user',\n",
       "       'count_funny_user', 'count_cool_user', 'count_useful_user',\n",
       "       'avg_sent_score_compound_user', 'avg_sent_score_net_user',\n",
       "       'avg_review_length_user', 'avg_punc_count_user', 'avg_word_len_user',\n",
       "       'RestaurantsPriceRange2', 'Alcohol', 'BusinessAcceptsCreditCards',\n",
       "       'GoodForKids', 'OutdoorSeating', 'RestaurantsAttire',\n",
       "       'RestaurantsGoodForGroups', 'RestaurantsTableService',\n",
       "       'RestaurantsTakeOut', 'BikeParking', 'Caters', 'DogsAllowed',\n",
       "       'GoodForMeal', 'HasTV', 'NoiseLevel', 'RestaurantsDelivery',\n",
       "       'RestaurantsReservations', 'WheelchairAccessible', 'WiFi', 'CoatCheck',\n",
       "       'GoodForDancing', 'HappyHour', 'Music', 'Smoking', 'DriveThru',\n",
       "       'ByAppointmentOnly', 'BestNights', 'Open24Hours', 'AgesAllowed',\n",
       "       'HairSpecializesIn', 'DietaryRestrictions', 'RestaurantsCounterService',\n",
       "       'BusinessAcceptsBitcoin', 'AcceptsInsurance', 'garage', 'lot', 'street',\n",
       "       'valet', 'validated', 'average_stars', 'compliment_cool',\n",
       "       'compliment_cute', 'compliment_funny', 'compliment_hot',\n",
       "       'compliment_list', 'compliment_more', 'compliment_note',\n",
       "       'compliment_photos', 'compliment_plain', 'compliment_profile',\n",
       "       'compliment_writer', 'cool', 'fans', 'funny', 'review_count', 'useful',\n",
       "       'number of years of elite', 'number of friends', 'membershiptime',\n",
       "       'dinesafe_rev_closed', 'dinesafe_rev_condpass', 'dinesafe_rev_pass',\n",
       "       'dinesafe_status_crucial', 'dinesafe_status_minor',\n",
       "       'dinesafe_status_na', 'dinesafe_status_significant'],\n",
       "      dtype='object')"
      ]
     },
     "execution_count": 3,
     "metadata": {},
     "output_type": "execute_result"
    }
   ],
   "source": [
    "dftrain.columns"
   ]
  },
  {
   "cell_type": "code",
   "execution_count": 4,
   "metadata": {},
   "outputs": [],
   "source": [
    "extra_columns = ['business_id', \n",
    "                 'date', \n",
    "                 'text', \n",
    "                 'user_id', \n",
    "                 'GoodForMeal', \n",
    "                 'Music',\n",
    "                 'BestNights',\n",
    "                 'HairSpecializesIn',\n",
    "                 'DietaryRestrictions']\n",
    "dummy_cols = ['NoiseLevel', 'WiFi', 'Smoking', 'AgesAllowed']\n",
    "target = 'stars'"
   ]
  },
  {
   "cell_type": "code",
   "execution_count": 40,
   "metadata": {},
   "outputs": [],
   "source": [
    "def data_to_model(raw_data, dummy_cols, normalize_using=None):\n",
    "    df_X = raw_data.drop(extra_columns + dummy_cols + [target], axis=1)\n",
    "    if normalize_using is not None:\n",
    "        df_norm = normalize_using.drop(extra_columns + dummy_cols + [target], axis=1)\n",
    "    df_y = raw_data[target]\n",
    "    \n",
    "    for dummy_col in dummy_cols:\n",
    "        df_dummy = pd.get_dummies(raw_data[dummy_col], prefix=dummy_col)\n",
    "        df_X = df_X.join(df_dummy)\n",
    "        if normalize_using is not None:\n",
    "            norm_dummy = pd.get_dummies(normalize_using[dummy_col], prefix=dummy_col)\n",
    "            df_norm = df_norm.join(norm_dummy)\n",
    "        \n",
    "    if normalize_using is None:\n",
    "        df_norm = df_X\n",
    "        \n",
    "    normalize(df_X, df_norm)\n",
    "    return df_X.fillna(0), df_y\n",
    "\n",
    "\n",
    "def normalize(df_X, normalize_using):\n",
    "    # memory saving normalization\n",
    "    for col in df_X.columns:\n",
    "        # print('normalizing %s' % col)\n",
    "        norm_mean = np.mean(normalize_using[col].astype(float))\n",
    "        norm_std = np.std(normalize_using[col].astype(float))\n",
    "        df_X[col] = (df_X[col].astype(float) - norm_mean) / norm_std"
   ]
  },
  {
   "cell_type": "code",
   "execution_count": 41,
   "metadata": {},
   "outputs": [],
   "source": [
    "df_X, df_y = data_to_model(dftrain, dummy_cols, dftrain)\n",
    "df_Xval, df_yval = data_to_model(dfval, dummy_cols, dftrain)\n",
    "df_Xtest, df_ytest = data_to_model(dftest, dummy_cols, dftrain)"
   ]
  },
  {
   "cell_type": "code",
   "execution_count": 42,
   "metadata": {},
   "outputs": [],
   "source": [
    "X = df_X.values\n",
    "y = df_y.values"
   ]
  },
  {
   "cell_type": "markdown",
   "metadata": {},
   "source": [
    "### Models"
   ]
  },
  {
   "cell_type": "code",
   "execution_count": 71,
   "metadata": {},
   "outputs": [],
   "source": [
    "lr = LogisticRegression(solver='lbfgs', multi_class='multinomial').fit(X, y)\n",
    "lin_r = LinearRegression().fit(X, y)"
   ]
  },
  {
   "cell_type": "markdown",
   "metadata": {},
   "source": [
    "### Validation Data"
   ]
  },
  {
   "cell_type": "code",
   "execution_count": 72,
   "metadata": {},
   "outputs": [],
   "source": [
    "# filling missing dummies with 0\n",
    "for col in df_X.columns:\n",
    "    if col not in df_Xval.columns:\n",
    "        df_Xval[col] = 0\n",
    "        df_Xtest[col] = 0"
   ]
  },
  {
   "cell_type": "code",
   "execution_count": 74,
   "metadata": {},
   "outputs": [],
   "source": [
    "preds_lr = lr.predict(df_Xval.values)\n",
    "preds_lin = lin_r.predict(df_Xval.values)"
   ]
  },
  {
   "cell_type": "code",
   "execution_count": 79,
   "metadata": {},
   "outputs": [
    {
     "data": {
      "image/png": "[encoded data removed]",
      "text/plain": [
       "<Figure size 720x720 with 1 Axes>"
      ]
     },
     "metadata": {
      "needs_background": "light"
     },
     "output_type": "display_data"
    }
   ],
   "source": [
    "plt.figure(figsize=(10, 10))\n",
    "plt.hist(preds, label='Logistic Regression', alpha=0.5)\n",
    "plt.hist(preds_lin, label='Linear Regression', alpha=0.5)\n",
    "plt.legend()\n",
    "plt.show()"
   ]
  },
  {
   "cell_type": "code",
   "execution_count": 80,
   "metadata": {},
   "outputs": [
    {
     "data": {
      "text/plain": [
       "0.46235390849826746"
      ]
     },
     "execution_count": 80,
     "metadata": {},
     "output_type": "execute_result"
    }
   ],
   "source": [
    "lr.score(df_Xval, df_yval)"
   ]
  },
  {
   "cell_type": "code",
   "execution_count": 81,
   "metadata": {},
   "outputs": [
    {
     "data": {
      "text/plain": [
       "0.3796052246128903"
      ]
     },
     "execution_count": 81,
     "metadata": {},
     "output_type": "execute_result"
    }
   ],
   "source": [
    "lin_r.score(df_Xval, df_yval)"
   ]
  },
  {
   "cell_type": "code",
   "execution_count": 82,
   "metadata": {},
   "outputs": [],
   "source": [
    "def mse(preds, truths):\n",
    "    assert len(preds) == len(truths)\n",
    "    sse = 0.\n",
    "    for i in range(len(preds)):\n",
    "        sse += (preds[i] - truths[i]) ** 2\n",
    "    return sse / len(preds)"
   ]
  },
  {
   "cell_type": "code",
   "execution_count": 83,
   "metadata": {},
   "outputs": [
    {
     "data": {
      "text/plain": [
       "1.5723556704058261"
      ]
     },
     "execution_count": 83,
     "metadata": {},
     "output_type": "execute_result"
    }
   ],
   "source": [
    "mse(preds, df_yval)"
   ]
  },
  {
   "cell_type": "code",
   "execution_count": 84,
   "metadata": {},
   "outputs": [
    {
     "data": {
      "text/plain": [
       "1.0970392799542021"
      ]
     },
     "execution_count": 84,
     "metadata": {},
     "output_type": "execute_result"
    }
   ],
   "source": [
    "mse(preds_lin, df_yval)"
   ]
  },
  {
   "cell_type": "markdown",
   "metadata": {},
   "source": [
    "### To Do: Cross Validation"
   ]
  },
  {
   "cell_type": "code",
   "execution_count": null,
   "metadata": {},
   "outputs": [],
   "source": []
  }
 ],
 "metadata": {
  "kernelspec": {
   "display_name": "Python 3",
   "language": "python",
   "name": "python3"
  },
  "language_info": {
   "codemirror_mode": {
    "name": "ipython",
    "version": 3
   },
   "file_extension": ".py",
   "mimetype": "text/x-python",
   "name": "python",
   "nbconvert_exporter": "python",
   "pygments_lexer": "ipython3",
   "version": "3.6.6"
  }
 },
 "nbformat": 4,
 "nbformat_minor": 2
}
