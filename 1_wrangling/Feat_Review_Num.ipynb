{
 "cells": [
  {
   "cell_type": "code",
   "execution_count": null,
   "metadata": {},
   "outputs": [],
   "source": [
    "import time\n",
    "import pandas as pd\n",
    "import numpy as np\n",
    "import os\n",
    "import json\n",
    "import nltk\n",
    "import string\n",
    "from tqdm.autonotebook import tqdm\n",
    "tqdm.pandas()\n",
    "from nltk.tokenize import TweetTokenizer\n",
    "from nltk.sentiment.vader import SentimentIntensityAnalyzer"
   ]
  },
  {
   "cell_type": "code",
   "execution_count": null,
   "metadata": {},
   "outputs": [],
   "source": [
    "df_rev = pd.read_pickle('results/tor_reviews.p')"
   ]
  },
  {
   "cell_type": "code",
   "execution_count": null,
   "metadata": {},
   "outputs": [],
   "source": [
    "df_rev.head()"
   ]
  },
  {
   "cell_type": "code",
   "execution_count": null,
   "metadata": {},
   "outputs": [],
   "source": [
    "punctuations = '!\"#$%&\\'()*+-/:;<=>?@[\\\\]^_`{|}~' # string.punctuation excluding .,"
   ]
  },
  {
   "cell_type": "code",
   "execution_count": null,
   "metadata": {},
   "outputs": [],
   "source": [
    "def tokenize(sent):\n",
    "    tknzr = TweetTokenizer()\n",
    "    return tknzr.tokenize(sent.lower())"
   ]
  },
  {
   "cell_type": "code",
   "execution_count": null,
   "metadata": {},
   "outputs": [],
   "source": [
    "def review_len(tokens):\n",
    "    tokens = [token for token in tokens if token not in punctuations]\n",
    "    return len(tokens)\n",
    "    "
   ]
  },
  {
   "cell_type": "code",
   "execution_count": 27,
   "metadata": {},
   "outputs": [],
   "source": [
    "def get_compound_sentiment_score(sent):\n",
    "    \"\"\"\n",
    "    If you use the VADER sentiment analysis tools, please cite:\n",
    "    cite: Hutto, C.J. & Gilbert, E.E. (2014). VADER: A Parsimonious Rule-based Model for Sentiment Analysis of Social Media Text. Eighth International Conference on Weblogs and Social Media (ICWSM-14). Ann Arbor, MI, June 2014.\n",
    "    Tutorial: http://t-redactyl.io/blog/2017/04/using-vader-to-handle-sentiment-analysis-with-social-media-text.html\n",
    "    \"\"\"\n",
    "    sentim_analyzer = SentimentIntensityAnalyzer()\n",
    "    return sentim_analyzer.polarity_scores(sent)['compound']\n",
    "    "
   ]
  },
  {
   "cell_type": "code",
   "execution_count": 18,
   "metadata": {},
   "outputs": [],
   "source": [
    "def get_net_sentiment_score(tokens):\n",
    "    \"\"\"\n",
    "    If you use the VADER sentiment analysis tools, please cite:\n",
    "    cite: Hutto, C.J. & Gilbert, E.E. (2014). VADER: A Parsimonious Rule-based Model for Sentiment Analysis of Social Media Text. Eighth International Conference on Weblogs and Social Media (ICWSM-14). Ann Arbor, MI, June 2014.\n",
    "    \"\"\"\n",
    "    # (positive words - negative words) / number of tokens\n",
    "    sentim_analyzer = SentimentIntensityAnalyzer()\n",
    "    pos_count = 0\n",
    "    neg_count = 0\n",
    "    tokens = [token for token in tokens if token not in punctuations]\n",
    "    for token in tokens:\n",
    "        if sentim_analyzer.polarity_scores(token)['compound'] >= 0.33:\n",
    "            pos_count += 1\n",
    "        if sentim_analyzer.polarity_scores(token)['compound'] <= -0.33:\n",
    "            neg_count += 1\n",
    "    if len(tokens) > 0:\n",
    "        return (pos_count - neg_count) / len(tokens)\n",
    "#     print(pos_count, neg_count)\n",
    "    return 0"
   ]
  },
  {
   "cell_type": "code",
   "execution_count": 64,
   "metadata": {},
   "outputs": [
    {
     "name": "stdout",
     "output_type": "stream",
     "text": [
      "[-0.5423, -0.6571, -0.8061]\n",
      "[-0.125, -0.125, -0.2222222222222222]\n"
     ]
    }
   ],
   "source": [
    "# compare two methods\n",
    "sent1 = 'it is a bad time for me now'\n",
    "sent2 = 'it is a bad time for me now!!!'\n",
    "sent3 = 'it is a bad time for me now!!! :('\n",
    "print([get_compound_sentiment_score(sent) for sent in [sent1, sent2, sent3]])\n",
    "print([get_net_sentiment_score(sent) for sent in [sent1.split(' '), sent2.split(' '), sent3.split(' ')]])"
   ]
  },
  {
   "cell_type": "code",
   "execution_count": 19,
   "metadata": {},
   "outputs": [],
   "source": [
    "def get_punc_count(tokens):\n",
    "    count = 0\n",
    "    for token in tokens:\n",
    "        if token in punctuations:\n",
    "            count += 1\n",
    "    if len(tokens) > 0:\n",
    "        return count / len(tokens)\n",
    "    return 0"
   ]
  },
  {
   "cell_type": "code",
   "execution_count": 20,
   "metadata": {},
   "outputs": [],
   "source": [
    "def get_avg_word_len(tokens):\n",
    "    tot_len = 0\n",
    "    tokens = [token for token in tokens if token not in punctuations]\n",
    "    for token in tokens:\n",
    "        tot_len += len(token)\n",
    "    if len(tokens) > 0:\n",
    "        return tot_len/len(tokens)\n",
    "    return 0"
   ]
  },
  {
   "cell_type": "code",
   "execution_count": 28,
   "metadata": {
    "scrolled": true
   },
   "outputs": [
    {
     "data": {
      "application/vnd.jupyter.widget-view+json": {
       "model_id": "d31f9d821f054b78b6ea1f32c4f9b536",
       "version_major": 2,
       "version_minor": 0
      },
      "text/plain": [
       "HBox(children=(IntProgress(value=0, max=422790), HTML(value='')))"
      ]
     },
     "metadata": {},
     "output_type": "display_data"
    },
    {
     "data": {
      "application/vnd.jupyter.widget-view+json": {
       "model_id": "9c5fd2ffe1fa43d8a1319495d5bd794a",
       "version_major": 2,
       "version_minor": 0
      },
      "text/plain": [
       "HBox(children=(IntProgress(value=0, max=422790), HTML(value='')))"
      ]
     },
     "metadata": {},
     "output_type": "display_data"
    },
    {
     "data": {
      "application/vnd.jupyter.widget-view+json": {
       "model_id": "d7cfac362f25442985348ff11c51cfe4",
       "version_major": 2,
       "version_minor": 0
      },
      "text/plain": [
       "HBox(children=(IntProgress(value=0, max=422790), HTML(value='')))"
      ]
     },
     "metadata": {},
     "output_type": "display_data"
    },
    {
     "data": {
      "application/vnd.jupyter.widget-view+json": {
       "model_id": "3eb836ea9ffd4df9b3a8c610b9799867",
       "version_major": 2,
       "version_minor": 0
      },
      "text/plain": [
       "HBox(children=(IntProgress(value=0, max=422790), HTML(value='')))"
      ]
     },
     "metadata": {},
     "output_type": "display_data"
    },
    {
     "data": {
      "application/vnd.jupyter.widget-view+json": {
       "model_id": "97ef3ece568c403780737319c6dcb4cd",
       "version_major": 2,
       "version_minor": 0
      },
      "text/plain": [
       "HBox(children=(IntProgress(value=0, max=422790), HTML(value='')))"
      ]
     },
     "metadata": {},
     "output_type": "display_data"
    }
   ],
   "source": [
    "df_rev['review_tokens'] = df_rev.text.progress_apply(lambda x: tokenize(x))\n",
    "df_rev['sent_score_compound'] = df_rev.text.progress_apply(lambda x: get_compound_sentiment_score(x))\n",
    "df_rev['sent_score_net'] = df_rev.review_tokens.progress_apply(lambda x: get_net_sentiment_score(x))\n",
    "df_rev['review_length']= df_rev.review_tokens.progress_apply(lambda x: review_len(x))\n",
    "df_rev['punc_count'] = df_rev.review_tokens.progress_apply(lambda x: get_punc_count(x))\n",
    "df_rev['avg_word_len'] = df_rev.review_tokens.progress_apply(lambda x: get_avg_word_len(x))\n",
    "df_rev.to_pickle('results/reviews_hu.p')"
   ]
  },
  {
   "cell_type": "code",
   "execution_count": 30,
   "metadata": {},
   "outputs": [],
   "source": [
    "df = df_rev.copy()"
   ]
  },
  {
   "cell_type": "code",
   "execution_count": 29,
   "metadata": {},
   "outputs": [
    {
     "data": {
      "text/html": [
       "<div>\n",
       "<style scoped>\n",
       "    .dataframe tbody tr th:only-of-type {\n",
       "        vertical-align: middle;\n",
       "    }\n",
       "\n",
       "    .dataframe tbody tr th {\n",
       "        vertical-align: top;\n",
       "    }\n",
       "\n",
       "    .dataframe thead th {\n",
       "        text-align: right;\n",
       "    }\n",
       "</style>\n",
       "<table border=\"1\" class=\"dataframe\">\n",
       "  <thead>\n",
       "    <tr style=\"text-align: right;\">\n",
       "      <th></th>\n",
       "      <th>business_id</th>\n",
       "      <th>cool</th>\n",
       "      <th>date</th>\n",
       "      <th>funny</th>\n",
       "      <th>review_id</th>\n",
       "      <th>stars</th>\n",
       "      <th>text</th>\n",
       "      <th>useful</th>\n",
       "      <th>user_id</th>\n",
       "      <th>review_tokens</th>\n",
       "      <th>sent_score_compound</th>\n",
       "      <th>sent_score_net</th>\n",
       "      <th>review_length</th>\n",
       "      <th>punc_count</th>\n",
       "      <th>avg_word_len</th>\n",
       "    </tr>\n",
       "  </thead>\n",
       "  <tbody>\n",
       "    <tr>\n",
       "      <th>0</th>\n",
       "      <td>f5O7v_X_jCg2itqacRfxhg</td>\n",
       "      <td>0</td>\n",
       "      <td>2017-10-12</td>\n",
       "      <td>0</td>\n",
       "      <td>kS4hrhEScwB9V5JATYjvVQ</td>\n",
       "      <td>5</td>\n",
       "      <td>Sansotei serves some top notch ramen. They tak...</td>\n",
       "      <td>0</td>\n",
       "      <td>hxqo4NyJFfeOmuoVi--s1A</td>\n",
       "      <td>[sansotei, serves, some, top, notch, ramen, .,...</td>\n",
       "      <td>-0.2500</td>\n",
       "      <td>0.000000</td>\n",
       "      <td>108</td>\n",
       "      <td>0.009174</td>\n",
       "      <td>4.111111</td>\n",
       "    </tr>\n",
       "    <tr>\n",
       "      <th>1</th>\n",
       "      <td>Edr6SafmQrZa6CcFuItoqg</td>\n",
       "      <td>0</td>\n",
       "      <td>2014-06-03</td>\n",
       "      <td>0</td>\n",
       "      <td>U04YgYr4PiGUxB46J4xapg</td>\n",
       "      <td>2</td>\n",
       "      <td>Limited vegetarian options. Ordered Greek sala...</td>\n",
       "      <td>0</td>\n",
       "      <td>B7Fh30KQT1xPSGt_pIhRRA</td>\n",
       "      <td>[limited, vegetarian, options, ., ordered, gre...</td>\n",
       "      <td>-0.5719</td>\n",
       "      <td>-0.029412</td>\n",
       "      <td>34</td>\n",
       "      <td>0.055556</td>\n",
       "      <td>4.911765</td>\n",
       "    </tr>\n",
       "    <tr>\n",
       "      <th>2</th>\n",
       "      <td>7xA6iSP0Ndn08tpBFQtUKA</td>\n",
       "      <td>0</td>\n",
       "      <td>2017-05-22</td>\n",
       "      <td>0</td>\n",
       "      <td>YDJDfKnx6VpMMo4EBxycGg</td>\n",
       "      <td>1</td>\n",
       "      <td>Non-existened service!  The waiter did not eve...</td>\n",
       "      <td>0</td>\n",
       "      <td>FCtoTo9zSH1cSAkascfEHw</td>\n",
       "      <td>[non-existened, service, !, the, waiter, did, ...</td>\n",
       "      <td>-0.8948</td>\n",
       "      <td>-0.011236</td>\n",
       "      <td>89</td>\n",
       "      <td>0.072917</td>\n",
       "      <td>4.404494</td>\n",
       "    </tr>\n",
       "    <tr>\n",
       "      <th>3</th>\n",
       "      <td>SmizR7MLt-558FJJQRBBoQ</td>\n",
       "      <td>1</td>\n",
       "      <td>2011-06-01</td>\n",
       "      <td>1</td>\n",
       "      <td>2Hk7DNwu3rb2jKHaFfPyCA</td>\n",
       "      <td>4</td>\n",
       "      <td>It might be a bit unfair to review Globe so ea...</td>\n",
       "      <td>1</td>\n",
       "      <td>YHWsLBS8jzZiPjKHMFOaAA</td>\n",
       "      <td>[it, might, be, a, bit, unfair, to, review, gl...</td>\n",
       "      <td>0.9982</td>\n",
       "      <td>0.028571</td>\n",
       "      <td>700</td>\n",
       "      <td>0.012694</td>\n",
       "      <td>4.305714</td>\n",
       "    </tr>\n",
       "    <tr>\n",
       "      <th>4</th>\n",
       "      <td>iKMLsX1Je7P3wAOEc9scDg</td>\n",
       "      <td>0</td>\n",
       "      <td>2011-11-07</td>\n",
       "      <td>0</td>\n",
       "      <td>D2TcNaPqXxDGQ6T0n-vHXw</td>\n",
       "      <td>4</td>\n",
       "      <td>I have been itching to get to Origin for month...</td>\n",
       "      <td>4</td>\n",
       "      <td>YHWsLBS8jzZiPjKHMFOaAA</td>\n",
       "      <td>[i, have, been, itching, to, get, to, origin, ...</td>\n",
       "      <td>0.9994</td>\n",
       "      <td>0.036066</td>\n",
       "      <td>915</td>\n",
       "      <td>0.022436</td>\n",
       "      <td>4.093989</td>\n",
       "    </tr>\n",
       "  </tbody>\n",
       "</table>\n",
       "</div>"
      ],
      "text/plain": [
       "              business_id  cool        date  funny               review_id  \\\n",
       "0  f5O7v_X_jCg2itqacRfxhg     0  2017-10-12      0  kS4hrhEScwB9V5JATYjvVQ   \n",
       "1  Edr6SafmQrZa6CcFuItoqg     0  2014-06-03      0  U04YgYr4PiGUxB46J4xapg   \n",
       "2  7xA6iSP0Ndn08tpBFQtUKA     0  2017-05-22      0  YDJDfKnx6VpMMo4EBxycGg   \n",
       "3  SmizR7MLt-558FJJQRBBoQ     1  2011-06-01      1  2Hk7DNwu3rb2jKHaFfPyCA   \n",
       "4  iKMLsX1Je7P3wAOEc9scDg     0  2011-11-07      0  D2TcNaPqXxDGQ6T0n-vHXw   \n",
       "\n",
       "   stars                                               text  useful  \\\n",
       "0      5  Sansotei serves some top notch ramen. They tak...       0   \n",
       "1      2  Limited vegetarian options. Ordered Greek sala...       0   \n",
       "2      1  Non-existened service!  The waiter did not eve...       0   \n",
       "3      4  It might be a bit unfair to review Globe so ea...       1   \n",
       "4      4  I have been itching to get to Origin for month...       4   \n",
       "\n",
       "                  user_id                                      review_tokens  \\\n",
       "0  hxqo4NyJFfeOmuoVi--s1A  [sansotei, serves, some, top, notch, ramen, .,...   \n",
       "1  B7Fh30KQT1xPSGt_pIhRRA  [limited, vegetarian, options, ., ordered, gre...   \n",
       "2  FCtoTo9zSH1cSAkascfEHw  [non-existened, service, !, the, waiter, did, ...   \n",
       "3  YHWsLBS8jzZiPjKHMFOaAA  [it, might, be, a, bit, unfair, to, review, gl...   \n",
       "4  YHWsLBS8jzZiPjKHMFOaAA  [i, have, been, itching, to, get, to, origin, ...   \n",
       "\n",
       "   sent_score_compound  sent_score_net  review_length  punc_count  \\\n",
       "0              -0.2500        0.000000            108    0.009174   \n",
       "1              -0.5719       -0.029412             34    0.055556   \n",
       "2              -0.8948       -0.011236             89    0.072917   \n",
       "3               0.9982        0.028571            700    0.012694   \n",
       "4               0.9994        0.036066            915    0.022436   \n",
       "\n",
       "   avg_word_len  \n",
       "0      4.111111  \n",
       "1      4.911765  \n",
       "2      4.404494  \n",
       "3      4.305714  \n",
       "4      4.093989  "
      ]
     },
     "execution_count": 29,
     "metadata": {},
     "output_type": "execute_result"
    }
   ],
   "source": [
    "df_rev.head()"
   ]
  },
  {
   "cell_type": "code",
   "execution_count": 31,
   "metadata": {},
   "outputs": [
    {
     "data": {
      "text/plain": [
       "0.5702584820774301"
      ]
     },
     "execution_count": 31,
     "metadata": {},
     "output_type": "execute_result"
    }
   ],
   "source": [
    "df_rev['sent_score_compound'].corr(df_rev['stars'])"
   ]
  },
  {
   "cell_type": "code",
   "execution_count": 32,
   "metadata": {},
   "outputs": [
    {
     "data": {
      "text/plain": [
       "0.5005883109103079"
      ]
     },
     "execution_count": 32,
     "metadata": {},
     "output_type": "execute_result"
    }
   ],
   "source": [
    "df_rev['sent_score_net'].corr(df_rev['stars'])"
   ]
  },
  {
   "cell_type": "code",
   "execution_count": 33,
   "metadata": {},
   "outputs": [
    {
     "data": {
      "text/plain": [
       "0.5106916591080742"
      ]
     },
     "execution_count": 33,
     "metadata": {},
     "output_type": "execute_result"
    }
   ],
   "source": [
    "df_rev['sent_score_net'].corr(df_rev['sent_score_compound'])"
   ]
  },
  {
   "cell_type": "code",
   "execution_count": 34,
   "metadata": {},
   "outputs": [
    {
     "data": {
      "text/plain": [
       "0.12499467179090185"
      ]
     },
     "execution_count": 34,
     "metadata": {},
     "output_type": "execute_result"
    }
   ],
   "source": [
    "df_rev['avg_word_len'].corr(df_rev['stars'])"
   ]
  },
  {
   "cell_type": "code",
   "execution_count": 35,
   "metadata": {},
   "outputs": [
    {
     "data": {
      "text/plain": [
       "-0.13069784308872917"
      ]
     },
     "execution_count": 35,
     "metadata": {},
     "output_type": "execute_result"
    }
   ],
   "source": [
    "df_rev['review_length'].corr(df_rev['stars'])"
   ]
  },
  {
   "cell_type": "code",
   "execution_count": 36,
   "metadata": {},
   "outputs": [
    {
     "data": {
      "text/plain": [
       "0.09420106296298679"
      ]
     },
     "execution_count": 36,
     "metadata": {},
     "output_type": "execute_result"
    }
   ],
   "source": [
    "df_rev['punc_count'].corr(df_rev['stars'])"
   ]
  },
  {
   "cell_type": "code",
   "execution_count": null,
   "metadata": {},
   "outputs": [],
   "source": [
    "# aggregator = {'text':np.size,\n",
    "#               'stars': np.mean, \n",
    "#               'funny':np.sum, \n",
    "#               'cool':np.sum, \n",
    "#               'useful': np.sum,\n",
    "#               'sent_score_compound': np.mean,\n",
    "#               'sent_score_net':np.mean, \n",
    "#               'review_length': np.mean,\n",
    "#               'punc_count':np.mean, \n",
    "#               'avg_word_len': np.mean\n",
    "#                }\n",
    "# bus_rev_res = df_rev.groupby(['business_id']).agg(aggregator)\n",
    "# user_rev_res = df_rev.groupby(['user_id']).agg(aggregator)"
   ]
  },
  {
   "cell_type": "code",
   "execution_count": 102,
   "metadata": {},
   "outputs": [],
   "source": [
    "df_rev.date =df_rev.date.astype(np.datetime64)\n",
    "df_rev['ind'] = list(range(0, len(df_rev)))"
   ]
  },
  {
   "cell_type": "code",
   "execution_count": 103,
   "metadata": {},
   "outputs": [],
   "source": [
    "aggregator = {'ind': np.size,\n",
    "              'stars': np.mean, \n",
    "              'funny':np.sum, \n",
    "              'cool':np.sum, \n",
    "              'useful': np.sum,\n",
    "              'sent_score_compound': np.mean,\n",
    "              'sent_score_net':np.mean, \n",
    "              'review_length': np.mean,\n",
    "              'punc_count':np.mean, \n",
    "              'avg_word_len': np.mean\n",
    "               }\n",
    "\n",
    "bus_rev_res = df_rev.sort_values('date').set_index('date').groupby(['business_id']).rolling(window='730d').agg(aggregator)\n",
    "user_rev_res = df_rev.sort_values('date').set_index('date').groupby(['user_id']).rolling(window='730d').agg(aggregator)"
   ]
  },
  {
   "cell_type": "code",
   "execution_count": 104,
   "metadata": {},
   "outputs": [],
   "source": [
    "bus_rev_res.columns = ['count_review', 'avg_stars', 'count_funny', 'count_cool', 'count_useful', 'avg_sent_score_compound',\n",
    "       'avg_sent_score_net', 'avg_review_length', 'avg_punc_count', 'avg_word_len']"
   ]
  },
  {
   "cell_type": "code",
   "execution_count": 105,
   "metadata": {},
   "outputs": [],
   "source": [
    "user_rev_res.columns = ['count_review', 'avg_stars', 'count_funny', 'count_cool', 'count_useful', 'avg_sent_score_compound',\n",
    "       'avg_sent_score_net', 'avg_review_length', 'avg_punc_count', 'avg_word_len']"
   ]
  },
  {
   "cell_type": "code",
   "execution_count": 106,
   "metadata": {},
   "outputs": [],
   "source": [
    "bus_rev_res = pd.DataFrame(bus_rev_res.to_records())\n",
    "user_rev_res = pd.DataFrame(user_rev_res.to_records())"
   ]
  },
  {
   "cell_type": "code",
   "execution_count": 107,
   "metadata": {},
   "outputs": [],
   "source": [
    "bus_rev_res.to_pickle('results/bus_rev_res_hu.p')\n",
    "user_rev_res.to_pickle('results/user_rev_res_hu.p')"
   ]
  },
  {
   "cell_type": "code",
   "execution_count": 108,
   "metadata": {},
   "outputs": [],
   "source": [
    "df_bus_univ = pd.read_pickle('results/rest_univ.p')"
   ]
  },
  {
   "cell_type": "code",
   "execution_count": 109,
   "metadata": {},
   "outputs": [],
   "source": [
    "df_bus_res_univ = pd.merge(df_bus_univ[['name']], bus_rev_res, left_index=True, right_index=True, how='left')\n",
    "df_bus_res_univ.to_pickle('results/bus_res_univ_hu.p')"
   ]
  },
  {
   "cell_type": "code",
   "execution_count": 110,
   "metadata": {},
   "outputs": [],
   "source": [
    "df_user_univ = pd.read_pickle('results/tor_users.p')"
   ]
  },
  {
   "cell_type": "code",
   "execution_count": 111,
   "metadata": {},
   "outputs": [],
   "source": [
    "df_user_res_univ = pd.merge(df_user_univ, user_rev_res, left_index=True, right_index=True, how='left')"
   ]
  },
  {
   "cell_type": "code",
   "execution_count": 112,
   "metadata": {},
   "outputs": [],
   "source": [
    "df_user_res_univ.to_pickle('results/user_res_univ_hu.p')"
   ]
  },
  {
   "cell_type": "code",
   "execution_count": 116,
   "metadata": {},
   "outputs": [
    {
     "data": {
      "text/html": [
       "<div>\n",
       "<style scoped>\n",
       "    .dataframe tbody tr th:only-of-type {\n",
       "        vertical-align: middle;\n",
       "    }\n",
       "\n",
       "    .dataframe tbody tr th {\n",
       "        vertical-align: top;\n",
       "    }\n",
       "\n",
       "    .dataframe thead th {\n",
       "        text-align: right;\n",
       "    }\n",
       "</style>\n",
       "<table border=\"1\" class=\"dataframe\">\n",
       "  <thead>\n",
       "    <tr style=\"text-align: right;\">\n",
       "      <th></th>\n",
       "      <th>user_id</th>\n",
       "      <th>date</th>\n",
       "      <th>count_review</th>\n",
       "      <th>avg_stars</th>\n",
       "      <th>count_funny</th>\n",
       "      <th>count_cool</th>\n",
       "      <th>count_useful</th>\n",
       "      <th>avg_sent_score_compound</th>\n",
       "      <th>avg_sent_score_net</th>\n",
       "      <th>avg_review_length</th>\n",
       "      <th>avg_punc_count</th>\n",
       "      <th>avg_word_len</th>\n",
       "    </tr>\n",
       "  </thead>\n",
       "  <tbody>\n",
       "    <tr>\n",
       "      <th>0</th>\n",
       "      <td>--56y1InAvNoQOD6YYrhVQ</td>\n",
       "      <td>2016-08-03</td>\n",
       "      <td>1.0</td>\n",
       "      <td>1.0</td>\n",
       "      <td>0.0</td>\n",
       "      <td>0.0</td>\n",
       "      <td>0.0</td>\n",
       "      <td>0.9337</td>\n",
       "      <td>0.029630</td>\n",
       "      <td>135.0</td>\n",
       "      <td>0.000000</td>\n",
       "      <td>3.881481</td>\n",
       "    </tr>\n",
       "    <tr>\n",
       "      <th>1</th>\n",
       "      <td>--7gjElmOrthETJ8XqzMBw</td>\n",
       "      <td>2014-11-16</td>\n",
       "      <td>1.0</td>\n",
       "      <td>2.0</td>\n",
       "      <td>0.0</td>\n",
       "      <td>0.0</td>\n",
       "      <td>0.0</td>\n",
       "      <td>0.5106</td>\n",
       "      <td>0.041667</td>\n",
       "      <td>48.0</td>\n",
       "      <td>0.040000</td>\n",
       "      <td>4.708333</td>\n",
       "    </tr>\n",
       "    <tr>\n",
       "      <th>2</th>\n",
       "      <td>--7gjElmOrthETJ8XqzMBw</td>\n",
       "      <td>2018-05-24</td>\n",
       "      <td>1.0</td>\n",
       "      <td>4.0</td>\n",
       "      <td>1.0</td>\n",
       "      <td>0.0</td>\n",
       "      <td>0.0</td>\n",
       "      <td>0.9181</td>\n",
       "      <td>0.041237</td>\n",
       "      <td>97.0</td>\n",
       "      <td>0.093458</td>\n",
       "      <td>4.329897</td>\n",
       "    </tr>\n",
       "    <tr>\n",
       "      <th>3</th>\n",
       "      <td>--Br-QsbO9ad5GbZxVGxaw</td>\n",
       "      <td>2016-08-24</td>\n",
       "      <td>1.0</td>\n",
       "      <td>2.0</td>\n",
       "      <td>0.0</td>\n",
       "      <td>0.0</td>\n",
       "      <td>0.0</td>\n",
       "      <td>0.8947</td>\n",
       "      <td>0.014599</td>\n",
       "      <td>137.0</td>\n",
       "      <td>0.055172</td>\n",
       "      <td>4.204380</td>\n",
       "    </tr>\n",
       "    <tr>\n",
       "      <th>4</th>\n",
       "      <td>--BumyUHiO_7YsHurb9Hkw</td>\n",
       "      <td>2017-01-13</td>\n",
       "      <td>1.0</td>\n",
       "      <td>5.0</td>\n",
       "      <td>0.0</td>\n",
       "      <td>0.0</td>\n",
       "      <td>0.0</td>\n",
       "      <td>0.9873</td>\n",
       "      <td>0.107527</td>\n",
       "      <td>93.0</td>\n",
       "      <td>0.088235</td>\n",
       "      <td>4.838710</td>\n",
       "    </tr>\n",
       "  </tbody>\n",
       "</table>\n",
       "</div>"
      ],
      "text/plain": [
       "                  user_id       date  count_review  avg_stars  count_funny  \\\n",
       "0  --56y1InAvNoQOD6YYrhVQ 2016-08-03           1.0        1.0          0.0   \n",
       "1  --7gjElmOrthETJ8XqzMBw 2014-11-16           1.0        2.0          0.0   \n",
       "2  --7gjElmOrthETJ8XqzMBw 2018-05-24           1.0        4.0          1.0   \n",
       "3  --Br-QsbO9ad5GbZxVGxaw 2016-08-24           1.0        2.0          0.0   \n",
       "4  --BumyUHiO_7YsHurb9Hkw 2017-01-13           1.0        5.0          0.0   \n",
       "\n",
       "   count_cool  count_useful  avg_sent_score_compound  avg_sent_score_net  \\\n",
       "0         0.0           0.0                   0.9337            0.029630   \n",
       "1         0.0           0.0                   0.5106            0.041667   \n",
       "2         0.0           0.0                   0.9181            0.041237   \n",
       "3         0.0           0.0                   0.8947            0.014599   \n",
       "4         0.0           0.0                   0.9873            0.107527   \n",
       "\n",
       "   avg_review_length  avg_punc_count  avg_word_len  \n",
       "0              135.0        0.000000      3.881481  \n",
       "1               48.0        0.040000      4.708333  \n",
       "2               97.0        0.093458      4.329897  \n",
       "3              137.0        0.055172      4.204380  \n",
       "4               93.0        0.088235      4.838710  "
      ]
     },
     "execution_count": 116,
     "metadata": {},
     "output_type": "execute_result"
    }
   ],
   "source": [
    "user_rev_res.head()"
   ]
  },
  {
   "cell_type": "code",
   "execution_count": 115,
   "metadata": {},
   "outputs": [
    {
     "data": {
      "text/html": [
       "<div>\n",
       "<style scoped>\n",
       "    .dataframe tbody tr th:only-of-type {\n",
       "        vertical-align: middle;\n",
       "    }\n",
       "\n",
       "    .dataframe tbody tr th {\n",
       "        vertical-align: top;\n",
       "    }\n",
       "\n",
       "    .dataframe thead th {\n",
       "        text-align: right;\n",
       "    }\n",
       "</style>\n",
       "<table border=\"1\" class=\"dataframe\">\n",
       "  <thead>\n",
       "    <tr style=\"text-align: right;\">\n",
       "      <th></th>\n",
       "      <th>business_id</th>\n",
       "      <th>date</th>\n",
       "      <th>count_review</th>\n",
       "      <th>avg_stars</th>\n",
       "      <th>count_funny</th>\n",
       "      <th>count_cool</th>\n",
       "      <th>count_useful</th>\n",
       "      <th>avg_sent_score_compound</th>\n",
       "      <th>avg_sent_score_net</th>\n",
       "      <th>avg_review_length</th>\n",
       "      <th>avg_punc_count</th>\n",
       "      <th>avg_word_len</th>\n",
       "    </tr>\n",
       "  </thead>\n",
       "  <tbody>\n",
       "    <tr>\n",
       "      <th>0</th>\n",
       "      <td>--DaPTJW3-tB1vP-PfdTEg</td>\n",
       "      <td>2012-06-04</td>\n",
       "      <td>1.0</td>\n",
       "      <td>4.000000</td>\n",
       "      <td>0.0</td>\n",
       "      <td>0.0</td>\n",
       "      <td>0.0</td>\n",
       "      <td>0.986900</td>\n",
       "      <td>0.082803</td>\n",
       "      <td>157.0</td>\n",
       "      <td>0.042683</td>\n",
       "      <td>4.000000</td>\n",
       "    </tr>\n",
       "    <tr>\n",
       "      <th>1</th>\n",
       "      <td>--DaPTJW3-tB1vP-PfdTEg</td>\n",
       "      <td>2012-06-14</td>\n",
       "      <td>2.0</td>\n",
       "      <td>4.000000</td>\n",
       "      <td>1.0</td>\n",
       "      <td>2.0</td>\n",
       "      <td>1.0</td>\n",
       "      <td>0.941900</td>\n",
       "      <td>0.090182</td>\n",
       "      <td>99.0</td>\n",
       "      <td>0.044597</td>\n",
       "      <td>4.073171</td>\n",
       "    </tr>\n",
       "    <tr>\n",
       "      <th>2</th>\n",
       "      <td>--DaPTJW3-tB1vP-PfdTEg</td>\n",
       "      <td>2012-11-11</td>\n",
       "      <td>3.0</td>\n",
       "      <td>4.333333</td>\n",
       "      <td>1.0</td>\n",
       "      <td>2.0</td>\n",
       "      <td>1.0</td>\n",
       "      <td>0.932067</td>\n",
       "      <td>0.087899</td>\n",
       "      <td>94.0</td>\n",
       "      <td>0.037483</td>\n",
       "      <td>4.259098</td>\n",
       "    </tr>\n",
       "    <tr>\n",
       "      <th>3</th>\n",
       "      <td>--DaPTJW3-tB1vP-PfdTEg</td>\n",
       "      <td>2013-04-07</td>\n",
       "      <td>4.0</td>\n",
       "      <td>4.250000</td>\n",
       "      <td>1.0</td>\n",
       "      <td>2.0</td>\n",
       "      <td>1.0</td>\n",
       "      <td>0.934850</td>\n",
       "      <td>0.104987</td>\n",
       "      <td>78.5</td>\n",
       "      <td>0.028113</td>\n",
       "      <td>4.202136</td>\n",
       "    </tr>\n",
       "    <tr>\n",
       "      <th>4</th>\n",
       "      <td>--DaPTJW3-tB1vP-PfdTEg</td>\n",
       "      <td>2013-07-06</td>\n",
       "      <td>5.0</td>\n",
       "      <td>4.200000</td>\n",
       "      <td>1.0</td>\n",
       "      <td>2.0</td>\n",
       "      <td>1.0</td>\n",
       "      <td>0.747880</td>\n",
       "      <td>0.083989</td>\n",
       "      <td>65.0</td>\n",
       "      <td>0.022490</td>\n",
       "      <td>4.198072</td>\n",
       "    </tr>\n",
       "  </tbody>\n",
       "</table>\n",
       "</div>"
      ],
      "text/plain": [
       "              business_id       date  count_review  avg_stars  count_funny  \\\n",
       "0  --DaPTJW3-tB1vP-PfdTEg 2012-06-04           1.0   4.000000          0.0   \n",
       "1  --DaPTJW3-tB1vP-PfdTEg 2012-06-14           2.0   4.000000          1.0   \n",
       "2  --DaPTJW3-tB1vP-PfdTEg 2012-11-11           3.0   4.333333          1.0   \n",
       "3  --DaPTJW3-tB1vP-PfdTEg 2013-04-07           4.0   4.250000          1.0   \n",
       "4  --DaPTJW3-tB1vP-PfdTEg 2013-07-06           5.0   4.200000          1.0   \n",
       "\n",
       "   count_cool  count_useful  avg_sent_score_compound  avg_sent_score_net  \\\n",
       "0         0.0           0.0                 0.986900            0.082803   \n",
       "1         2.0           1.0                 0.941900            0.090182   \n",
       "2         2.0           1.0                 0.932067            0.087899   \n",
       "3         2.0           1.0                 0.934850            0.104987   \n",
       "4         2.0           1.0                 0.747880            0.083989   \n",
       "\n",
       "   avg_review_length  avg_punc_count  avg_word_len  \n",
       "0              157.0        0.042683      4.000000  \n",
       "1               99.0        0.044597      4.073171  \n",
       "2               94.0        0.037483      4.259098  \n",
       "3               78.5        0.028113      4.202136  \n",
       "4               65.0        0.022490      4.198072  "
      ]
     },
     "execution_count": 115,
     "metadata": {},
     "output_type": "execute_result"
    }
   ],
   "source": [
    "bus_rev_res.head()"
   ]
  },
  {
   "cell_type": "code",
   "execution_count": null,
   "metadata": {},
   "outputs": [],
   "source": []
  }
 ],
 "metadata": {
  "kernelspec": {
   "display_name": "Python 3",
   "language": "python",
   "name": "python3"
  },
  "language_info": {
   "codemirror_mode": {
    "name": "ipython",
    "version": 3
   },
   "file_extension": ".py",
   "mimetype": "text/x-python",
   "name": "python",
   "nbconvert_exporter": "python",
   "pygments_lexer": "ipython3",
   "version": "3.6.7"
  }
 },
 "nbformat": 4,
 "nbformat_minor": 2
}
