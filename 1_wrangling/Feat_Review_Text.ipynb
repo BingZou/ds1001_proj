{
 "cells": [
  {
   "cell_type": "code",
   "execution_count": 8,
   "metadata": {},
   "outputs": [],
   "source": [
    "import pandas as pd\n",
    "import numpy as np\n",
    "from tqdm.autonotebook import tqdm\n",
    "from tqdm import tqdm_notebook as tqdmn\n",
    "tqdm.pandas()\n",
    "import nltk\n",
    "\n",
    "import matplotlib.pyplot as plt\n",
    "%matplotlib inline\n",
    "\n",
    "from importlib import reload\n",
    "\n",
    "from utils.ReviewFeatureExtractor import ExtractBoW"
   ]
  },
  {
   "cell_type": "markdown",
   "metadata": {},
   "source": [
    "### Hyperparameters"
   ]
  },
  {
   "cell_type": "code",
   "execution_count": 2,
   "metadata": {},
   "outputs": [],
   "source": [
    "VOC_SIZE = 100000\n",
    "REVIEW_CUTOFF_DATE = pd.Timestamp(2015, 12, 31)"
   ]
  },
  {
   "cell_type": "markdown",
   "metadata": {},
   "source": [
    "### All Words"
   ]
  },
  {
   "cell_type": "code",
   "execution_count": 3,
   "metadata": {},
   "outputs": [],
   "source": [
    "e = ExtractBoW(voc_size=VOC_SIZE)\n",
    "\n",
    "e.load_word_vecs('../data/wiki-news-300d-1M.vec')"
   ]
  },
  {
   "cell_type": "markdown",
   "metadata": {},
   "source": [
    "### Need to iterate through each business and person"
   ]
  },
  {
   "cell_type": "code",
   "execution_count": 4,
   "metadata": {},
   "outputs": [],
   "source": [
    "df_reviews = pd.read_pickle('univ/tor_reviews.p')  # reviews\n",
    "df_reviews['date'] = df_reviews['date'].astype('datetime64[ns]')\n",
    "df_bus = pd.read_pickle('univ/tor_rest.p')  # businesses\n",
    "df_users = pd.read_pickle('univ/tor_users.p')  # users"
   ]
  },
  {
   "cell_type": "code",
   "execution_count": 11,
   "metadata": {},
   "outputs": [
    {
     "data": {
      "image/png": "[encoded data removed]",
      "text/plain": [
       "<Figure size 432x288 with 1 Axes>"
      ]
     },
     "metadata": {
      "needs_background": "light"
     },
     "output_type": "display_data"
    }
   ],
   "source": [
    "plt.hist(df_reviews['date'].values, bins=40)\n",
    "plt.show()"
   ]
  },
  {
   "cell_type": "markdown",
   "metadata": {},
   "source": [
    "### Loop Through the Reviews, and Create the Vectors for each review"
   ]
  },
  {
   "cell_type": "code",
   "execution_count": 5,
   "metadata": {},
   "outputs": [
    {
     "data": {
      "text/html": [
       "<div>\n",
       "<style scoped>\n",
       "    .dataframe tbody tr th:only-of-type {\n",
       "        vertical-align: middle;\n",
       "    }\n",
       "\n",
       "    .dataframe tbody tr th {\n",
       "        vertical-align: top;\n",
       "    }\n",
       "\n",
       "    .dataframe thead th {\n",
       "        text-align: right;\n",
       "    }\n",
       "</style>\n",
       "<table border=\"1\" class=\"dataframe\">\n",
       "  <thead>\n",
       "    <tr style=\"text-align: right;\">\n",
       "      <th></th>\n",
       "      <th>business_id</th>\n",
       "      <th>cool</th>\n",
       "      <th>date</th>\n",
       "      <th>funny</th>\n",
       "      <th>review_id</th>\n",
       "      <th>stars</th>\n",
       "      <th>text</th>\n",
       "      <th>useful</th>\n",
       "      <th>user_id</th>\n",
       "    </tr>\n",
       "  </thead>\n",
       "  <tbody>\n",
       "    <tr>\n",
       "      <th>0</th>\n",
       "      <td>f5O7v_X_jCg2itqacRfxhg</td>\n",
       "      <td>0</td>\n",
       "      <td>2017-10-12</td>\n",
       "      <td>0</td>\n",
       "      <td>kS4hrhEScwB9V5JATYjvVQ</td>\n",
       "      <td>5</td>\n",
       "      <td>Sansotei serves some top notch ramen. They tak...</td>\n",
       "      <td>0</td>\n",
       "      <td>hxqo4NyJFfeOmuoVi--s1A</td>\n",
       "    </tr>\n",
       "    <tr>\n",
       "      <th>1</th>\n",
       "      <td>Edr6SafmQrZa6CcFuItoqg</td>\n",
       "      <td>0</td>\n",
       "      <td>2014-06-03</td>\n",
       "      <td>0</td>\n",
       "      <td>U04YgYr4PiGUxB46J4xapg</td>\n",
       "      <td>2</td>\n",
       "      <td>Limited vegetarian options. Ordered Greek sala...</td>\n",
       "      <td>0</td>\n",
       "      <td>B7Fh30KQT1xPSGt_pIhRRA</td>\n",
       "    </tr>\n",
       "    <tr>\n",
       "      <th>2</th>\n",
       "      <td>7xA6iSP0Ndn08tpBFQtUKA</td>\n",
       "      <td>0</td>\n",
       "      <td>2017-05-22</td>\n",
       "      <td>0</td>\n",
       "      <td>YDJDfKnx6VpMMo4EBxycGg</td>\n",
       "      <td>1</td>\n",
       "      <td>Non-existened service!  The waiter did not eve...</td>\n",
       "      <td>0</td>\n",
       "      <td>FCtoTo9zSH1cSAkascfEHw</td>\n",
       "    </tr>\n",
       "    <tr>\n",
       "      <th>3</th>\n",
       "      <td>SmizR7MLt-558FJJQRBBoQ</td>\n",
       "      <td>1</td>\n",
       "      <td>2011-06-01</td>\n",
       "      <td>1</td>\n",
       "      <td>2Hk7DNwu3rb2jKHaFfPyCA</td>\n",
       "      <td>4</td>\n",
       "      <td>It might be a bit unfair to review Globe so ea...</td>\n",
       "      <td>1</td>\n",
       "      <td>YHWsLBS8jzZiPjKHMFOaAA</td>\n",
       "    </tr>\n",
       "    <tr>\n",
       "      <th>4</th>\n",
       "      <td>iKMLsX1Je7P3wAOEc9scDg</td>\n",
       "      <td>0</td>\n",
       "      <td>2011-11-07</td>\n",
       "      <td>0</td>\n",
       "      <td>D2TcNaPqXxDGQ6T0n-vHXw</td>\n",
       "      <td>4</td>\n",
       "      <td>I have been itching to get to Origin for month...</td>\n",
       "      <td>4</td>\n",
       "      <td>YHWsLBS8jzZiPjKHMFOaAA</td>\n",
       "    </tr>\n",
       "  </tbody>\n",
       "</table>\n",
       "</div>"
      ],
      "text/plain": [
       "              business_id  cool       date  funny               review_id  \\\n",
       "0  f5O7v_X_jCg2itqacRfxhg     0 2017-10-12      0  kS4hrhEScwB9V5JATYjvVQ   \n",
       "1  Edr6SafmQrZa6CcFuItoqg     0 2014-06-03      0  U04YgYr4PiGUxB46J4xapg   \n",
       "2  7xA6iSP0Ndn08tpBFQtUKA     0 2017-05-22      0  YDJDfKnx6VpMMo4EBxycGg   \n",
       "3  SmizR7MLt-558FJJQRBBoQ     1 2011-06-01      1  2Hk7DNwu3rb2jKHaFfPyCA   \n",
       "4  iKMLsX1Je7P3wAOEc9scDg     0 2011-11-07      0  D2TcNaPqXxDGQ6T0n-vHXw   \n",
       "\n",
       "   stars                                               text  useful  \\\n",
       "0      5  Sansotei serves some top notch ramen. They tak...       0   \n",
       "1      2  Limited vegetarian options. Ordered Greek sala...       0   \n",
       "2      1  Non-existened service!  The waiter did not eve...       0   \n",
       "3      4  It might be a bit unfair to review Globe so ea...       1   \n",
       "4      4  I have been itching to get to Origin for month...       4   \n",
       "\n",
       "                  user_id  \n",
       "0  hxqo4NyJFfeOmuoVi--s1A  \n",
       "1  B7Fh30KQT1xPSGt_pIhRRA  \n",
       "2  FCtoTo9zSH1cSAkascfEHw  \n",
       "3  YHWsLBS8jzZiPjKHMFOaAA  \n",
       "4  YHWsLBS8jzZiPjKHMFOaAA  "
      ]
     },
     "execution_count": 5,
     "metadata": {},
     "output_type": "execute_result"
    }
   ],
   "source": [
    "df_reviews.head()"
   ]
  },
  {
   "cell_type": "markdown",
   "metadata": {},
   "source": [
    "### Would apply work better?"
   ]
  },
  {
   "cell_type": "code",
   "execution_count": 10,
   "metadata": {},
   "outputs": [],
   "source": [
    "tqdm.pandas(desc=\"vectorizing reviews\")"
   ]
  },
  {
   "cell_type": "code",
   "execution_count": 11,
   "metadata": {},
   "outputs": [],
   "source": [
    "def extract_vec_all(text):\n",
    "    cur_vec = np.zeros(e.loaded_embeddings.shape[1])\n",
    "    cur_token_dict = {}\n",
    "    cur_tdict_n = {}\n",
    "    cur_tdict_j = {}\n",
    "    cur_tdict_v = {}\n",
    "    \n",
    "    for token, tag in nltk.pos_tag(nltk.word_tokenize(text)):\n",
    "        if token in e.token2id:\n",
    "            if token in cur_token_dict:\n",
    "                cur_token_dict[token] += 1\n",
    "            else:\n",
    "                cur_token_dict[token] = 1\n",
    "                \n",
    "            if token in cur_tdict_n and tag[0] == e.WORD_TYPE_NOUN:\n",
    "                cur_tdict_n[token] += 1\n",
    "            else:\n",
    "                cur_tdict_n[token] = 1\n",
    "                \n",
    "            if token in cur_tdict_j and tag[0] == e.WORD_TYPE_ADJ:\n",
    "                cur_tdict_j[token] += 1\n",
    "            else:\n",
    "                cur_tdict_j[token] = 1\n",
    "                \n",
    "            if token in cur_tdict_v and tag[0] == e.WORD_TYPE_VERB:\n",
    "                cur_tdict_v[token] += 1\n",
    "            else:\n",
    "                cur_tdict_v[token] = 1\n",
    "                \n",
    "                \n",
    "    # all vocab\n",
    "    cur_vec_weight = 0\n",
    "    for cur_token in cur_token_dict.keys():\n",
    "        cur_id = e.token2id[cur_token]\n",
    "        cur_vec += e.loaded_embeddings[cur_id] * np.log(cur_token_dict[cur_token])\n",
    "        cur_vec_weight += np.log(cur_token_dict[cur_token])\n",
    "    \n",
    "    if cur_vec_weight > 0:\n",
    "        s1 = cur_vec / cur_vec_weight\n",
    "    else:\n",
    "        s1 = np.zeros(e.loaded_embeddings.shape[1])\n",
    "        \n",
    "    # nouns\n",
    "    cur_vec_weight = 0\n",
    "    for cur_token in cur_tdict_n.keys():\n",
    "        cur_id = e.token2id[cur_token]\n",
    "        cur_vec += e.loaded_embeddings[cur_id] * np.log(cur_tdict_n[cur_token])\n",
    "        cur_vec_weight += np.log(cur_tdict_n[cur_token])\n",
    "    \n",
    "    if cur_vec_weight > 0:\n",
    "        s2 = cur_vec / cur_vec_weight\n",
    "    else:\n",
    "        s2 = np.zeros(e.loaded_embeddings.shape[1])\n",
    "        \n",
    "    # adjectives\n",
    "    cur_vec_weight = 0\n",
    "    for cur_token in cur_tdict_j.keys():\n",
    "        cur_id = e.token2id[cur_token]\n",
    "        cur_vec += e.loaded_embeddings[cur_id] * np.log(cur_tdict_j[cur_token])\n",
    "        cur_vec_weight += np.log(cur_tdict_j[cur_token])\n",
    "    \n",
    "    if cur_vec_weight > 0:\n",
    "        s3 = cur_vec / cur_vec_weight\n",
    "    else:\n",
    "        s3 = np.zeros(e.loaded_embeddings.shape[1])\n",
    "        \n",
    "    # verbs\n",
    "    cur_vec_weight = 0\n",
    "    for cur_token in cur_tdict_v.keys():\n",
    "        cur_id = e.token2id[cur_token]\n",
    "        cur_vec += e.loaded_embeddings[cur_id] * np.log(cur_tdict_v[cur_token])\n",
    "        cur_vec_weight += np.log(cur_tdict_v[cur_token])\n",
    "    \n",
    "    if cur_vec_weight > 0:\n",
    "        s4 = cur_vec / cur_vec_weight\n",
    "    else:\n",
    "        s4 = np.zeros(e.loaded_embeddings.shape[1])\n",
    "        \n",
    "    return pd.Series([s1, s2, s3, s4], index=['all', 'noun', 'adj', 'verb'])"
   ]
  },
  {
   "cell_type": "code",
   "execution_count": 12,
   "metadata": {
    "scrolled": false
   },
   "outputs": [
    {
     "data": {
      "application/vnd.jupyter.widget-view+json": {
       "model_id": "f4bbe441ea6f4729b3434b9c5a916af8",
       "version_major": 2,
       "version_minor": 0
      },
      "text/plain": [
       "HBox(children=(IntProgress(value=0, description='vectorizing reviews', max=422790), HTML(value='')))"
      ]
     },
     "metadata": {},
     "output_type": "display_data"
    }
   ],
   "source": [
    "df_right = df_reviews['text'].progress_apply(extract_vec_all)"
   ]
  },
  {
   "cell_type": "code",
   "execution_count": 13,
   "metadata": {},
   "outputs": [],
   "source": [
    "df_rev_out = pd.concat([df_reviews, df_right], axis=1)"
   ]
  },
  {
   "cell_type": "markdown",
   "metadata": {},
   "source": [
    "### Group by the business and the users to get bus/user level vectors"
   ]
  },
  {
   "cell_type": "code",
   "execution_count": 14,
   "metadata": {},
   "outputs": [
    {
     "data": {
      "text/plain": [
       "Index(['business_id', 'cool', 'date', 'funny', 'review_id', 'stars', 'text',\n",
       "       'useful', 'user_id', 'all', 'noun', 'adj', 'verb'],\n",
       "      dtype='object')"
      ]
     },
     "execution_count": 14,
     "metadata": {},
     "output_type": "execute_result"
    }
   ],
   "source": [
    "df_rev_out.columns"
   ]
  },
  {
   "cell_type": "code",
   "execution_count": 15,
   "metadata": {},
   "outputs": [],
   "source": [
    "df_rev_out.to_pickle('features/wip_vec_reviews.p')"
   ]
  },
  {
   "cell_type": "markdown",
   "metadata": {},
   "source": [
    "## Sorting and using the date field as index"
   ]
  },
  {
   "cell_type": "code",
   "execution_count": 17,
   "metadata": {},
   "outputs": [],
   "source": [
    "df_rev_out['date'] = df_rev_out['date'].astype(np.datetime64)"
   ]
  },
  {
   "cell_type": "markdown",
   "metadata": {},
   "source": [
    "#### Business"
   ]
  },
  {
   "cell_type": "code",
   "execution_count": 29,
   "metadata": {},
   "outputs": [],
   "source": [
    "df_bus_sums = df_rev_out[['business_id', \n",
    "                          'all', \n",
    "                          'noun', \n",
    "                          'adj', \n",
    "                          'verb']].groupby('business_id').sum()"
   ]
  },
  {
   "cell_type": "code",
   "execution_count": 31,
   "metadata": {},
   "outputs": [],
   "source": [
    "df_bus_counts = df_rev_out[['business_id', 'review_id']].groupby('business_id').count()"
   ]
  },
  {
   "cell_type": "code",
   "execution_count": 32,
   "metadata": {},
   "outputs": [
    {
     "data": {
      "text/html": [
       "<div>\n",
       "<style scoped>\n",
       "    .dataframe tbody tr th:only-of-type {\n",
       "        vertical-align: middle;\n",
       "    }\n",
       "\n",
       "    .dataframe tbody tr th {\n",
       "        vertical-align: top;\n",
       "    }\n",
       "\n",
       "    .dataframe thead th {\n",
       "        text-align: right;\n",
       "    }\n",
       "</style>\n",
       "<table border=\"1\" class=\"dataframe\">\n",
       "  <thead>\n",
       "    <tr style=\"text-align: right;\">\n",
       "      <th></th>\n",
       "      <th>count</th>\n",
       "      <th>all</th>\n",
       "      <th>noun</th>\n",
       "      <th>adj</th>\n",
       "      <th>verb</th>\n",
       "    </tr>\n",
       "    <tr>\n",
       "      <th>business_id</th>\n",
       "      <th></th>\n",
       "      <th></th>\n",
       "      <th></th>\n",
       "      <th></th>\n",
       "      <th></th>\n",
       "    </tr>\n",
       "  </thead>\n",
       "  <tbody>\n",
       "    <tr>\n",
       "      <th>--DaPTJW3-tB1vP-PfdTEg</th>\n",
       "      <td>45</td>\n",
       "      <td>[0.0017869004761138958, 0.20606939583017655, -...</td>\n",
       "      <td>[-0.11127622118822492, 2.8331555361971263, -6....</td>\n",
       "      <td>[-3.9484768743305056, 5.604928961798239, -12.7...</td>\n",
       "      <td>[0.4033316999024096, 3.265669911393346, -10.09...</td>\n",
       "    </tr>\n",
       "    <tr>\n",
       "      <th>--SrzpvFLwP_YFwB_Cetow</th>\n",
       "      <td>44</td>\n",
       "      <td>[-0.1029952507002102, 0.600745486661129, -1.08...</td>\n",
       "      <td>[-4.403267627244141, 10.240320037738009, -10.5...</td>\n",
       "      <td>[-8.638763987409279, 11.781320318543989, -15.6...</td>\n",
       "      <td>[-3.537699646974465, 7.744853670856408, -11.29...</td>\n",
       "    </tr>\n",
       "    <tr>\n",
       "      <th>--lZAZSwpP_axKoL4lR9dQ</th>\n",
       "      <td>3</td>\n",
       "      <td>[-0.004571479044457299, 0.002964029669554137, ...</td>\n",
       "      <td>[-0.13009907937042337, 0.01820574526766422, -1...</td>\n",
       "      <td>[-0.03153662383604755, 0.1709861428751057, -1....</td>\n",
       "      <td>[0.06465771962707753, -0.0835312185366967, -1....</td>\n",
       "    </tr>\n",
       "    <tr>\n",
       "      <th>-0CCHBui57tZ_1y_14X-5Q</th>\n",
       "      <td>6</td>\n",
       "      <td>[0.016851474460507318, 0.032703879528605845, -...</td>\n",
       "      <td>[-0.43303546292649403, 0.3393362473861706, -0....</td>\n",
       "      <td>[-0.053719300697059186, 0.4966665354190897, 0....</td>\n",
       "      <td>[0.19229890639646735, 0.1390788395194723, -0.0...</td>\n",
       "    </tr>\n",
       "    <tr>\n",
       "      <th>-0CTrPQNiSyClxhdO4HSDQ</th>\n",
       "      <td>21</td>\n",
       "      <td>[0.18496462294124774, 0.2902057050800089, -0.4...</td>\n",
       "      <td>[0.6698633493406726, 2.5049923458536396, -2.02...</td>\n",
       "      <td>[-1.7338338836213187, 9.772342803271602, -10.1...</td>\n",
       "      <td>[1.0441675078805337, 3.336597801476677, -3.847...</td>\n",
       "    </tr>\n",
       "  </tbody>\n",
       "</table>\n",
       "</div>"
      ],
      "text/plain": [
       "                        count  \\\n",
       "business_id                     \n",
       "--DaPTJW3-tB1vP-PfdTEg     45   \n",
       "--SrzpvFLwP_YFwB_Cetow     44   \n",
       "--lZAZSwpP_axKoL4lR9dQ      3   \n",
       "-0CCHBui57tZ_1y_14X-5Q      6   \n",
       "-0CTrPQNiSyClxhdO4HSDQ     21   \n",
       "\n",
       "                                                                      all  \\\n",
       "business_id                                                                 \n",
       "--DaPTJW3-tB1vP-PfdTEg  [0.0017869004761138958, 0.20606939583017655, -...   \n",
       "--SrzpvFLwP_YFwB_Cetow  [-0.1029952507002102, 0.600745486661129, -1.08...   \n",
       "--lZAZSwpP_axKoL4lR9dQ  [-0.004571479044457299, 0.002964029669554137, ...   \n",
       "-0CCHBui57tZ_1y_14X-5Q  [0.016851474460507318, 0.032703879528605845, -...   \n",
       "-0CTrPQNiSyClxhdO4HSDQ  [0.18496462294124774, 0.2902057050800089, -0.4...   \n",
       "\n",
       "                                                                     noun  \\\n",
       "business_id                                                                 \n",
       "--DaPTJW3-tB1vP-PfdTEg  [-0.11127622118822492, 2.8331555361971263, -6....   \n",
       "--SrzpvFLwP_YFwB_Cetow  [-4.403267627244141, 10.240320037738009, -10.5...   \n",
       "--lZAZSwpP_axKoL4lR9dQ  [-0.13009907937042337, 0.01820574526766422, -1...   \n",
       "-0CCHBui57tZ_1y_14X-5Q  [-0.43303546292649403, 0.3393362473861706, -0....   \n",
       "-0CTrPQNiSyClxhdO4HSDQ  [0.6698633493406726, 2.5049923458536396, -2.02...   \n",
       "\n",
       "                                                                      adj  \\\n",
       "business_id                                                                 \n",
       "--DaPTJW3-tB1vP-PfdTEg  [-3.9484768743305056, 5.604928961798239, -12.7...   \n",
       "--SrzpvFLwP_YFwB_Cetow  [-8.638763987409279, 11.781320318543989, -15.6...   \n",
       "--lZAZSwpP_axKoL4lR9dQ  [-0.03153662383604755, 0.1709861428751057, -1....   \n",
       "-0CCHBui57tZ_1y_14X-5Q  [-0.053719300697059186, 0.4966665354190897, 0....   \n",
       "-0CTrPQNiSyClxhdO4HSDQ  [-1.7338338836213187, 9.772342803271602, -10.1...   \n",
       "\n",
       "                                                                     verb  \n",
       "business_id                                                                \n",
       "--DaPTJW3-tB1vP-PfdTEg  [0.4033316999024096, 3.265669911393346, -10.09...  \n",
       "--SrzpvFLwP_YFwB_Cetow  [-3.537699646974465, 7.744853670856408, -11.29...  \n",
       "--lZAZSwpP_axKoL4lR9dQ  [0.06465771962707753, -0.0835312185366967, -1....  \n",
       "-0CCHBui57tZ_1y_14X-5Q  [0.19229890639646735, 0.1390788395194723, -0.0...  \n",
       "-0CTrPQNiSyClxhdO4HSDQ  [1.0441675078805337, 3.336597801476677, -3.847...  "
      ]
     },
     "execution_count": 32,
     "metadata": {},
     "output_type": "execute_result"
    }
   ],
   "source": [
    "df_bus = df_bus_counts.join(df_bus_sums)\n",
    "df_bus.rename(columns={'review_id': 'count'}, inplace=True)\n",
    "df_bus.head()"
   ]
  },
  {
   "cell_type": "code",
   "execution_count": 73,
   "metadata": {},
   "outputs": [
    {
     "data": {
      "text/plain": [
       "(10914, 5)"
      ]
     },
     "execution_count": 73,
     "metadata": {},
     "output_type": "execute_result"
    }
   ],
   "source": [
    "df_bus.shape"
   ]
  },
  {
   "cell_type": "markdown",
   "metadata": {},
   "source": [
    "#### User"
   ]
  },
  {
   "cell_type": "code",
   "execution_count": 33,
   "metadata": {},
   "outputs": [],
   "source": [
    "df_user_sums = df_rev_out[['user_id', \n",
    "                           'all', \n",
    "                           'noun', \n",
    "                           'adj', \n",
    "                           'verb']].groupby('user_id').sum()"
   ]
  },
  {
   "cell_type": "code",
   "execution_count": 34,
   "metadata": {},
   "outputs": [],
   "source": [
    "df_user_counts = df_rev_out[['user_id', 'review_id']].groupby('user_id').count()"
   ]
  },
  {
   "cell_type": "code",
   "execution_count": 35,
   "metadata": {},
   "outputs": [
    {
     "data": {
      "text/html": [
       "<div>\n",
       "<style scoped>\n",
       "    .dataframe tbody tr th:only-of-type {\n",
       "        vertical-align: middle;\n",
       "    }\n",
       "\n",
       "    .dataframe tbody tr th {\n",
       "        vertical-align: top;\n",
       "    }\n",
       "\n",
       "    .dataframe thead th {\n",
       "        text-align: right;\n",
       "    }\n",
       "</style>\n",
       "<table border=\"1\" class=\"dataframe\">\n",
       "  <thead>\n",
       "    <tr style=\"text-align: right;\">\n",
       "      <th></th>\n",
       "      <th>count</th>\n",
       "      <th>all</th>\n",
       "      <th>noun</th>\n",
       "      <th>adj</th>\n",
       "      <th>verb</th>\n",
       "    </tr>\n",
       "    <tr>\n",
       "      <th>user_id</th>\n",
       "      <th></th>\n",
       "      <th></th>\n",
       "      <th></th>\n",
       "      <th></th>\n",
       "      <th></th>\n",
       "    </tr>\n",
       "  </thead>\n",
       "  <tbody>\n",
       "    <tr>\n",
       "      <th>--56y1InAvNoQOD6YYrhVQ</th>\n",
       "      <td>1</td>\n",
       "      <td>[0.016496436279152548, 0.036148138177207335, -...</td>\n",
       "      <td>[0.13578705018935083, 0.4624610821761501, -0.1...</td>\n",
       "      <td>[0.0, 0.0, 0.0, 0.0, 0.0, 0.0, 0.0, 0.0, 0.0, ...</td>\n",
       "      <td>[0.28746848421468774, 0.6009304867712244, -0.3...</td>\n",
       "    </tr>\n",
       "    <tr>\n",
       "      <th>--7gjElmOrthETJ8XqzMBw</th>\n",
       "      <td>2</td>\n",
       "      <td>[0.04204776201754973, 0.012902529560547629, -0...</td>\n",
       "      <td>[0.6532981162577021, 0.35451768018026714, -0.6...</td>\n",
       "      <td>[0.28481480750402416, 0.22200113641187763, -0....</td>\n",
       "      <td>[0.4862463697378471, 0.08892722908663878, -0.5...</td>\n",
       "    </tr>\n",
       "    <tr>\n",
       "      <th>--Br-QsbO9ad5GbZxVGxaw</th>\n",
       "      <td>1</td>\n",
       "      <td>[-0.001990947646696029, 0.028539195695950172, ...</td>\n",
       "      <td>[-0.03228909115741223, 0.29352549830992447, 0....</td>\n",
       "      <td>[0.0, 0.0, 0.0, 0.0, 0.0, 0.0, 0.0, 0.0, 0.0, ...</td>\n",
       "      <td>[0.0041930276205179315, 0.3758376084920165, 0....</td>\n",
       "    </tr>\n",
       "    <tr>\n",
       "      <th>--BumyUHiO_7YsHurb9Hkw</th>\n",
       "      <td>42</td>\n",
       "      <td>[-0.22782512548218226, 0.5190823070811869, -1....</td>\n",
       "      <td>[-2.612504719725433, 6.863337608346825, -11.18...</td>\n",
       "      <td>[-2.627411829495066, 4.859770144849242, -12.32...</td>\n",
       "      <td>[-0.07258286541616335, 5.019621099363732, -12....</td>\n",
       "    </tr>\n",
       "    <tr>\n",
       "      <th>--C93xIlmjtgQfSOIpcQSA</th>\n",
       "      <td>1</td>\n",
       "      <td>[-0.012266972830970245, 0.038082180428604666, ...</td>\n",
       "      <td>[-0.19651541564104572, 0.3688580538162743, -0....</td>\n",
       "      <td>[0.0, 0.0, 0.0, 0.0, 0.0, 0.0, 0.0, 0.0, 0.0, ...</td>\n",
       "      <td>[0.0, 0.0, 0.0, 0.0, 0.0, 0.0, 0.0, 0.0, 0.0, ...</td>\n",
       "    </tr>\n",
       "  </tbody>\n",
       "</table>\n",
       "</div>"
      ],
      "text/plain": [
       "                        count  \\\n",
       "user_id                         \n",
       "--56y1InAvNoQOD6YYrhVQ      1   \n",
       "--7gjElmOrthETJ8XqzMBw      2   \n",
       "--Br-QsbO9ad5GbZxVGxaw      1   \n",
       "--BumyUHiO_7YsHurb9Hkw     42   \n",
       "--C93xIlmjtgQfSOIpcQSA      1   \n",
       "\n",
       "                                                                      all  \\\n",
       "user_id                                                                     \n",
       "--56y1InAvNoQOD6YYrhVQ  [0.016496436279152548, 0.036148138177207335, -...   \n",
       "--7gjElmOrthETJ8XqzMBw  [0.04204776201754973, 0.012902529560547629, -0...   \n",
       "--Br-QsbO9ad5GbZxVGxaw  [-0.001990947646696029, 0.028539195695950172, ...   \n",
       "--BumyUHiO_7YsHurb9Hkw  [-0.22782512548218226, 0.5190823070811869, -1....   \n",
       "--C93xIlmjtgQfSOIpcQSA  [-0.012266972830970245, 0.038082180428604666, ...   \n",
       "\n",
       "                                                                     noun  \\\n",
       "user_id                                                                     \n",
       "--56y1InAvNoQOD6YYrhVQ  [0.13578705018935083, 0.4624610821761501, -0.1...   \n",
       "--7gjElmOrthETJ8XqzMBw  [0.6532981162577021, 0.35451768018026714, -0.6...   \n",
       "--Br-QsbO9ad5GbZxVGxaw  [-0.03228909115741223, 0.29352549830992447, 0....   \n",
       "--BumyUHiO_7YsHurb9Hkw  [-2.612504719725433, 6.863337608346825, -11.18...   \n",
       "--C93xIlmjtgQfSOIpcQSA  [-0.19651541564104572, 0.3688580538162743, -0....   \n",
       "\n",
       "                                                                      adj  \\\n",
       "user_id                                                                     \n",
       "--56y1InAvNoQOD6YYrhVQ  [0.0, 0.0, 0.0, 0.0, 0.0, 0.0, 0.0, 0.0, 0.0, ...   \n",
       "--7gjElmOrthETJ8XqzMBw  [0.28481480750402416, 0.22200113641187763, -0....   \n",
       "--Br-QsbO9ad5GbZxVGxaw  [0.0, 0.0, 0.0, 0.0, 0.0, 0.0, 0.0, 0.0, 0.0, ...   \n",
       "--BumyUHiO_7YsHurb9Hkw  [-2.627411829495066, 4.859770144849242, -12.32...   \n",
       "--C93xIlmjtgQfSOIpcQSA  [0.0, 0.0, 0.0, 0.0, 0.0, 0.0, 0.0, 0.0, 0.0, ...   \n",
       "\n",
       "                                                                     verb  \n",
       "user_id                                                                    \n",
       "--56y1InAvNoQOD6YYrhVQ  [0.28746848421468774, 0.6009304867712244, -0.3...  \n",
       "--7gjElmOrthETJ8XqzMBw  [0.4862463697378471, 0.08892722908663878, -0.5...  \n",
       "--Br-QsbO9ad5GbZxVGxaw  [0.0041930276205179315, 0.3758376084920165, 0....  \n",
       "--BumyUHiO_7YsHurb9Hkw  [-0.07258286541616335, 5.019621099363732, -12....  \n",
       "--C93xIlmjtgQfSOIpcQSA  [0.0, 0.0, 0.0, 0.0, 0.0, 0.0, 0.0, 0.0, 0.0, ...  "
      ]
     },
     "execution_count": 35,
     "metadata": {},
     "output_type": "execute_result"
    }
   ],
   "source": [
    "df_user = df_user_counts.join(df_user_sums)\n",
    "df_user.rename(columns={'review_id': 'count'}, inplace=True)\n",
    "df_user.head()"
   ]
  },
  {
   "cell_type": "code",
   "execution_count": 36,
   "metadata": {},
   "outputs": [
    {
     "data": {
      "text/plain": [
       "(93075, 21)"
      ]
     },
     "execution_count": 36,
     "metadata": {},
     "output_type": "execute_result"
    }
   ],
   "source": [
    "df_users.shape"
   ]
  },
  {
   "cell_type": "markdown",
   "metadata": {},
   "source": [
    "### Finally loop through the reviews database and compute the ex-current bus and user vectors, then compute cosine similarity"
   ]
  },
  {
   "cell_type": "code",
   "execution_count": 37,
   "metadata": {},
   "outputs": [],
   "source": [
    "df_m1 = df_rev_out.merge(df_user.reset_index(), how='left', on='user_id', suffixes=('', '_u'))"
   ]
  },
  {
   "cell_type": "code",
   "execution_count": 38,
   "metadata": {},
   "outputs": [],
   "source": [
    "df_m2 = df_m1.merge(df_bus.reset_index(), how='left', on='business_id', suffixes=('', '_b'))"
   ]
  },
  {
   "cell_type": "code",
   "execution_count": 39,
   "metadata": {},
   "outputs": [
    {
     "data": {
      "text/plain": [
       "(422790, 23)"
      ]
     },
     "execution_count": 39,
     "metadata": {},
     "output_type": "execute_result"
    }
   ],
   "source": [
    "df_m2.shape"
   ]
  },
  {
   "cell_type": "code",
   "execution_count": 40,
   "metadata": {},
   "outputs": [
    {
     "data": {
      "text/plain": [
       "Index(['business_id', 'cool', 'date', 'funny', 'review_id', 'stars', 'text',\n",
       "       'useful', 'user_id', 'all', 'noun', 'adj', 'verb', 'count', 'all_u',\n",
       "       'noun_u', 'adj_u', 'verb_u', 'count_b', 'all_b', 'noun_b', 'adj_b',\n",
       "       'verb_b'],\n",
       "      dtype='object')"
      ]
     },
     "execution_count": 40,
     "metadata": {},
     "output_type": "execute_result"
    }
   ],
   "source": [
    "df_m2.columns"
   ]
  },
  {
   "cell_type": "code",
   "execution_count": 41,
   "metadata": {},
   "outputs": [],
   "source": [
    "df_m2['all_ux'] = df_m2['all_u'] - df_m2['all']\n",
    "df_m2['noun_ux'] = df_m2['noun_u'] - df_m2['noun']\n",
    "df_m2['adj_ux'] = df_m2['adj_u'] - df_m2['adj']\n",
    "df_m2['verb_ux'] = df_m2['verb_u'] - df_m2['verb']\n",
    "\n",
    "df_m2['all_bx'] = df_m2['all_b'] - df_m2['all']\n",
    "df_m2['noun_bx'] = df_m2['noun_b'] - df_m2['noun']\n",
    "df_m2['adj_bx'] = df_m2['adj_b'] - df_m2['adj']\n",
    "df_m2['verb_bx'] = df_m2['verb_b'] - df_m2['verb']"
   ]
  },
  {
   "cell_type": "markdown",
   "metadata": {},
   "source": [
    "### for anything with just 1 count, the numerators will be zero anyway, okay to just add 1 to the count in those cases to use division after (prevents div by zero)"
   ]
  },
  {
   "cell_type": "code",
   "execution_count": 42,
   "metadata": {},
   "outputs": [],
   "source": [
    "df_m2['count'] = df_m2['count'].apply(lambda x: x + 1 if x == 1 else x)\n",
    "df_m2['count_b'] = df_m2['count_b'].apply(lambda x: x + 1 if x == 1 else x)"
   ]
  },
  {
   "cell_type": "code",
   "execution_count": 43,
   "metadata": {},
   "outputs": [],
   "source": [
    "# get the average vectors:\n",
    "df_m2['all_ux'] = df_m2['all_ux'] / df_m2['count']\n",
    "df_m2['noun_ux'] = df_m2['noun_ux'] / df_m2['count']\n",
    "df_m2['adj_ux'] = df_m2['adj_ux'] / df_m2['count']\n",
    "df_m2['verb_ux'] = df_m2['verb_ux'] / df_m2['count']\n",
    "\n",
    "df_m2['all_bx'] = df_m2['all_bx'] / df_m2['count_b']\n",
    "df_m2['noun_bx'] = df_m2['noun_bx'] / df_m2['count_b']\n",
    "df_m2['adj_bx'] = df_m2['adj_bx'] / df_m2['count_b']\n",
    "df_m2['verb_bx'] = df_m2['verb_bx'] / df_m2['count_b']"
   ]
  },
  {
   "cell_type": "code",
   "execution_count": 44,
   "metadata": {},
   "outputs": [
    {
     "data": {
      "application/vnd.jupyter.widget-view+json": {
       "model_id": "8dcb2f52489d42d4a51ebac957bd907f",
       "version_major": 2,
       "version_minor": 0
      },
      "text/plain": [
       "HBox(children=(IntProgress(value=0, description='vectorizing reviews', max=422790), HTML(value='')))"
      ]
     },
     "metadata": {},
     "output_type": "display_data"
    },
    {
     "data": {
      "application/vnd.jupyter.widget-view+json": {
       "model_id": "e9c06d64f5914731bc05eb31d311cfc3",
       "version_major": 2,
       "version_minor": 0
      },
      "text/plain": [
       "HBox(children=(IntProgress(value=0, description='vectorizing reviews', max=422790), HTML(value='')))"
      ]
     },
     "metadata": {},
     "output_type": "display_data"
    },
    {
     "data": {
      "application/vnd.jupyter.widget-view+json": {
       "model_id": "211ec941d24c47b79329ef61aa910a2d",
       "version_major": 2,
       "version_minor": 0
      },
      "text/plain": [
       "HBox(children=(IntProgress(value=0, description='vectorizing reviews', max=422790), HTML(value='')))"
      ]
     },
     "metadata": {},
     "output_type": "display_data"
    },
    {
     "data": {
      "application/vnd.jupyter.widget-view+json": {
       "model_id": "7ea2d64955214468a7b76dfab23cff8e",
       "version_major": 2,
       "version_minor": 0
      },
      "text/plain": [
       "HBox(children=(IntProgress(value=0, description='vectorizing reviews', max=422790), HTML(value='')))"
      ]
     },
     "metadata": {},
     "output_type": "display_data"
    }
   ],
   "source": [
    "def cs_all(row):\n",
    "    return cos_sim(row['all_ux'], row['all_bx'])\n",
    "\n",
    "def cs_noun(row):\n",
    "    return cos_sim(row['noun_ux'], row['noun_bx'])\n",
    "\n",
    "def cs_adj(row):\n",
    "    return cos_sim(row['adj_ux'], row['adj_bx'])\n",
    "\n",
    "def cs_verb(row):\n",
    "    return cos_sim(row['verb_ux'], row['verb_bx'])\n",
    "\n",
    "def cos_sim(a, b):\n",
    "    norma = np.linalg.norm(a)\n",
    "    normb = np.linalg.norm(b)\n",
    "    \n",
    "    if norma > 0 and normb > 0:\n",
    "        return a.dot(b) / (norma * normb)\n",
    "    else:\n",
    "        return np.NaN\n",
    "\n",
    "df_m2['cos_sim_all'] = df_m2.progress_apply(cs_all, axis=1)\n",
    "df_m2['cos_sim_noun'] = df_m2.progress_apply(cs_noun, axis=1)\n",
    "df_m2['cos_sim_adj'] = df_m2.progress_apply(cs_adj, axis=1)\n",
    "df_m2['cos_sim_verb'] = df_m2.progress_apply(cs_verb, axis=1)"
   ]
  },
  {
   "cell_type": "code",
   "execution_count": 45,
   "metadata": {},
   "outputs": [
    {
     "data": {
      "text/plain": [
       "Index(['business_id', 'cool', 'date', 'funny', 'review_id', 'stars', 'text',\n",
       "       'useful', 'user_id', 'all', 'noun', 'adj', 'verb', 'count', 'all_u',\n",
       "       'noun_u', 'adj_u', 'verb_u', 'count_b', 'all_b', 'noun_b', 'adj_b',\n",
       "       'verb_b', 'all_ux', 'noun_ux', 'adj_ux', 'verb_ux', 'all_bx', 'noun_bx',\n",
       "       'adj_bx', 'verb_bx', 'cos_sim_all', 'cos_sim_noun', 'cos_sim_adj',\n",
       "       'cos_sim_verb'],\n",
       "      dtype='object')"
      ]
     },
     "execution_count": 45,
     "metadata": {},
     "output_type": "execute_result"
    }
   ],
   "source": [
    "df_m2.columns"
   ]
  },
  {
   "cell_type": "code",
   "execution_count": 46,
   "metadata": {},
   "outputs": [
    {
     "data": {
      "text/html": [
       "<div>\n",
       "<style scoped>\n",
       "    .dataframe tbody tr th:only-of-type {\n",
       "        vertical-align: middle;\n",
       "    }\n",
       "\n",
       "    .dataframe tbody tr th {\n",
       "        vertical-align: top;\n",
       "    }\n",
       "\n",
       "    .dataframe thead th {\n",
       "        text-align: right;\n",
       "    }\n",
       "</style>\n",
       "<table border=\"1\" class=\"dataframe\">\n",
       "  <thead>\n",
       "    <tr style=\"text-align: right;\">\n",
       "      <th></th>\n",
       "      <th>business_id</th>\n",
       "      <th>cool</th>\n",
       "      <th>date</th>\n",
       "      <th>funny</th>\n",
       "      <th>review_id</th>\n",
       "      <th>stars</th>\n",
       "      <th>text</th>\n",
       "      <th>useful</th>\n",
       "      <th>user_id</th>\n",
       "      <th>all</th>\n",
       "      <th>...</th>\n",
       "      <th>adj_ux</th>\n",
       "      <th>verb_ux</th>\n",
       "      <th>all_bx</th>\n",
       "      <th>noun_bx</th>\n",
       "      <th>adj_bx</th>\n",
       "      <th>verb_bx</th>\n",
       "      <th>cos_sim_all</th>\n",
       "      <th>cos_sim_noun</th>\n",
       "      <th>cos_sim_adj</th>\n",
       "      <th>cos_sim_verb</th>\n",
       "    </tr>\n",
       "  </thead>\n",
       "  <tbody>\n",
       "    <tr>\n",
       "      <th>0</th>\n",
       "      <td>f5O7v_X_jCg2itqacRfxhg</td>\n",
       "      <td>0</td>\n",
       "      <td>2017-10-12</td>\n",
       "      <td>0</td>\n",
       "      <td>kS4hrhEScwB9V5JATYjvVQ</td>\n",
       "      <td>5</td>\n",
       "      <td>Sansotei serves some top notch ramen. They tak...</td>\n",
       "      <td>0</td>\n",
       "      <td>hxqo4NyJFfeOmuoVi--s1A</td>\n",
       "      <td>[-0.03832734742901407, 0.018445035966495358, -...</td>\n",
       "      <td>...</td>\n",
       "      <td>[0.0, 0.0, 0.0, 0.0, 0.0, 0.0, 0.0, 0.0, 0.0, ...</td>\n",
       "      <td>[0.0, 0.0, 0.0, 0.0, 0.0, 0.0, 0.0, 0.0, 0.0, ...</td>\n",
       "      <td>[-0.010091646481326839, 0.0181423904564067, -0...</td>\n",
       "      <td>[-0.16546674493210226, 0.1985666616474624, -0....</td>\n",
       "      <td>[-0.25961293364767934, 0.2379075219333589, -0....</td>\n",
       "      <td>[-0.13229515545729878, 0.18189096583814787, -0...</td>\n",
       "      <td>NaN</td>\n",
       "      <td>NaN</td>\n",
       "      <td>NaN</td>\n",
       "      <td>NaN</td>\n",
       "    </tr>\n",
       "    <tr>\n",
       "      <th>1</th>\n",
       "      <td>Edr6SafmQrZa6CcFuItoqg</td>\n",
       "      <td>0</td>\n",
       "      <td>2014-06-03</td>\n",
       "      <td>0</td>\n",
       "      <td>U04YgYr4PiGUxB46J4xapg</td>\n",
       "      <td>2</td>\n",
       "      <td>Limited vegetarian options. Ordered Greek sala...</td>\n",
       "      <td>0</td>\n",
       "      <td>B7Fh30KQT1xPSGt_pIhRRA</td>\n",
       "      <td>[-0.014455147797806395, -0.012854391500233476,...</td>\n",
       "      <td>...</td>\n",
       "      <td>[0.0, 0.0, 0.0, 0.0, 0.0, 0.0, 0.0, 0.0, 0.0, ...</td>\n",
       "      <td>[0.0, 0.0, 0.0, 0.0, 0.0, 0.0, 0.0, 0.0, 0.0, ...</td>\n",
       "      <td>[-0.0007624125223666326, 0.021865356685971882,...</td>\n",
       "      <td>[-0.05206629617499276, 0.17833598790232008, -0...</td>\n",
       "      <td>[-0.0435700880467049, 0.09358504037980193, -0....</td>\n",
       "      <td>[-0.019005147651165222, 0.19730549983647488, -...</td>\n",
       "      <td>NaN</td>\n",
       "      <td>NaN</td>\n",
       "      <td>NaN</td>\n",
       "      <td>NaN</td>\n",
       "    </tr>\n",
       "    <tr>\n",
       "      <th>2</th>\n",
       "      <td>7xA6iSP0Ndn08tpBFQtUKA</td>\n",
       "      <td>0</td>\n",
       "      <td>2017-05-22</td>\n",
       "      <td>0</td>\n",
       "      <td>YDJDfKnx6VpMMo4EBxycGg</td>\n",
       "      <td>1</td>\n",
       "      <td>Non-existened service!  The waiter did not eve...</td>\n",
       "      <td>0</td>\n",
       "      <td>FCtoTo9zSH1cSAkascfEHw</td>\n",
       "      <td>[-0.013647548310791026, 0.026991165696234692, ...</td>\n",
       "      <td>...</td>\n",
       "      <td>[0.0, 0.0, 0.0, 0.0, 0.0, 0.0, 0.0, 0.0, 0.0, ...</td>\n",
       "      <td>[0.0, 0.0, 0.0, 0.0, 0.0, 0.0, 0.0, 0.0, 0.0, ...</td>\n",
       "      <td>[0.0003083079028871385, 0.02005627411538698, -...</td>\n",
       "      <td>[-0.038607747726524366, 0.20816723027065562, -...</td>\n",
       "      <td>[-0.09959209455123712, 0.23623215882778778, -0...</td>\n",
       "      <td>[-0.011174468227655233, 0.17298580389387727, -...</td>\n",
       "      <td>NaN</td>\n",
       "      <td>NaN</td>\n",
       "      <td>NaN</td>\n",
       "      <td>NaN</td>\n",
       "    </tr>\n",
       "    <tr>\n",
       "      <th>3</th>\n",
       "      <td>SmizR7MLt-558FJJQRBBoQ</td>\n",
       "      <td>1</td>\n",
       "      <td>2011-06-01</td>\n",
       "      <td>1</td>\n",
       "      <td>2Hk7DNwu3rb2jKHaFfPyCA</td>\n",
       "      <td>4</td>\n",
       "      <td>It might be a bit unfair to review Globe so ea...</td>\n",
       "      <td>1</td>\n",
       "      <td>YHWsLBS8jzZiPjKHMFOaAA</td>\n",
       "      <td>[0.002356709963967192, 0.002992142496556362, -...</td>\n",
       "      <td>...</td>\n",
       "      <td>[-0.11593575098198738, 0.23457009567933026, -0...</td>\n",
       "      <td>[-0.025901197431010135, 0.10424652147980995, -...</td>\n",
       "      <td>[0.009362429182730232, 0.008713100846687008, -...</td>\n",
       "      <td>[0.01926579369392437, 0.1267083455207105, -0.1...</td>\n",
       "      <td>[0.021599122459501564, 0.19744831596331622, -0...</td>\n",
       "      <td>[0.08385048271795602, 0.07329249905412984, -0....</td>\n",
       "      <td>0.985956</td>\n",
       "      <td>0.993226</td>\n",
       "      <td>0.990297</td>\n",
       "      <td>0.982646</td>\n",
       "    </tr>\n",
       "    <tr>\n",
       "      <th>4</th>\n",
       "      <td>iKMLsX1Je7P3wAOEc9scDg</td>\n",
       "      <td>0</td>\n",
       "      <td>2011-11-07</td>\n",
       "      <td>0</td>\n",
       "      <td>D2TcNaPqXxDGQ6T0n-vHXw</td>\n",
       "      <td>4</td>\n",
       "      <td>I have been itching to get to Origin for month...</td>\n",
       "      <td>4</td>\n",
       "      <td>YHWsLBS8jzZiPjKHMFOaAA</td>\n",
       "      <td>[-0.0045733913718006705, 0.0013444582292904187...</td>\n",
       "      <td>...</td>\n",
       "      <td>[-0.11356111298939406, 0.23431796693157608, -0...</td>\n",
       "      <td>[-0.02509331141091242, 0.10433204337689171, -0...</td>\n",
       "      <td>[0.008634003544660361, 0.010109772748658812, -...</td>\n",
       "      <td>[0.029137060636365845, 0.12154930550487979, -0...</td>\n",
       "      <td>[0.002340934519621865, 0.19694080514727522, -0...</td>\n",
       "      <td>[0.06739356053734745, 0.10358886604753895, -0....</td>\n",
       "      <td>0.986125</td>\n",
       "      <td>0.992785</td>\n",
       "      <td>0.995336</td>\n",
       "      <td>0.990077</td>\n",
       "    </tr>\n",
       "  </tbody>\n",
       "</table>\n",
       "<p>5 rows × 35 columns</p>\n",
       "</div>"
      ],
      "text/plain": [
       "              business_id  cool       date  funny               review_id  \\\n",
       "0  f5O7v_X_jCg2itqacRfxhg     0 2017-10-12      0  kS4hrhEScwB9V5JATYjvVQ   \n",
       "1  Edr6SafmQrZa6CcFuItoqg     0 2014-06-03      0  U04YgYr4PiGUxB46J4xapg   \n",
       "2  7xA6iSP0Ndn08tpBFQtUKA     0 2017-05-22      0  YDJDfKnx6VpMMo4EBxycGg   \n",
       "3  SmizR7MLt-558FJJQRBBoQ     1 2011-06-01      1  2Hk7DNwu3rb2jKHaFfPyCA   \n",
       "4  iKMLsX1Je7P3wAOEc9scDg     0 2011-11-07      0  D2TcNaPqXxDGQ6T0n-vHXw   \n",
       "\n",
       "   stars                                               text  useful  \\\n",
       "0      5  Sansotei serves some top notch ramen. They tak...       0   \n",
       "1      2  Limited vegetarian options. Ordered Greek sala...       0   \n",
       "2      1  Non-existened service!  The waiter did not eve...       0   \n",
       "3      4  It might be a bit unfair to review Globe so ea...       1   \n",
       "4      4  I have been itching to get to Origin for month...       4   \n",
       "\n",
       "                  user_id                                                all  \\\n",
       "0  hxqo4NyJFfeOmuoVi--s1A  [-0.03832734742901407, 0.018445035966495358, -...   \n",
       "1  B7Fh30KQT1xPSGt_pIhRRA  [-0.014455147797806395, -0.012854391500233476,...   \n",
       "2  FCtoTo9zSH1cSAkascfEHw  [-0.013647548310791026, 0.026991165696234692, ...   \n",
       "3  YHWsLBS8jzZiPjKHMFOaAA  [0.002356709963967192, 0.002992142496556362, -...   \n",
       "4  YHWsLBS8jzZiPjKHMFOaAA  [-0.0045733913718006705, 0.0013444582292904187...   \n",
       "\n",
       "      ...                                                  adj_ux  \\\n",
       "0     ...       [0.0, 0.0, 0.0, 0.0, 0.0, 0.0, 0.0, 0.0, 0.0, ...   \n",
       "1     ...       [0.0, 0.0, 0.0, 0.0, 0.0, 0.0, 0.0, 0.0, 0.0, ...   \n",
       "2     ...       [0.0, 0.0, 0.0, 0.0, 0.0, 0.0, 0.0, 0.0, 0.0, ...   \n",
       "3     ...       [-0.11593575098198738, 0.23457009567933026, -0...   \n",
       "4     ...       [-0.11356111298939406, 0.23431796693157608, -0...   \n",
       "\n",
       "                                             verb_ux  \\\n",
       "0  [0.0, 0.0, 0.0, 0.0, 0.0, 0.0, 0.0, 0.0, 0.0, ...   \n",
       "1  [0.0, 0.0, 0.0, 0.0, 0.0, 0.0, 0.0, 0.0, 0.0, ...   \n",
       "2  [0.0, 0.0, 0.0, 0.0, 0.0, 0.0, 0.0, 0.0, 0.0, ...   \n",
       "3  [-0.025901197431010135, 0.10424652147980995, -...   \n",
       "4  [-0.02509331141091242, 0.10433204337689171, -0...   \n",
       "\n",
       "                                              all_bx  \\\n",
       "0  [-0.010091646481326839, 0.0181423904564067, -0...   \n",
       "1  [-0.0007624125223666326, 0.021865356685971882,...   \n",
       "2  [0.0003083079028871385, 0.02005627411538698, -...   \n",
       "3  [0.009362429182730232, 0.008713100846687008, -...   \n",
       "4  [0.008634003544660361, 0.010109772748658812, -...   \n",
       "\n",
       "                                             noun_bx  \\\n",
       "0  [-0.16546674493210226, 0.1985666616474624, -0....   \n",
       "1  [-0.05206629617499276, 0.17833598790232008, -0...   \n",
       "2  [-0.038607747726524366, 0.20816723027065562, -...   \n",
       "3  [0.01926579369392437, 0.1267083455207105, -0.1...   \n",
       "4  [0.029137060636365845, 0.12154930550487979, -0...   \n",
       "\n",
       "                                              adj_bx  \\\n",
       "0  [-0.25961293364767934, 0.2379075219333589, -0....   \n",
       "1  [-0.0435700880467049, 0.09358504037980193, -0....   \n",
       "2  [-0.09959209455123712, 0.23623215882778778, -0...   \n",
       "3  [0.021599122459501564, 0.19744831596331622, -0...   \n",
       "4  [0.002340934519621865, 0.19694080514727522, -0...   \n",
       "\n",
       "                                             verb_bx cos_sim_all cos_sim_noun  \\\n",
       "0  [-0.13229515545729878, 0.18189096583814787, -0...         NaN          NaN   \n",
       "1  [-0.019005147651165222, 0.19730549983647488, -...         NaN          NaN   \n",
       "2  [-0.011174468227655233, 0.17298580389387727, -...         NaN          NaN   \n",
       "3  [0.08385048271795602, 0.07329249905412984, -0....    0.985956     0.993226   \n",
       "4  [0.06739356053734745, 0.10358886604753895, -0....    0.986125     0.992785   \n",
       "\n",
       "   cos_sim_adj cos_sim_verb  \n",
       "0          NaN          NaN  \n",
       "1          NaN          NaN  \n",
       "2          NaN          NaN  \n",
       "3     0.990297     0.982646  \n",
       "4     0.995336     0.990077  \n",
       "\n",
       "[5 rows x 35 columns]"
      ]
     },
     "execution_count": 46,
     "metadata": {},
     "output_type": "execute_result"
    }
   ],
   "source": [
    "df_m2.head()"
   ]
  },
  {
   "cell_type": "code",
   "execution_count": 47,
   "metadata": {},
   "outputs": [],
   "source": [
    "df_m2[['cos_sim_all', 'cos_sim_noun', 'cos_sim_adj', 'cos_sim_verb']].to_pickle('features/vec_sim.p')"
   ]
  },
  {
   "cell_type": "code",
   "execution_count": null,
   "metadata": {},
   "outputs": [],
   "source": [
    "df_m2.to_pickle('features/all_text_vecs.p')"
   ]
  },
  {
   "cell_type": "code",
   "execution_count": null,
   "metadata": {},
   "outputs": [],
   "source": []
  }
 ],
 "metadata": {
  "kernelspec": {
   "display_name": "Python 3",
   "language": "python",
   "name": "python3"
  },
  "language_info": {
   "codemirror_mode": {
    "name": "ipython",
    "version": 3
   },
   "file_extension": ".py",
   "mimetype": "text/x-python",
   "name": "python",
   "nbconvert_exporter": "python",
   "pygments_lexer": "ipython3",
   "version": "3.6.6"
  }
 },
 "nbformat": 4,
 "nbformat_minor": 2
}
