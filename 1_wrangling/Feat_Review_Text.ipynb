{
 "cells": [
  {
   "cell_type": "code",
   "execution_count": 1,
   "metadata": {},
   "outputs": [],
   "source": [
    "import pandas as pd\n",
    "import numpy as np\n",
    "from tqdm import tqdm_notebook as tqdm\n",
    "import nltk\n",
    "\n",
    "import matplotlib.pyplot as plt\n",
    "%matplotlib inline\n",
    "\n",
    "from importlib import reload\n",
    "\n",
    "from ReviewFeatureExtractor import ExtractBoW"
   ]
  },
  {
   "cell_type": "markdown",
   "metadata": {},
   "source": [
    "### Hyperparameters"
   ]
  },
  {
   "cell_type": "code",
   "execution_count": 2,
   "metadata": {},
   "outputs": [],
   "source": [
    "VOC_SIZE = 100000\n",
    "REVIEW_CUTOFF_DATE = pd.Timestamp(2015, 12, 31)"
   ]
  },
  {
   "cell_type": "markdown",
   "metadata": {},
   "source": [
    "### All Words"
   ]
  },
  {
   "cell_type": "code",
   "execution_count": 3,
   "metadata": {},
   "outputs": [],
   "source": [
    "e = ExtractBoW(voc_size=VOC_SIZE)\n",
    "\n",
    "e.load_word_vecs('data/wiki-news-300d-1M.vec')"
   ]
  },
  {
   "cell_type": "markdown",
   "metadata": {},
   "source": [
    "### Need to iterate through each business and person"
   ]
  },
  {
   "cell_type": "code",
   "execution_count": 4,
   "metadata": {},
   "outputs": [],
   "source": [
    "df_reviews = pd.read_pickle('results/tor_reviews.p')  # reviews\n",
    "df_reviews['date'] = df_reviews['date'].astype('datetime64[ns]')\n",
    "df_reviews = df_reviews[df_reviews['date'] > REVIEW_CUTOFF_DATE]\n",
    "\n",
    "df_bus = pd.read_pickle('results/rest_univ_filter.p')  # businesses\n",
    "df_users = pd.read_pickle('results/tor_users.p')  # users"
   ]
  },
  {
   "cell_type": "markdown",
   "metadata": {},
   "source": [
    "### What is the distribution of review dates?"
   ]
  },
  {
   "cell_type": "code",
   "execution_count": null,
   "metadata": {},
   "outputs": [],
   "source": [
    "plt.hist(df_reviews['date'].values, bins=40)\n",
    "plt.show()"
   ]
  },
  {
   "cell_type": "code",
   "execution_count": null,
   "metadata": {},
   "outputs": [],
   "source": [
    "print(df_bus.shape)\n",
    "print(df_users.shape)\n",
    "print(df_reviews.shape)"
   ]
  },
  {
   "cell_type": "code",
   "execution_count": null,
   "metadata": {},
   "outputs": [],
   "source": [
    "df_reviews.columns"
   ]
  },
  {
   "cell_type": "markdown",
   "metadata": {},
   "source": [
    "### Businesses"
   ]
  },
  {
   "cell_type": "code",
   "execution_count": null,
   "metadata": {},
   "outputs": [],
   "source": [
    "res_dict = {}\n",
    "\n",
    "for i, bus_id in tqdm(enumerate(df_bus.index)):\n",
    "    reviews_df = df_reviews[df_reviews['business_id'] == bus_id]\n",
    "    tot_reviews = reviews_df.shape[0]\n",
    "    \n",
    "    # print(\"now processing %s with %s reviews\" % (bus_id, tot_reviews))\n",
    "    \n",
    "    avg_stars = reviews_df['stars'].mean()\n",
    "    tot_cool = reviews_df['cool'].sum()\n",
    "    tot_funny = reviews_df['funny'].sum()\n",
    "    tot_useful = reviews_df['useful'].sum()\n",
    "    \n",
    "    texts = reviews_df['text'].values\n",
    "    \n",
    "    if tot_reviews > 0:\n",
    "        vec_all = e.extract(texts)\n",
    "        vec_n = e.extract(texts, word_type=e.WORD_TYPE_NOUN)\n",
    "        vec_j = e.extract(texts, word_type=e.WORD_TYPE_ADJ)\n",
    "        vec_v = e.extract(texts, word_type=e.WORD_TYPE_VERB)\n",
    "    else:\n",
    "        vec_all = np.zeros(e.loaded_embeddings.shape[1])\n",
    "        vec_n = np.zeros(e.loaded_embeddings.shape[1])\n",
    "        vec_j = np.zeros(e.loaded_embeddings.shape[1])\n",
    "        vec_v = np.zeros(e.loaded_embeddings.shape[1])\n",
    "        \n",
    "    res_dict[bus_id] = {\n",
    "        'tot_reviews': tot_reviews,\n",
    "        'avg_stars': avg_stars,\n",
    "        'tot_cool': tot_cool,\n",
    "        'tot_funny': tot_funny,\n",
    "        'tot_useful': tot_useful,\n",
    "        'vec_all': vec_all,\n",
    "        'vec_n': vec_n,\n",
    "        'vec_j': vec_j,\n",
    "        'vec_v': vec_v,\n",
    "    }\n",
    "    \n",
    "    if i % 500 == 0:\n",
    "        print(\"processed %s/%s businesses\" % (i, len(df_bus.index)))\n",
    "    \n",
    "res_df = pd.DataFrame(res_dict).T"
   ]
  },
  {
   "cell_type": "code",
   "execution_count": null,
   "metadata": {},
   "outputs": [],
   "source": [
    "res_df.to_pickle('results/bus_review_log_extracts.p')"
   ]
  },
  {
   "cell_type": "markdown",
   "metadata": {},
   "source": [
    "### Users"
   ]
  },
  {
   "cell_type": "code",
   "execution_count": null,
   "metadata": {},
   "outputs": [],
   "source": [
    "df_reviews.columns"
   ]
  },
  {
   "cell_type": "code",
   "execution_count": null,
   "metadata": {
    "scrolled": true
   },
   "outputs": [],
   "source": [
    "res_dict = {}\n",
    "\n",
    "for i, u_id in tqdm(enumerate(df_users.index)):\n",
    "    reviews_df = df_reviews[df_reviews['user_id'] == u_id]\n",
    "    tot_reviews = reviews_df.shape[0]\n",
    "    \n",
    "    # print(\"now processing %s with %s reviews\" % (bus_id, tot_reviews))\n",
    "    \n",
    "    avg_stars = reviews_df['stars'].mean()\n",
    "    tot_cool = reviews_df['cool'].sum()\n",
    "    tot_funny = reviews_df['funny'].sum()\n",
    "    tot_useful = reviews_df['useful'].sum()\n",
    "    \n",
    "    texts = reviews_df['text'].values\n",
    "    \n",
    "    if tot_reviews > 0:\n",
    "        vec_all = e.extract(texts)\n",
    "        vec_n = e.extract(texts, word_type=e.WORD_TYPE_NOUN)\n",
    "        vec_j = e.extract(texts, word_type=e.WORD_TYPE_ADJ)\n",
    "        vec_v = e.extract(texts, word_type=e.WORD_TYPE_VERB)\n",
    "    else:\n",
    "        vec_all = np.zeros(e.loaded_embeddings.shape[1])\n",
    "        vec_n = np.zeros(e.loaded_embeddings.shape[1])\n",
    "        vec_j = np.zeros(e.loaded_embeddings.shape[1])\n",
    "        vec_v = np.zeros(e.loaded_embeddings.shape[1])\n",
    "        \n",
    "    res_dict[u_id] = {\n",
    "        'tot_reviews': tot_reviews,\n",
    "        'avg_stars': avg_stars,\n",
    "        'tot_cool': tot_cool,\n",
    "        'tot_funny': tot_funny,\n",
    "        'tot_useful': tot_useful,\n",
    "        'vec_all': vec_all,\n",
    "        'vec_n': vec_n,\n",
    "        'vec_j': vec_j,\n",
    "        'vec_v': vec_v,\n",
    "    }\n",
    "    \n",
    "    if i % 1000 == 0:\n",
    "        print(\"processed %s/%s users\" % (i, len(df_users.index)))\n",
    "    \n",
    "res_df = pd.DataFrame(res_dict).T\n",
    "res_df.to_pickle('results/user_review_log_extracts.p')"
   ]
  },
  {
   "cell_type": "code",
   "execution_count": null,
   "metadata": {},
   "outputs": [],
   "source": [
    "res_df.head()"
   ]
  },
  {
   "cell_type": "code",
   "execution_count": null,
   "metadata": {},
   "outputs": [],
   "source": [
    "tot_rev_distr = res_df[res_df['tot_reviews'] > 0]['tot_reviews'].sort_values().values"
   ]
  },
  {
   "cell_type": "code",
   "execution_count": null,
   "metadata": {},
   "outputs": [],
   "source": [
    "tot_rev_distr"
   ]
  },
  {
   "cell_type": "code",
   "execution_count": null,
   "metadata": {},
   "outputs": [],
   "source": [
    "plt.plot(tot_rev_distr)\n",
    "plt.show()"
   ]
  },
  {
   "cell_type": "markdown",
   "metadata": {},
   "source": [
    "### On the review level, take cosine distance"
   ]
  },
  {
   "cell_type": "code",
   "execution_count": 5,
   "metadata": {},
   "outputs": [],
   "source": [
    "def cos_sim(a, b):\n",
    "    return a.dot(b) / (np.linalg.norm(a) * np.linalg.norm(b))"
   ]
  },
  {
   "cell_type": "markdown",
   "metadata": {},
   "source": [
    "#### Loop through reviews and get the cos_sim of the vectors for business ex that 1 review vs users ex that 1 review"
   ]
  },
  {
   "cell_type": "code",
   "execution_count": 6,
   "metadata": {},
   "outputs": [],
   "source": [
    "dfr_ri = df_reviews.reset_index()"
   ]
  },
  {
   "cell_type": "code",
   "execution_count": 7,
   "metadata": {},
   "outputs": [],
   "source": [
    "import logging"
   ]
  },
  {
   "cell_type": "code",
   "execution_count": 8,
   "metadata": {},
   "outputs": [],
   "source": [
    "logging.basicConfig(filename='review_extract.log',level=logging.DEBUG, format='%(asctime)s %(message)s')"
   ]
  },
  {
   "cell_type": "code",
   "execution_count": 9,
   "metadata": {},
   "outputs": [],
   "source": [
    "import pickle"
   ]
  },
  {
   "cell_type": "code",
   "execution_count": null,
   "metadata": {},
   "outputs": [
    {
     "data": {
      "application/vnd.jupyter.widget-view+json": {
       "model_id": "d6397b091f61475a92be58f4ff8c732d",
       "version_major": 2,
       "version_minor": 0
      },
      "text/plain": [
       "HBox(children=(IntProgress(value=0, max=196768), HTML(value='')))"
      ]
     },
     "metadata": {},
     "output_type": "display_data"
    }
   ],
   "source": [
    "res_dict = pickle.load(open('results/cur_cos_sim.p', 'rb'))\n",
    "starting_i = len(res_dict)\n",
    "save_every = 1000\n",
    "\n",
    "#for i in tqdm(range(starting_i, dfr_ri.shape[0])):\n",
    "for i in tqdm(range(0, dfr_ri.shape[0])):\n",
    "    u_id = dfr_ri.loc[i]['user_id']\n",
    "    bus_id = dfr_ri.loc[i]['business_id']\n",
    "    review_id = dfr_ri.loc[i]['review_id']\n",
    "    \n",
    "    # user reviews ex business\n",
    "    reviews_df = df_reviews[(df_reviews['user_id'] == u_id) & (df_reviews['business_id'] != bus_id)]\n",
    "    tot_reviews = reviews_df.shape[0]\n",
    "    texts = reviews_df['text'].values\n",
    "    cur_user_vecs = []\n",
    "    if tot_reviews > 0:\n",
    "        cur_user_vecs.append(e.extract(texts))\n",
    "        cur_user_vecs.append(e.extract(texts, word_type=e.WORD_TYPE_NOUN))\n",
    "        cur_user_vecs.append(e.extract(texts, word_type=e.WORD_TYPE_ADJ))\n",
    "        cur_user_vecs.append(e.extract(texts, word_type=e.WORD_TYPE_VERB))\n",
    "        \n",
    "        \n",
    "    # business\n",
    "    b_reviews_df = df_reviews[(df_reviews['business_id'] == bus_id) & (df_reviews['user_id'] != u_id)]\n",
    "    b_tot_reviews = b_reviews_df.shape[0]\n",
    "    b_texts = b_reviews_df['text'].values\n",
    "    \n",
    "    cur_bus_vecs = []\n",
    "    if b_tot_reviews > 0:\n",
    "        cur_bus_vecs.append(e.extract(b_texts))\n",
    "        cur_bus_vecs.append(e.extract(b_texts, word_type=e.WORD_TYPE_NOUN))\n",
    "        cur_bus_vecs.append(e.extract(b_texts, word_type=e.WORD_TYPE_ADJ))\n",
    "        cur_bus_vecs.append(e.extract(b_texts, word_type=e.WORD_TYPE_VERB))\n",
    "\n",
    "    \n",
    "    cur_cos_sim = {}\n",
    "    if tot_reviews > 0 and b_tot_reviews > 0:\n",
    "        for j in range(0, 4):\n",
    "            if np.linalg.norm(cur_user_vecs[j]) > 0 and np.linalg.norm(cur_bus_vecs[j]) > 0:\n",
    "                cur_cos_sim[j] = cos_sim(cur_user_vecs[j], cur_bus_vecs[j])\n",
    "            else:\n",
    "                cur_cos_sim[j] = np.NaN\n",
    "    else:\n",
    "        for j in range(0, 4):\n",
    "            cur_cos_sim[j] = np.NaN\n",
    "        \n",
    "    res_dict[review_id] = {\n",
    "        'cos_sim_all': cur_cos_sim[0],\n",
    "        'cos_sim_n': cur_cos_sim[1],\n",
    "        'cos_sim_j': cur_cos_sim[2],\n",
    "        'cos_sim_v': cur_cos_sim[3],\n",
    "    }\n",
    "    \n",
    "    if (i + 1) % save_every == 0:\n",
    "        pickle.dump(res_dict, open('results/cur_cos_sim.p', 'wb'))\n",
    "        logging.info(\"processed row %s/%s, progress saved ...\" % (i, dfr_ri.shape[0]))\n",
    "    "
   ]
  },
  {
   "cell_type": "code",
   "execution_count": null,
   "metadata": {},
   "outputs": [],
   "source": [
    "df_final = pd.DataFrame(res_dict).T\n",
    "df_final.head()"
   ]
  },
  {
   "cell_type": "code",
   "execution_count": null,
   "metadata": {},
   "outputs": [],
   "source": [
    "2*60+8"
   ]
  },
  {
   "cell_type": "code",
   "execution_count": null,
   "metadata": {},
   "outputs": [],
   "source": []
  }
 ],
 "metadata": {
  "kernelspec": {
   "display_name": "Python 3",
   "language": "python",
   "name": "python3"
  },
  "language_info": {
   "codemirror_mode": {
    "name": "ipython",
    "version": 3
   },
   "file_extension": ".py",
   "mimetype": "text/x-python",
   "name": "python",
   "nbconvert_exporter": "python",
   "pygments_lexer": "ipython3",
   "version": "3.6.6"
  }
 },
 "nbformat": 4,
 "nbformat_minor": 2
}
