{
 "cells": [
  {
   "cell_type": "markdown",
   "metadata": {},
   "source": [
    "### The purpose of this notebook is to take the 6mm rows of reviews and only keep the reviews on the restaurants in our universe"
   ]
  },
  {
   "cell_type": "code",
   "execution_count": 16,
   "metadata": {},
   "outputs": [],
   "source": [
    "import pandas as pd\n",
    "import numpy as np\n",
    "import json\n",
    "\n",
    "import pickle"
   ]
  },
  {
   "cell_type": "markdown",
   "metadata": {},
   "source": [
    "### First let's load as subset of the reviews data on the businesses we care about:"
   ]
  },
  {
   "cell_type": "code",
   "execution_count": 17,
   "metadata": {},
   "outputs": [],
   "source": [
    "dfb = pd.read_pickle('univ/tor_rest.p')\n",
    "bus_list = list(dfb.index.unique())"
   ]
  },
  {
   "cell_type": "code",
   "execution_count": 19,
   "metadata": {},
   "outputs": [],
   "source": [
    "num_to_load = 100\n",
    "fn = '../data/yelp_academic_dataset_review.json'"
   ]
  },
  {
   "cell_type": "code",
   "execution_count": null,
   "metadata": {
    "scrolled": true
   },
   "outputs": [
    {
     "name": "stdout",
     "output_type": "stream",
     "text": [
      "Currently have 1000 reviews!\n",
      "Currently have 2000 reviews!\n",
      "Currently have 3000 reviews!\n",
      "Currently have 4000 reviews!\n",
      "Currently have 5000 reviews!\n",
      "Currently have 6000 reviews!\n",
      "Currently have 7000 reviews!\n",
      "Currently have 8000 reviews!\n",
      "Currently have 9000 reviews!\n",
      "Currently have 10000 reviews!\n",
      "Currently have 11000 reviews!\n",
      "Currently have 12000 reviews!\n",
      "Currently have 13000 reviews!\n",
      "Currently have 14000 reviews!\n",
      "Currently have 15000 reviews!\n",
      "Currently have 16000 reviews!\n",
      "Currently have 17000 reviews!\n",
      "Currently have 18000 reviews!\n",
      "Currently have 19000 reviews!\n",
      "Currently have 20000 reviews!\n",
      "Currently have 21000 reviews!\n",
      "Currently have 22000 reviews!\n",
      "Currently have 23000 reviews!\n",
      "Currently have 24000 reviews!\n",
      "Currently have 25000 reviews!\n",
      "Currently have 26000 reviews!\n",
      "Currently have 27000 reviews!\n",
      "Currently have 28000 reviews!\n",
      "Currently have 29000 reviews!\n",
      "Currently have 30000 reviews!\n",
      "Currently have 31000 reviews!\n",
      "Currently have 32000 reviews!\n",
      "Currently have 33000 reviews!\n",
      "Currently have 34000 reviews!\n",
      "Currently have 35000 reviews!\n",
      "Currently have 36000 reviews!\n",
      "Currently have 37000 reviews!\n",
      "Currently have 38000 reviews!\n",
      "Currently have 39000 reviews!\n",
      "Currently have 40000 reviews!\n",
      "Currently have 41000 reviews!\n",
      "Currently have 42000 reviews!\n",
      "Currently have 43000 reviews!\n",
      "Currently have 44000 reviews!\n",
      "Currently have 45000 reviews!\n",
      "Currently have 46000 reviews!\n",
      "Currently have 47000 reviews!\n",
      "Currently have 48000 reviews!\n",
      "Currently have 49000 reviews!\n",
      "Currently have 50000 reviews!\n",
      "Currently have 51000 reviews!\n",
      "Currently have 52000 reviews!\n",
      "Currently have 53000 reviews!\n",
      "Currently have 54000 reviews!\n",
      "Currently have 55000 reviews!\n",
      "Currently have 56000 reviews!\n",
      "Currently have 57000 reviews!\n",
      "Currently have 58000 reviews!\n",
      "Currently have 59000 reviews!\n",
      "Currently have 60000 reviews!\n",
      "Currently have 61000 reviews!\n",
      "Currently have 62000 reviews!\n",
      "Currently have 63000 reviews!\n",
      "Currently have 64000 reviews!\n",
      "Currently have 65000 reviews!\n",
      "Currently have 66000 reviews!\n",
      "Currently have 67000 reviews!\n",
      "Currently have 68000 reviews!\n",
      "Currently have 69000 reviews!\n",
      "Currently have 70000 reviews!\n",
      "Currently have 71000 reviews!\n",
      "Currently have 72000 reviews!\n",
      "Currently have 73000 reviews!\n",
      "Currently have 74000 reviews!\n",
      "Currently have 75000 reviews!\n",
      "Currently have 76000 reviews!\n",
      "Currently have 77000 reviews!\n",
      "Currently have 78000 reviews!\n",
      "Currently have 79000 reviews!\n",
      "Currently have 80000 reviews!\n",
      "Currently have 81000 reviews!\n",
      "Currently have 82000 reviews!\n",
      "Currently have 83000 reviews!\n",
      "Currently have 84000 reviews!\n",
      "Currently have 85000 reviews!\n",
      "Currently have 86000 reviews!\n",
      "Currently have 87000 reviews!\n",
      "Currently have 88000 reviews!\n",
      "Currently have 89000 reviews!\n",
      "Currently have 90000 reviews!\n",
      "Currently have 91000 reviews!\n",
      "Currently have 92000 reviews!\n",
      "Currently have 93000 reviews!\n",
      "Currently have 94000 reviews!\n",
      "Currently have 95000 reviews!\n",
      "Currently have 96000 reviews!\n",
      "Currently have 97000 reviews!\n",
      "Currently have 98000 reviews!\n",
      "Currently have 99000 reviews!\n",
      "Currently have 100000 reviews!\n",
      "Currently have 101000 reviews!\n",
      "Currently have 102000 reviews!\n",
      "Currently have 103000 reviews!\n",
      "Currently have 104000 reviews!\n",
      "Currently have 105000 reviews!\n",
      "Currently have 106000 reviews!\n",
      "Currently have 107000 reviews!\n",
      "Currently have 108000 reviews!\n",
      "Currently have 109000 reviews!\n",
      "Currently have 110000 reviews!\n",
      "Currently have 111000 reviews!\n",
      "Currently have 112000 reviews!\n",
      "Currently have 113000 reviews!\n",
      "Currently have 114000 reviews!\n",
      "Currently have 115000 reviews!\n",
      "Currently have 116000 reviews!\n",
      "Currently have 117000 reviews!\n",
      "Currently have 118000 reviews!\n",
      "Currently have 119000 reviews!\n",
      "Currently have 120000 reviews!\n",
      "Currently have 121000 reviews!\n",
      "Currently have 122000 reviews!\n",
      "Currently have 123000 reviews!\n",
      "Currently have 124000 reviews!\n",
      "Currently have 125000 reviews!\n",
      "Currently have 126000 reviews!\n",
      "Currently have 127000 reviews!\n",
      "Currently have 128000 reviews!\n",
      "Currently have 129000 reviews!\n",
      "Currently have 130000 reviews!\n",
      "Currently have 131000 reviews!\n",
      "Currently have 132000 reviews!\n",
      "Currently have 133000 reviews!\n",
      "Currently have 134000 reviews!\n",
      "Currently have 135000 reviews!\n",
      "Currently have 136000 reviews!\n",
      "Currently have 137000 reviews!\n",
      "Currently have 138000 reviews!\n",
      "Currently have 139000 reviews!\n",
      "Currently have 140000 reviews!\n",
      "Currently have 141000 reviews!\n",
      "Currently have 142000 reviews!\n",
      "Currently have 143000 reviews!\n",
      "Currently have 144000 reviews!\n",
      "Currently have 145000 reviews!\n",
      "Currently have 146000 reviews!\n",
      "Currently have 147000 reviews!\n",
      "Currently have 148000 reviews!\n",
      "Currently have 149000 reviews!\n",
      "Currently have 150000 reviews!\n",
      "Currently have 151000 reviews!\n",
      "Currently have 152000 reviews!\n",
      "Currently have 153000 reviews!\n",
      "Currently have 154000 reviews!\n"
     ]
    }
   ],
   "source": [
    "f = open(fn, 'rb')\n",
    "\n",
    "rev_list = []\n",
    "for line in f:\n",
    "    cur_line = json.loads(line)\n",
    "    if cur_line['business_id'] in bus_list:\n",
    "        rev_list.append(cur_line)\n",
    "        if len(rev_list) % 1000 == 0:\n",
    "            print(\"Currently have %s reviews!\" % len(rev_list))"
   ]
  },
  {
   "cell_type": "code",
   "execution_count": null,
   "metadata": {},
   "outputs": [],
   "source": [
    "df_rev = pd.DataFrame(rev_list)"
   ]
  },
  {
   "cell_type": "code",
   "execution_count": null,
   "metadata": {},
   "outputs": [],
   "source": [
    "df_rev.to_pickle('univ/tor_reviews.p')"
   ]
  },
  {
   "cell_type": "code",
   "execution_count": null,
   "metadata": {},
   "outputs": [],
   "source": []
  }
 ],
 "metadata": {
  "kernelspec": {
   "display_name": "Python 3",
   "language": "python",
   "name": "python3"
  },
  "language_info": {
   "codemirror_mode": {
    "name": "ipython",
    "version": 3
   },
   "file_extension": ".py",
   "mimetype": "text/x-python",
   "name": "python",
   "nbconvert_exporter": "python",
   "pygments_lexer": "ipython3",
   "version": "3.6.7"
  }
 },
 "nbformat": 4,
 "nbformat_minor": 2
}
