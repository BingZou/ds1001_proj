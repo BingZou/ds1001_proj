{
 "cells": [
  {
   "cell_type": "code",
   "execution_count": 6,
   "metadata": {},
   "outputs": [],
   "source": [
    "import numpy as np\n",
    "import pandas as pd\n",
    "from fuzzywuzzy import fuzz\n",
    "import matplotlib.pyplot as plt\n",
    "import json\n",
    "from tqdm import tqdm_notebook as tqdm\n",
    "%matplotlib inline"
   ]
  },
  {
   "cell_type": "markdown",
   "metadata": {},
   "source": [
    "## First Loading the Yelp Restaurant Dataset"
   ]
  },
  {
   "cell_type": "code",
   "execution_count": 11,
   "metadata": {},
   "outputs": [],
   "source": [
    "datapath = '../data/'\n",
    "f = open(datapath + 'yelp_academic_dataset_business.json', 'r')\n",
    "\n",
    "buslist = []\n",
    "for i, line in enumerate(f):\n",
    "    buslist.append(json.loads(line))\n",
    "    \n",
    "dfy = pd.DataFrame(buslist).set_index(['business_id'])"
   ]
  },
  {
   "cell_type": "markdown",
   "metadata": {},
   "source": [
    "## Narrow the dataset to cities in the GTA area"
   ]
  },
  {
   "cell_type": "code",
   "execution_count": 12,
   "metadata": {},
   "outputs": [
    {
     "data": {
      "text/plain": [
       "(24453, 14)"
      ]
     },
     "execution_count": 12,
     "metadata": {},
     "output_type": "execute_result"
    }
   ],
   "source": [
    "toronto_cities = [x for x in dfy['city'].unique() if 'toronto' in x.lower()] \\\n",
    "                    + [x for x in dfy['city'].unique() if 'etobi' in x.lower()] \\\n",
    "                    + [x for x in dfy['city'].unique() if 'miss' in x.lower()] \\\n",
    "                    + [x for x in dfy['city'].unique() if 'york' in x.lower()] \\\n",
    "                    + [x for x in dfy['city'].unique() if 'etobi' in x.lower()] \\\n",
    "                    + [x for x in dfy['city'].unique() if 'scar' in x.lower()]\n",
    "\n",
    "df_toronto = dfy[(dfy['city'].isin(toronto_cities)) & (dfy['state'] == 'ON')].copy()\n",
    "df_toronto.shape"
   ]
  },
  {
   "cell_type": "markdown",
   "metadata": {},
   "source": [
    "## Remove outliers that are outside of expecte long/lat range\n",
    "\n",
    "By removing names that are not in the 1-99th percentile range of long/lats"
   ]
  },
  {
   "cell_type": "code",
   "execution_count": 13,
   "metadata": {},
   "outputs": [
    {
     "name": "stdout",
     "output_type": "stream",
     "text": [
      "before: (24453, 14)\n",
      "after: (23482, 14)\n"
     ]
    }
   ],
   "source": [
    "LOC_BOUND_UP = 99\n",
    "LOC_BOUND_DOWN = 1\n",
    "\n",
    "print(\"before:\", df_toronto.shape)\n",
    "df_ll = df_toronto[(df_toronto['latitude'] <= np.percentile(df_toronto['latitude'].dropna(), LOC_BOUND_UP)) &\n",
    "                   (df_toronto['latitude'] >= np.percentile(df_toronto['latitude'].dropna(), LOC_BOUND_DOWN)) &\n",
    "                   (df_toronto['longitude'] <= np.percentile(df_toronto['longitude'].dropna(), LOC_BOUND_UP)) &\n",
    "                   (df_toronto['longitude'] >= np.percentile(df_toronto['longitude'].dropna(), LOC_BOUND_DOWN))].copy()              \n",
    "print(\"after:\", df_ll.shape)"
   ]
  },
  {
   "cell_type": "markdown",
   "metadata": {},
   "source": [
    "## Remove businesses not tagged to be a restaurant"
   ]
  },
  {
   "cell_type": "code",
   "execution_count": 14,
   "metadata": {},
   "outputs": [
    {
     "data": {
      "text/plain": [
       "(10914, 14)"
      ]
     },
     "execution_count": 14,
     "metadata": {},
     "output_type": "execute_result"
    }
   ],
   "source": [
    "keywords = [\n",
    "    'restaurant',\n",
    "    'bars',\n",
    "    'bakeries'\n",
    "]\n",
    "\n",
    "# build large list of lists\n",
    "all_list = []\n",
    "for kw in keywords:\n",
    "    all_list.append([x for x in df_ll['categories'].dropna().unique() if kw in x.lower()])\n",
    "\n",
    "# merge list of lists\n",
    "master_list = []\n",
    "for sublist in all_list:\n",
    "    for item in sublist:\n",
    "        if item not in master_list:\n",
    "            master_list.append(item)\n",
    "\n",
    "dft = df_ll[df_ll['categories'].isin(master_list)].copy()\n",
    "dft.shape"
   ]
  },
  {
   "cell_type": "code",
   "execution_count": 15,
   "metadata": {},
   "outputs": [],
   "source": [
    "dft.to_pickle('univ/tor_rest.p')"
   ]
  },
  {
   "cell_type": "code",
   "execution_count": null,
   "metadata": {},
   "outputs": [],
   "source": []
  },
  {
   "cell_type": "code",
   "execution_count": null,
   "metadata": {},
   "outputs": [],
   "source": []
  },
  {
   "cell_type": "code",
   "execution_count": null,
   "metadata": {},
   "outputs": [],
   "source": []
  },
  {
   "cell_type": "code",
   "execution_count": null,
   "metadata": {},
   "outputs": [],
   "source": []
  },
  {
   "cell_type": "code",
   "execution_count": null,
   "metadata": {},
   "outputs": [],
   "source": []
  },
  {
   "cell_type": "code",
   "execution_count": null,
   "metadata": {},
   "outputs": [],
   "source": []
  },
  {
   "cell_type": "code",
   "execution_count": null,
   "metadata": {},
   "outputs": [],
   "source": []
  }
 ],
 "metadata": {
  "kernelspec": {
   "display_name": "Python 3",
   "language": "python",
   "name": "python3"
  },
  "language_info": {
   "codemirror_mode": {
    "name": "ipython",
    "version": 3
   },
   "file_extension": ".py",
   "mimetype": "text/x-python",
   "name": "python",
   "nbconvert_exporter": "python",
   "pygments_lexer": "ipython3",
   "version": "3.6.7"
  }
 },
 "nbformat": 4,
 "nbformat_minor": 2
}
