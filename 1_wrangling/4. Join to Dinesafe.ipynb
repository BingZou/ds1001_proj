{
 "cells": [
  {
   "cell_type": "code",
   "execution_count": 1,
   "metadata": {},
   "outputs": [],
   "source": [
    "import numpy as np\n",
    "import pandas as pd\n",
    "from fuzzywuzzy import fuzz\n",
    "import matplotlib.pyplot as plt\n",
    "import json\n",
    "from tqdm import tqdm_notebook as tqdm\n",
    "%matplotlib inline"
   ]
  },
  {
   "cell_type": "markdown",
   "metadata": {},
   "source": [
    "### Loading the dinesafe data"
   ]
  },
  {
   "cell_type": "code",
   "execution_count": 2,
   "metadata": {},
   "outputs": [],
   "source": [
    "datapath = r'../data/'"
   ]
  },
  {
   "cell_type": "code",
   "execution_count": 3,
   "metadata": {},
   "outputs": [
    {
     "data": {
      "text/html": [
       "<div>\n",
       "<style scoped>\n",
       "    .dataframe tbody tr th:only-of-type {\n",
       "        vertical-align: middle;\n",
       "    }\n",
       "\n",
       "    .dataframe tbody tr th {\n",
       "        vertical-align: top;\n",
       "    }\n",
       "\n",
       "    .dataframe thead th {\n",
       "        text-align: right;\n",
       "    }\n",
       "</style>\n",
       "<table border=\"1\" class=\"dataframe\">\n",
       "  <thead>\n",
       "    <tr style=\"text-align: right;\">\n",
       "      <th></th>\n",
       "      <th>ROW_ID</th>\n",
       "      <th>ESTABLISHMENT_ID</th>\n",
       "      <th>INSPECTION_ID</th>\n",
       "      <th>ESTABLISHMENT_NAME</th>\n",
       "      <th>ESTABLISHMENTTYPE</th>\n",
       "      <th>ESTABLISHMENT_ADDRESS</th>\n",
       "      <th>LATITUDE</th>\n",
       "      <th>LONGITUDE</th>\n",
       "      <th>ESTABLISHMENT_STATUS</th>\n",
       "      <th>MINIMUM_INSPECTIONS_PERYEAR</th>\n",
       "      <th>INFRACTION_DETAILS</th>\n",
       "      <th>INSPECTION_DATE</th>\n",
       "      <th>SEVERITY</th>\n",
       "      <th>ACTION</th>\n",
       "      <th>COURT_OUTCOME</th>\n",
       "      <th>AMOUNT_FINED</th>\n",
       "    </tr>\n",
       "  </thead>\n",
       "  <tbody>\n",
       "    <tr>\n",
       "      <th>0</th>\n",
       "      <td>1</td>\n",
       "      <td>1222579</td>\n",
       "      <td>103868579</td>\n",
       "      <td>SAI-LILA KHAMAN DHOKLA HOUSE</td>\n",
       "      <td>Food Take Out</td>\n",
       "      <td>870 MARKHAM RD</td>\n",
       "      <td>43.76798</td>\n",
       "      <td>-79.229029</td>\n",
       "      <td>Pass</td>\n",
       "      <td>2</td>\n",
       "      <td>Operator fail to properly wash equipment</td>\n",
       "      <td>2016-12-21</td>\n",
       "      <td>M - Minor</td>\n",
       "      <td>Notice to Comply</td>\n",
       "      <td></td>\n",
       "      <td></td>\n",
       "    </tr>\n",
       "    <tr>\n",
       "      <th>1</th>\n",
       "      <td>2</td>\n",
       "      <td>1222579</td>\n",
       "      <td>104063869</td>\n",
       "      <td>SAI-LILA KHAMAN DHOKLA HOUSE</td>\n",
       "      <td>Food Take Out</td>\n",
       "      <td>870 MARKHAM RD</td>\n",
       "      <td>43.76798</td>\n",
       "      <td>-79.229029</td>\n",
       "      <td>Pass</td>\n",
       "      <td>2</td>\n",
       "      <td>NaN</td>\n",
       "      <td>2017-10-04</td>\n",
       "      <td>NaN</td>\n",
       "      <td>NaN</td>\n",
       "      <td>NaN</td>\n",
       "      <td>NaN</td>\n",
       "    </tr>\n",
       "    <tr>\n",
       "      <th>2</th>\n",
       "      <td>3</td>\n",
       "      <td>1222579</td>\n",
       "      <td>104246429</td>\n",
       "      <td>SAI-LILA KHAMAN DHOKLA HOUSE</td>\n",
       "      <td>Food Take Out</td>\n",
       "      <td>870 MARKHAM RD</td>\n",
       "      <td>43.76798</td>\n",
       "      <td>-79.229029</td>\n",
       "      <td>Pass</td>\n",
       "      <td>2</td>\n",
       "      <td>Fail to Hold a Valid Food Handler's Certificat...</td>\n",
       "      <td>2018-06-20</td>\n",
       "      <td>NA - Not Applicable</td>\n",
       "      <td>Notice to Comply</td>\n",
       "      <td></td>\n",
       "      <td></td>\n",
       "    </tr>\n",
       "    <tr>\n",
       "      <th>3</th>\n",
       "      <td>4</td>\n",
       "      <td>1222579</td>\n",
       "      <td>104246429</td>\n",
       "      <td>SAI-LILA KHAMAN DHOKLA HOUSE</td>\n",
       "      <td>Food Take Out</td>\n",
       "      <td>870 MARKHAM RD</td>\n",
       "      <td>43.76798</td>\n",
       "      <td>-79.229029</td>\n",
       "      <td>Pass</td>\n",
       "      <td>2</td>\n",
       "      <td>Operator fail to properly wash equipment</td>\n",
       "      <td>2018-06-20</td>\n",
       "      <td>M - Minor</td>\n",
       "      <td>Notice to Comply</td>\n",
       "      <td></td>\n",
       "      <td></td>\n",
       "    </tr>\n",
       "    <tr>\n",
       "      <th>4</th>\n",
       "      <td>5</td>\n",
       "      <td>1222579</td>\n",
       "      <td>104246429</td>\n",
       "      <td>SAI-LILA KHAMAN DHOKLA HOUSE</td>\n",
       "      <td>Food Take Out</td>\n",
       "      <td>870 MARKHAM RD</td>\n",
       "      <td>43.76798</td>\n",
       "      <td>-79.229029</td>\n",
       "      <td>Pass</td>\n",
       "      <td>2</td>\n",
       "      <td>Operator fail to properly wash surfaces in rooms</td>\n",
       "      <td>2018-06-20</td>\n",
       "      <td>M - Minor</td>\n",
       "      <td>Notice to Comply</td>\n",
       "      <td></td>\n",
       "      <td></td>\n",
       "    </tr>\n",
       "  </tbody>\n",
       "</table>\n",
       "</div>"
      ],
      "text/plain": [
       "   ROW_ID  ESTABLISHMENT_ID  INSPECTION_ID            ESTABLISHMENT_NAME  \\\n",
       "0       1           1222579      103868579  SAI-LILA KHAMAN DHOKLA HOUSE   \n",
       "1       2           1222579      104063869  SAI-LILA KHAMAN DHOKLA HOUSE   \n",
       "2       3           1222579      104246429  SAI-LILA KHAMAN DHOKLA HOUSE   \n",
       "3       4           1222579      104246429  SAI-LILA KHAMAN DHOKLA HOUSE   \n",
       "4       5           1222579      104246429  SAI-LILA KHAMAN DHOKLA HOUSE   \n",
       "\n",
       "  ESTABLISHMENTTYPE ESTABLISHMENT_ADDRESS  LATITUDE  LONGITUDE  \\\n",
       "0     Food Take Out       870 MARKHAM RD   43.76798 -79.229029   \n",
       "1     Food Take Out       870 MARKHAM RD   43.76798 -79.229029   \n",
       "2     Food Take Out       870 MARKHAM RD   43.76798 -79.229029   \n",
       "3     Food Take Out       870 MARKHAM RD   43.76798 -79.229029   \n",
       "4     Food Take Out       870 MARKHAM RD   43.76798 -79.229029   \n",
       "\n",
       "  ESTABLISHMENT_STATUS  MINIMUM_INSPECTIONS_PERYEAR  \\\n",
       "0                 Pass                            2   \n",
       "1                 Pass                            2   \n",
       "2                 Pass                            2   \n",
       "3                 Pass                            2   \n",
       "4                 Pass                            2   \n",
       "\n",
       "                                  INFRACTION_DETAILS INSPECTION_DATE  \\\n",
       "0           Operator fail to properly wash equipment      2016-12-21   \n",
       "1                                                NaN      2017-10-04   \n",
       "2  Fail to Hold a Valid Food Handler's Certificat...      2018-06-20   \n",
       "3           Operator fail to properly wash equipment      2018-06-20   \n",
       "4   Operator fail to properly wash surfaces in rooms      2018-06-20   \n",
       "\n",
       "              SEVERITY            ACTION COURT_OUTCOME AMOUNT_FINED  \n",
       "0            M - Minor  Notice to Comply                             \n",
       "1                  NaN               NaN           NaN          NaN  \n",
       "2  NA - Not Applicable  Notice to Comply                             \n",
       "3            M - Minor  Notice to Comply                             \n",
       "4            M - Minor  Notice to Comply                             "
      ]
     },
     "execution_count": 3,
     "metadata": {},
     "output_type": "execute_result"
    }
   ],
   "source": [
    "dfd = pd.read_csv(datapath + 'dinesafe.csv', parse_dates=['INSPECTION_DATE']).drop('Unnamed: 0', axis=1)\n",
    "dfd.head()"
   ]
  },
  {
   "cell_type": "code",
   "execution_count": 4,
   "metadata": {},
   "outputs": [],
   "source": [
    "insp = dfd[['ESTABLISHMENT_ID', 'INSPECTION_DATE']].groupby('ESTABLISHMENT_ID').count().sort_values('INSPECTION_DATE', ascending=False)"
   ]
  },
  {
   "cell_type": "code",
   "execution_count": 5,
   "metadata": {},
   "outputs": [
    {
     "data": {
      "image/png": "[encoded data removed]",
      "text/plain": [
       "<Figure size 432x288 with 1 Axes>"
      ]
     },
     "metadata": {
      "needs_background": "light"
     },
     "output_type": "display_data"
    }
   ],
   "source": [
    "plt.plot(insp.values)\n",
    "plt.show()"
   ]
  },
  {
   "cell_type": "markdown",
   "metadata": {},
   "source": [
    "### Initial exploration"
   ]
  },
  {
   "cell_type": "code",
   "execution_count": 6,
   "metadata": {},
   "outputs": [
    {
     "data": {
      "text/html": [
       "<div>\n",
       "<style scoped>\n",
       "    .dataframe tbody tr th:only-of-type {\n",
       "        vertical-align: middle;\n",
       "    }\n",
       "\n",
       "    .dataframe tbody tr th {\n",
       "        vertical-align: top;\n",
       "    }\n",
       "\n",
       "    .dataframe thead th {\n",
       "        text-align: right;\n",
       "    }\n",
       "</style>\n",
       "<table border=\"1\" class=\"dataframe\">\n",
       "  <thead>\n",
       "    <tr style=\"text-align: right;\">\n",
       "      <th></th>\n",
       "      <th>ROW_ID</th>\n",
       "      <th>pct</th>\n",
       "    </tr>\n",
       "    <tr>\n",
       "      <th>ESTABLISHMENT_STATUS</th>\n",
       "      <th></th>\n",
       "      <th></th>\n",
       "    </tr>\n",
       "  </thead>\n",
       "  <tbody>\n",
       "    <tr>\n",
       "      <th>Closed</th>\n",
       "      <td>352</td>\n",
       "      <td>0.003889</td>\n",
       "    </tr>\n",
       "    <tr>\n",
       "      <th>Conditional Pass</th>\n",
       "      <td>17237</td>\n",
       "      <td>0.190422</td>\n",
       "    </tr>\n",
       "    <tr>\n",
       "      <th>Pass</th>\n",
       "      <td>72931</td>\n",
       "      <td>0.805689</td>\n",
       "    </tr>\n",
       "  </tbody>\n",
       "</table>\n",
       "</div>"
      ],
      "text/plain": [
       "                      ROW_ID       pct\n",
       "ESTABLISHMENT_STATUS                  \n",
       "Closed                   352  0.003889\n",
       "Conditional Pass       17237  0.190422\n",
       "Pass                   72931  0.805689"
      ]
     },
     "execution_count": 6,
     "metadata": {},
     "output_type": "execute_result"
    }
   ],
   "source": [
    "# Pass count\n",
    "df_pass = dfd[['ESTABLISHMENT_STATUS', 'ROW_ID']].groupby('ESTABLISHMENT_STATUS').count()\n",
    "df_pass['pct'] = df_pass['ROW_ID'] / df_pass['ROW_ID'].sum()\n",
    "df_pass"
   ]
  },
  {
   "cell_type": "code",
   "execution_count": 7,
   "metadata": {},
   "outputs": [
    {
     "name": "stdout",
     "output_type": "stream",
     "text": [
      "min date: 2016-09-23\n",
      "max date: 2018-09-21\n"
     ]
    },
    {
     "data": {
      "image/png": "[encoded data removed]",
      "text/plain": [
       "<Figure size 432x288 with 1 Axes>"
      ]
     },
     "metadata": {
      "needs_background": "light"
     },
     "output_type": "display_data"
    }
   ],
   "source": [
    "# time\n",
    "plt.hist(dfd['INSPECTION_DATE'], bins=10)\n",
    "plt.xticks(rotation='vertical')\n",
    "print(\"min date: %s\" % dfd['INSPECTION_DATE'].min().date())\n",
    "print(\"max date: %s\" % dfd['INSPECTION_DATE'].max().date())\n",
    "plt.show()"
   ]
  },
  {
   "cell_type": "code",
   "execution_count": 8,
   "metadata": {},
   "outputs": [
    {
     "data": {
      "text/html": [
       "<div>\n",
       "<style scoped>\n",
       "    .dataframe tbody tr th:only-of-type {\n",
       "        vertical-align: middle;\n",
       "    }\n",
       "\n",
       "    .dataframe tbody tr th {\n",
       "        vertical-align: top;\n",
       "    }\n",
       "\n",
       "    .dataframe thead th {\n",
       "        text-align: right;\n",
       "    }\n",
       "</style>\n",
       "<table border=\"1\" class=\"dataframe\">\n",
       "  <thead>\n",
       "    <tr style=\"text-align: right;\">\n",
       "      <th></th>\n",
       "      <th>ROW_ID</th>\n",
       "      <th>pct</th>\n",
       "    </tr>\n",
       "    <tr>\n",
       "      <th>SEVERITY</th>\n",
       "      <th></th>\n",
       "      <th></th>\n",
       "    </tr>\n",
       "  </thead>\n",
       "  <tbody>\n",
       "    <tr>\n",
       "      <th>C - Crucial</th>\n",
       "      <td>2400</td>\n",
       "      <td>0.038899</td>\n",
       "    </tr>\n",
       "    <tr>\n",
       "      <th>M - Minor</th>\n",
       "      <td>32280</td>\n",
       "      <td>0.523194</td>\n",
       "    </tr>\n",
       "    <tr>\n",
       "      <th>NA - Not Applicable</th>\n",
       "      <td>4048</td>\n",
       "      <td>0.065610</td>\n",
       "    </tr>\n",
       "    <tr>\n",
       "      <th>S - Significant</th>\n",
       "      <td>22970</td>\n",
       "      <td>0.372297</td>\n",
       "    </tr>\n",
       "  </tbody>\n",
       "</table>\n",
       "</div>"
      ],
      "text/plain": [
       "                     ROW_ID       pct\n",
       "SEVERITY                             \n",
       "C - Crucial            2400  0.038899\n",
       "M - Minor             32280  0.523194\n",
       "NA - Not Applicable    4048  0.065610\n",
       "S - Significant       22970  0.372297"
      ]
     },
     "execution_count": 8,
     "metadata": {},
     "output_type": "execute_result"
    }
   ],
   "source": [
    "# severity\n",
    "df_severe = dfd[['SEVERITY', 'ROW_ID']].groupby('SEVERITY').count()\n",
    "df_severe['pct'] = df_severe['ROW_ID'] / df_severe['ROW_ID'].sum()\n",
    "df_severe"
   ]
  },
  {
   "cell_type": "markdown",
   "metadata": {},
   "source": [
    "### Fines"
   ]
  },
  {
   "cell_type": "code",
   "execution_count": 9,
   "metadata": {},
   "outputs": [
    {
     "data": {
      "text/plain": [
       "array(['Conviction - Fined',\n",
       "       'Conviction - Fined & Order to Close by Court',\n",
       "       'Charges Withdrawn', 'Conviction - Suspended Sentence',\n",
       "       'Charges Quashed'], dtype=object)"
      ]
     },
     "execution_count": 9,
     "metadata": {},
     "output_type": "execute_result"
    }
   ],
   "source": [
    "df_fined = dfd[(pd.notnull(dfd['AMOUNT_FINED'])) & (dfd['AMOUNT_FINED'] != ' ')].copy()\n",
    "df_fined['COURT_OUTCOME'].unique()"
   ]
  },
  {
   "cell_type": "code",
   "execution_count": 10,
   "metadata": {},
   "outputs": [],
   "source": [
    "fine_map = {\n",
    "    'Conviction - Fined': True,\n",
    "    'Conviction - Fined & Order to Close by Court': True,\n",
    "    'Charges Withdrawn': False, \n",
    "    'Conviction - Suspended Sentence': True,\n",
    "    'Charges Quashed': False\n",
    "}"
   ]
  },
  {
   "cell_type": "code",
   "execution_count": 11,
   "metadata": {},
   "outputs": [],
   "source": [
    "df_fined['Convicted'] = df_fined['COURT_OUTCOME'].apply(lambda x: fine_map[x])\n",
    "df_fined['dollar_amt'] = df_fined['AMOUNT_FINED'].apply(lambda x: float(x))"
   ]
  },
  {
   "cell_type": "code",
   "execution_count": 12,
   "metadata": {},
   "outputs": [
    {
     "data": {
      "text/html": [
       "<div>\n",
       "<style scoped>\n",
       "    .dataframe tbody tr th:only-of-type {\n",
       "        vertical-align: middle;\n",
       "    }\n",
       "\n",
       "    .dataframe tbody tr th {\n",
       "        vertical-align: top;\n",
       "    }\n",
       "\n",
       "    .dataframe thead th {\n",
       "        text-align: right;\n",
       "    }\n",
       "</style>\n",
       "<table border=\"1\" class=\"dataframe\">\n",
       "  <thead>\n",
       "    <tr style=\"text-align: right;\">\n",
       "      <th></th>\n",
       "      <th>ROW_ID</th>\n",
       "      <th>ESTABLISHMENT_ID</th>\n",
       "      <th>INSPECTION_ID</th>\n",
       "      <th>ESTABLISHMENT_NAME</th>\n",
       "      <th>ESTABLISHMENTTYPE</th>\n",
       "      <th>ESTABLISHMENT_ADDRESS</th>\n",
       "      <th>LATITUDE</th>\n",
       "      <th>LONGITUDE</th>\n",
       "      <th>ESTABLISHMENT_STATUS</th>\n",
       "      <th>MINIMUM_INSPECTIONS_PERYEAR</th>\n",
       "      <th>INFRACTION_DETAILS</th>\n",
       "      <th>INSPECTION_DATE</th>\n",
       "      <th>SEVERITY</th>\n",
       "      <th>ACTION</th>\n",
       "      <th>COURT_OUTCOME</th>\n",
       "      <th>AMOUNT_FINED</th>\n",
       "      <th>Convicted</th>\n",
       "      <th>dollar_amt</th>\n",
       "    </tr>\n",
       "  </thead>\n",
       "  <tbody>\n",
       "    <tr>\n",
       "      <th>695</th>\n",
       "      <td>696</td>\n",
       "      <td>9001150</td>\n",
       "      <td>103920617</td>\n",
       "      <td>STARBUCKS</td>\n",
       "      <td>Restaurant</td>\n",
       "      <td>1088 YONGE ST</td>\n",
       "      <td>43.677997</td>\n",
       "      <td>-79.390257</td>\n",
       "      <td>Pass</td>\n",
       "      <td>1</td>\n",
       "      <td>Operate food premise - fail to keep facility s...</td>\n",
       "      <td>2017-02-28</td>\n",
       "      <td>M - Minor</td>\n",
       "      <td>Ticket</td>\n",
       "      <td>Conviction - Fined</td>\n",
       "      <td>65.00</td>\n",
       "      <td>True</td>\n",
       "      <td>65.0</td>\n",
       "    </tr>\n",
       "    <tr>\n",
       "      <th>853</th>\n",
       "      <td>854</td>\n",
       "      <td>9001425</td>\n",
       "      <td>104105703</td>\n",
       "      <td>BERNARD'S PILIPINO SPECIALTIES</td>\n",
       "      <td>Food Take Out</td>\n",
       "      <td>1534 QUEEN ST W</td>\n",
       "      <td>43.640060</td>\n",
       "      <td>-79.439330</td>\n",
       "      <td>Conditional Pass</td>\n",
       "      <td>3</td>\n",
       "      <td>Fail to Hold a Valid Food Handler's Certificat...</td>\n",
       "      <td>2017-12-01</td>\n",
       "      <td>NA - Not Applicable</td>\n",
       "      <td>Ticket</td>\n",
       "      <td>Conviction - Fined</td>\n",
       "      <td>63.50</td>\n",
       "      <td>True</td>\n",
       "      <td>63.5</td>\n",
       "    </tr>\n",
       "    <tr>\n",
       "      <th>854</th>\n",
       "      <td>855</td>\n",
       "      <td>9001425</td>\n",
       "      <td>104105703</td>\n",
       "      <td>BERNARD'S PILIPINO SPECIALTIES</td>\n",
       "      <td>Food Take Out</td>\n",
       "      <td>1534 QUEEN ST W</td>\n",
       "      <td>43.640060</td>\n",
       "      <td>-79.439330</td>\n",
       "      <td>Conditional Pass</td>\n",
       "      <td>3</td>\n",
       "      <td>Operate food premise - fail to keep facility s...</td>\n",
       "      <td>2017-12-01</td>\n",
       "      <td>M - Minor</td>\n",
       "      <td>Ticket</td>\n",
       "      <td>Conviction - Fined</td>\n",
       "      <td>63.50</td>\n",
       "      <td>True</td>\n",
       "      <td>63.5</td>\n",
       "    </tr>\n",
       "    <tr>\n",
       "      <th>855</th>\n",
       "      <td>856</td>\n",
       "      <td>9001425</td>\n",
       "      <td>104105703</td>\n",
       "      <td>BERNARD'S PILIPINO SPECIALTIES</td>\n",
       "      <td>Food Take Out</td>\n",
       "      <td>1534 QUEEN ST W</td>\n",
       "      <td>43.640060</td>\n",
       "      <td>-79.439330</td>\n",
       "      <td>Conditional Pass</td>\n",
       "      <td>3</td>\n",
       "      <td>Operator fail to ensure room kept free from ma...</td>\n",
       "      <td>2017-12-01</td>\n",
       "      <td>M - Minor</td>\n",
       "      <td>Ticket</td>\n",
       "      <td>Conviction - Fined</td>\n",
       "      <td>63.50</td>\n",
       "      <td>True</td>\n",
       "      <td>63.5</td>\n",
       "    </tr>\n",
       "    <tr>\n",
       "      <th>858</th>\n",
       "      <td>859</td>\n",
       "      <td>9001425</td>\n",
       "      <td>104105703</td>\n",
       "      <td>BERNARD'S PILIPINO SPECIALTIES</td>\n",
       "      <td>Food Take Out</td>\n",
       "      <td>1534 QUEEN ST W</td>\n",
       "      <td>43.640060</td>\n",
       "      <td>-79.439330</td>\n",
       "      <td>Conditional Pass</td>\n",
       "      <td>3</td>\n",
       "      <td>Store hazardous foods at internal temperature ...</td>\n",
       "      <td>2017-12-01</td>\n",
       "      <td>C - Crucial</td>\n",
       "      <td>Summons</td>\n",
       "      <td>Conviction - Fined</td>\n",
       "      <td>1130</td>\n",
       "      <td>True</td>\n",
       "      <td>1130.0</td>\n",
       "    </tr>\n",
       "  </tbody>\n",
       "</table>\n",
       "</div>"
      ],
      "text/plain": [
       "     ROW_ID  ESTABLISHMENT_ID  INSPECTION_ID              ESTABLISHMENT_NAME  \\\n",
       "695     696           9001150      103920617                       STARBUCKS   \n",
       "853     854           9001425      104105703  BERNARD'S PILIPINO SPECIALTIES   \n",
       "854     855           9001425      104105703  BERNARD'S PILIPINO SPECIALTIES   \n",
       "855     856           9001425      104105703  BERNARD'S PILIPINO SPECIALTIES   \n",
       "858     859           9001425      104105703  BERNARD'S PILIPINO SPECIALTIES   \n",
       "\n",
       "    ESTABLISHMENTTYPE ESTABLISHMENT_ADDRESS   LATITUDE  LONGITUDE  \\\n",
       "695        Restaurant        1088 YONGE ST   43.677997 -79.390257   \n",
       "853     Food Take Out       1534 QUEEN ST W  43.640060 -79.439330   \n",
       "854     Food Take Out       1534 QUEEN ST W  43.640060 -79.439330   \n",
       "855     Food Take Out       1534 QUEEN ST W  43.640060 -79.439330   \n",
       "858     Food Take Out       1534 QUEEN ST W  43.640060 -79.439330   \n",
       "\n",
       "    ESTABLISHMENT_STATUS  MINIMUM_INSPECTIONS_PERYEAR  \\\n",
       "695                 Pass                            1   \n",
       "853     Conditional Pass                            3   \n",
       "854     Conditional Pass                            3   \n",
       "855     Conditional Pass                            3   \n",
       "858     Conditional Pass                            3   \n",
       "\n",
       "                                    INFRACTION_DETAILS INSPECTION_DATE  \\\n",
       "695  Operate food premise - fail to keep facility s...      2017-02-28   \n",
       "853  Fail to Hold a Valid Food Handler's Certificat...      2017-12-01   \n",
       "854  Operate food premise - fail to keep facility s...      2017-12-01   \n",
       "855  Operator fail to ensure room kept free from ma...      2017-12-01   \n",
       "858  Store hazardous foods at internal temperature ...      2017-12-01   \n",
       "\n",
       "                SEVERITY   ACTION       COURT_OUTCOME AMOUNT_FINED  Convicted  \\\n",
       "695            M - Minor   Ticket  Conviction - Fined        65.00       True   \n",
       "853  NA - Not Applicable   Ticket  Conviction - Fined        63.50       True   \n",
       "854            M - Minor   Ticket  Conviction - Fined        63.50       True   \n",
       "855            M - Minor   Ticket  Conviction - Fined        63.50       True   \n",
       "858          C - Crucial  Summons  Conviction - Fined         1130       True   \n",
       "\n",
       "     dollar_amt  \n",
       "695        65.0  \n",
       "853        63.5  \n",
       "854        63.5  \n",
       "855        63.5  \n",
       "858      1130.0  "
      ]
     },
     "execution_count": 12,
     "metadata": {},
     "output_type": "execute_result"
    }
   ],
   "source": [
    "df_fined.head()"
   ]
  },
  {
   "cell_type": "code",
   "execution_count": 13,
   "metadata": {},
   "outputs": [
    {
     "data": {
      "image/png": "[encoded data removed]",
      "text/plain": [
       "<Figure size 432x288 with 1 Axes>"
      ]
     },
     "metadata": {
      "needs_background": "light"
     },
     "output_type": "display_data"
    }
   ],
   "source": [
    "# any fines?\n",
    "plt.hist(df_fined[df_fined['Convicted']]['dollar_amt'], alpha=0.5, label='Convicted', bins=50)\n",
    "plt.hist(df_fined[~df_fined['Convicted']]['dollar_amt'], alpha=0.5, label='Not Convicted')\n",
    "plt.legend()\n",
    "plt.show()"
   ]
  },
  {
   "cell_type": "code",
   "execution_count": 16,
   "metadata": {},
   "outputs": [],
   "source": [
    "dft = pd.read_pickle('results/tor_rest.p')"
   ]
  },
  {
   "cell_type": "code",
   "execution_count": 17,
   "metadata": {},
   "outputs": [
    {
     "data": {
      "text/plain": [
       "(10914, 14)"
      ]
     },
     "execution_count": 17,
     "metadata": {},
     "output_type": "execute_result"
    }
   ],
   "source": [
    "dft.shape"
   ]
  },
  {
   "cell_type": "markdown",
   "metadata": {},
   "source": [
    "### Joining"
   ]
  },
  {
   "cell_type": "code",
   "execution_count": 18,
   "metadata": {},
   "outputs": [],
   "source": [
    "dfd = dfd.set_index('ROW_ID')"
   ]
  },
  {
   "cell_type": "code",
   "execution_count": 19,
   "metadata": {},
   "outputs": [
    {
     "data": {
      "text/html": [
       "<div>\n",
       "<style scoped>\n",
       "    .dataframe tbody tr th:only-of-type {\n",
       "        vertical-align: middle;\n",
       "    }\n",
       "\n",
       "    .dataframe tbody tr th {\n",
       "        vertical-align: top;\n",
       "    }\n",
       "\n",
       "    .dataframe thead th {\n",
       "        text-align: right;\n",
       "    }\n",
       "</style>\n",
       "<table border=\"1\" class=\"dataframe\">\n",
       "  <thead>\n",
       "    <tr style=\"text-align: right;\">\n",
       "      <th></th>\n",
       "      <th>name</th>\n",
       "      <th>address</th>\n",
       "    </tr>\n",
       "    <tr>\n",
       "      <th>ROW_ID</th>\n",
       "      <th></th>\n",
       "      <th></th>\n",
       "    </tr>\n",
       "  </thead>\n",
       "  <tbody>\n",
       "    <tr>\n",
       "      <th>1</th>\n",
       "      <td>sai-lila khaman dhokla house</td>\n",
       "      <td>870 markham rd</td>\n",
       "    </tr>\n",
       "  </tbody>\n",
       "</table>\n",
       "</div>"
      ],
      "text/plain": [
       "                                name          address\n",
       "ROW_ID                                               \n",
       "1       sai-lila khaman dhokla house  870 markham rd "
      ]
     },
     "metadata": {},
     "output_type": "display_data"
    },
    {
     "name": "stdout",
     "output_type": "stream",
     "text": [
      "(90520, 17)\n"
     ]
    },
    {
     "data": {
      "text/html": [
       "<div>\n",
       "<style scoped>\n",
       "    .dataframe tbody tr th:only-of-type {\n",
       "        vertical-align: middle;\n",
       "    }\n",
       "\n",
       "    .dataframe tbody tr th {\n",
       "        vertical-align: top;\n",
       "    }\n",
       "\n",
       "    .dataframe thead th {\n",
       "        text-align: right;\n",
       "    }\n",
       "</style>\n",
       "<table border=\"1\" class=\"dataframe\">\n",
       "  <thead>\n",
       "    <tr style=\"text-align: right;\">\n",
       "      <th></th>\n",
       "      <th>name</th>\n",
       "      <th>address</th>\n",
       "    </tr>\n",
       "    <tr>\n",
       "      <th>business_id</th>\n",
       "      <th></th>\n",
       "      <th></th>\n",
       "    </tr>\n",
       "  </thead>\n",
       "  <tbody>\n",
       "    <tr>\n",
       "      <th>9A2quhZLyWk0akUetBd8hQ</th>\n",
       "      <td>bnc cake house</td>\n",
       "      <td>631 bloor st w</td>\n",
       "    </tr>\n",
       "  </tbody>\n",
       "</table>\n",
       "</div>"
      ],
      "text/plain": [
       "                                  name         address\n",
       "business_id                                           \n",
       "9A2quhZLyWk0akUetBd8hQ  bnc cake house  631 bloor st w"
      ]
     },
     "metadata": {},
     "output_type": "display_data"
    },
    {
     "name": "stdout",
     "output_type": "stream",
     "text": [
      "(10914, 14)\n"
     ]
    }
   ],
   "source": [
    "# converting all to lower case\n",
    "dfd['name'] = dfd['ESTABLISHMENT_NAME'].apply(lambda x: x.lower())\n",
    "dfd['address'] = dfd['ESTABLISHMENT_ADDRESS'].apply(lambda x: x.lower())\n",
    "dft['name'] = dft['name'].apply(lambda x: x.lower())\n",
    "dft['address'] = dft['address'].apply(lambda x: x.lower())\n",
    "\n",
    "display(dfd[:1][['name', 'address']])\n",
    "print(dfd.shape)\n",
    "\n",
    "display(dft[:1][['name', 'address']])\n",
    "print(dft.shape)"
   ]
  },
  {
   "cell_type": "code",
   "execution_count": 20,
   "metadata": {},
   "outputs": [
    {
     "data": {
      "text/plain": [
       "Index(['ESTABLISHMENT_ID', 'INSPECTION_ID', 'ESTABLISHMENT_NAME',\n",
       "       'ESTABLISHMENTTYPE', 'ESTABLISHMENT_ADDRESS', 'LATITUDE', 'LONGITUDE',\n",
       "       'ESTABLISHMENT_STATUS', 'MINIMUM_INSPECTIONS_PERYEAR',\n",
       "       'INFRACTION_DETAILS', 'INSPECTION_DATE', 'SEVERITY', 'ACTION',\n",
       "       'COURT_OUTCOME', 'AMOUNT_FINED', 'name', 'address'],\n",
       "      dtype='object')"
      ]
     },
     "execution_count": 20,
     "metadata": {},
     "output_type": "execute_result"
    }
   ],
   "source": [
    "dfd.columns"
   ]
  },
  {
   "cell_type": "code",
   "execution_count": null,
   "metadata": {},
   "outputs": [],
   "source": [
    "# required combined address and name match score\n",
    "CUT_OFF_SCORE = 0.8\n",
    "\n",
    "total_count = dft.shape[0]\n",
    "final_mapper = {}\n",
    "for i, row in enumerate(dft.iterrows()):\n",
    "    cur_bus_id = row[0]\n",
    "    cur_name = row[1]['name']\n",
    "    cur_addr = row[1]['address']\n",
    "    print(\"processing (%s/%s) business: %s at address: %s with id: %s\" % (i+1\n",
    "                                                                          , total_count\n",
    "                                                                          , cur_name\n",
    "                                                                          , cur_addr\n",
    "                                                                          , cur_bus_id))\n",
    "    \n",
    "    dfd['match_name'] = dfd['name'].apply(lambda x: fuzz.partial_ratio(x, cur_name))\n",
    "    dfd['match_addr'] = dfd['address'].apply(lambda x: fuzz.partial_ratio(x, cur_addr))\n",
    "    dfd['score'] = (dfd['match_name'] /  100) * (dfd['match_addr'] / 100)\n",
    "    dfd = dfd.sort_values('score', ascending=False)\n",
    "    if dfd['score'].values[0] > CUT_OFF_SCORE:\n",
    "        print(\"\\n!!! Found Match for \\n(%s, %s) in the dinesafe db \\n at (ROW_ID: %s, %s, %s)\" % (cur_name\n",
    "                                                                                       , cur_addr\n",
    "                                                                                       , dfd.index[0]\n",
    "                                                                                       , dfd['name'].values[0]\n",
    "                                                                                       , dfd['address'].values[0]))\n",
    "        final_mapper[cur_bus_id] = dfd.index[0]\n",
    "\n",
    "# exporting\n",
    "df_map = pd.DataFrame(final_mapper, index=['mapped_ROW_ID']).T\n",
    "df_map.index.name = 'yelp_business_id'\n",
    "df_map.to_pickle('univ/mapped_dinesafe.p')"
   ]
  },
  {
   "cell_type": "code",
   "execution_count": null,
   "metadata": {},
   "outputs": [],
   "source": [
    "# run full data set, report reviews, restaurants, labels"
   ]
  }
 ],
 "metadata": {
  "kernelspec": {
   "display_name": "Python 3",
   "language": "python",
   "name": "python3"
  },
  "language_info": {
   "codemirror_mode": {
    "name": "ipython",
    "version": 3
   },
   "file_extension": ".py",
   "mimetype": "text/x-python",
   "name": "python",
   "nbconvert_exporter": "python",
   "pygments_lexer": "ipython3",
   "version": "3.6.6"
  }
 },
 "nbformat": 4,
 "nbformat_minor": 2
}
